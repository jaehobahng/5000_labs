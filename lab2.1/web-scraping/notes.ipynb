{
  "cells": [
    {
      "cell_type": "markdown",
      "metadata": {},
      "source": [
        "# Web scraping"
      ]
    },
    {
      "cell_type": "markdown",
      "metadata": {},
      "source": [
        "\n",
        "## Overview\n",
        "\n",
        "- Web scraping is automated data collection from websites.\n",
        "- Websites may prohibit scraping due to data protection or server overload concerns.\n",
        "- **Always check a website's acceptable use policy before web scraping.**\n",
        "- `Warning`: Web scraping against a website's wishes can be illegal\n",
        "  - Wikipedia content is hosted under a \"common license\" \n",
        "  - For that reason, we will ONLY use Wikipedia for scraping in the DSAN program\n",
        "  - **Please do not scrap any website other than Wikipedia in the DSAN program**\n",
        "  - Generally, It is better to use APIs, rather than scraping the web\n",
        "- To begin we obtain HTML code from a Wikipedia web page.\n",
        "* **Source**: All content from these slides is modified from this URL\n",
        "  * [https://realpython.com/python-web-scraping-practical-introduction/](https://realpython.com/python-web-scraping-practical-introduction/)\n"
      ]
    },
    {
      "cell_type": "markdown",
      "metadata": {},
      "source": [
        "## Viewing source code\n",
        "\n",
        "* Fun fact: you can view a webpage's **HTML source code** by right-clicking on the page and selecting \"View Source\"\n",
        "  * On older websites, this means we can just request `https://www.page.com` and parse the returned HTML\n",
        "* Less fun fact: modern web frameworks like **React** or **Next.js** generate pages dynamically using JS, meaning that what you see on the page will not be visible in the HTML source\n",
        "  * Data scraping still possible for these websites, however, using browser automation tools like [https://www.selenium.dev/](https://www.selenium.dev/)"
      ]
    },
    {
      "cell_type": "markdown",
      "metadata": {},
      "source": [
        "## Scraping Difficulty\n",
        "\n",
        "Here we show different level of Difficulty web-scrapping \n",
        "\n",
        "| | How is data loaded? | Solution |\n",
        "|-|-|-|\n",
        "| **Easy** | Data in HTML source | \"View Source\" |\n",
        "| **Medium** | Data loaded dynamically via API | \"View Source\", find API call, request programmatically |\n",
        "| **Hard** | Data loaded dynamically via web framework | Use <a href=\"https://www.selenium.dev/\" target=\"_blank\">Selenium</a> |\n"
      ]
    },
    {
      "cell_type": "markdown",
      "metadata": {},
      "source": [
        "## Example:\n",
        "* Consider the following website: [https://en.wikipedia.org/wiki/Georgetown_University](https://en.wikipedia.org/wiki/Georgetown_University)\n",
        "![](images/2023-09-10-22-59-31.png)"
      ]
    },
    {
      "cell_type": "markdown",
      "metadata": {},
      "source": [
        "## Getting starting {.scrollable}\n",
        "\n",
        "- Python's standard library includes the `urllib` package for web scraping.\n",
        "- `urllib.request` module in `urllib` has the `urlopen()` for opening URLs.\n",
        "- `urlopen()` import it by typing the appropriate command"
      ]
    },
    {
      "cell_type": "code",
      "execution_count": 21,
      "metadata": {},
      "outputs": [
        {
          "name": "stdout",
          "output_type": "stream",
          "text": [
            "<http.client.HTTPResponse object at 0x105c4e560>\n"
          ]
        }
      ],
      "source": [
        "#| code-fold: false\n",
        "\n",
        "from urllib.request import urlopen\n",
        "page = urlopen(\"https://en.wikipedia.org/wiki/Georgetown_University\")\n",
        "print(page)"
      ]
    },
    {
      "cell_type": "markdown",
      "metadata": {},
      "source": [
        "* To extract HTML from a webpage:\n",
        "  - Utilize the HTTPResponse object's .read() method to obtain a byte sequence.\n",
        "  - Apply .decode() with UTF-8 to convert bytes into a string."
      ]
    },
    {
      "cell_type": "code",
      "execution_count": 22,
      "metadata": {},
      "outputs": [
        {
          "name": "stdout",
          "output_type": "stream",
          "text": [
            "<class 'str'>\n",
            "<!DOCTYPE html>\n",
            "<html class=\"client-nojs vector-feature-language-in-header-enabled vector-feature-language-in-main-page-header-disabled vector-feature-sticky-header-disabled vector-feature-page-tools-pinned-disabled vector-feature-toc-pinned-enabled vector-feature-main-menu-pinned-disabled vector-feature-limited-width-clientpref-1 vector-feature-limited-width-content-enabled vector-feature-zebra-design-disabled vector-feature-custom-font-size-clientpref-disabled\" lang=\"en\" dir=\"ltr\">\n",
            "<head>\n",
            "<meta charset=\"UTF-8\">\n",
            "<title>Georgetown University - Wikipedia</title>\n",
            "<script>(function(){var className=\"client-js vector-feature-language-in-header-enabled vector-feature-language-in-main-page-header-disabled vector-feature-sticky-header-disabled vector-feature-page-tools-pinned-disabled vector-feature-toc-pinned-enabled vector-feature-main-menu-pinned-disabled vector-feature-limited-width-clientpref-1 vector-feature-limited-width-content-enabled vector-feature-zebra-design-disabled vector-featur\n"
          ]
        }
      ],
      "source": [
        "#| code-fold: false\n",
        "\n",
        "html_bytes = page.read()\n",
        "html_str = html_bytes.decode(\"utf-8\")\n",
        "\n",
        "print(type(html_str))\n",
        "print(html_str[0:1000])"
      ]
    },
    {
      "cell_type": "markdown",
      "metadata": {},
      "source": [
        "## Parsing HTML: String methods\n",
        "\n",
        "* You have the option to obtain information from the HTML using various methods.\n",
        "- Extracting text from HTML can be done with string methods.\n",
        "- e.g. using `.find()` to locate and extract data within HTML tags like `<title>`.\n",
        "- String slicing is used to extract content between specific indices.\n",
        "- `.find()` returns the index of the first occurrence of a substring, i.e. the `<title>` tag.\n",
        "- It's a practical way to access specific data within HTML content."
      ]
    },
    {
      "cell_type": "code",
      "execution_count": 29,
      "metadata": {},
      "outputs": [
        {
          "name": "stdout",
          "output_type": "stream",
          "text": [
            "519 526 559\n",
            "Georgetown University - Wikipedia\n"
          ]
        }
      ],
      "source": [
        "#| code-fold: false\n",
        "\n",
        "title_index = html.find(\"<title>\")\n",
        "start_index = title_index + len(\"<title>\")\n",
        "end_index = html.find(\"</title>\")\n",
        "print(title_index,start_index,end_index)\n",
        "print(html[start_index:end_index])"
      ]
    },
    {
      "cell_type": "markdown",
      "metadata": {},
      "source": [
        "# Understanding URLs"
      ]
    },
    {
      "cell_type": "markdown",
      "metadata": {},
      "source": [
        "## URL: Unified Resource Locator\n",
        "\n",
        "![](images/2023-09-11-00-17-22.png)\n",
        "\n",
        "- **URL**: Begins with the base URL (e.g., https://example.com).\n",
        "- **Query Parameters**: Separated from the base URL by a question mark (?).\n",
        "- **Parameter Key-Value Pairs**: Key and value pairs separated by an equal sign (=).\n",
        "- **Multiple Parameters**: Multiple key-value pairs separated by ampersands (&).\n",
        "- **Encoding**: Special characters may be URL-encoded (e.g., spaces become \"%20\").\n",
        "- **Example**: https://example.com/search?q=keyword&lang=en&page=1"
      ]
    },
    {
      "cell_type": "markdown",
      "metadata": {},
      "source": [
        "## Details {.smaller}\n",
        "\n",
        "A URL query typically consists of additional information or parameters appended to a base URL, allowing you to send data to a web server when making an HTTP request. Here are the details of a URL query:\n",
        "\n",
        "- **Base URL**: The URL that represents the main web page or resource you want to access (e.g., https://example.com).\n",
        "\n",
        "- **Query Parameters**: These are key-value pairs that provide additional information to the web server. Query parameters are separated from the base URL by a question mark (?).\n",
        "\n",
        "- **Key-Value Pairs**: Each query parameter consists of a key and a value separated by an equal sign (=). For example, in the URL https://example.com/search?q=keyword&lang=en&page=1:\n",
        "\n",
        "  - \"q\" is the key, and \"keyword\" is the value.\n",
        "  - \"lang\" is the key, and \"en\" is the value.\n",
        "  - \"page\" is the key, and \"1\" is the value.\n",
        "\n",
        "- **Multiple Parameters**: Include multiple query parameters in a single URL by separating them with ampersands (&). For example, in https://example.com/search?q=keyword&lang=en&page=1, three query parameters: \"q,\" \"lang,\" and \"page.\"\n",
        "\n",
        "- **URL Encoding**: Special characters, e.g spaces or non-alphanumeric characters, may need to be URL-encoded to ensure they are transmitted correctly. For instance, a space is encoded as \"%20,\" and other characters have their own encodings.\n",
        "\n",
        "- **Example**: In a search engine query, you might use a URL query to specify the search term (\"q\"), the language preference (\"lang\"), and the page number (\"page\"). The resulting URL could look like this:\n",
        "  -  `https://example.com/search?q=python%20tutorial&lang=en&page=2.`\n",
        "\n",
        "<!-- - **HTTP Method**: The HTTP method used to make the request (e.g., GET or POST) determines how the query parameters are sent to the server. In a GET request, query parameters are appended to the URL, while in a POST request, they are sent in the request body. -->\n",
        "\n",
        "URL queries are used to pass data to the server for various purposes, e.g searching, filtering, or customizing content."
      ]
    },
    {
      "cell_type": "markdown",
      "metadata": {},
      "source": [
        "## Example\n",
        "\n",
        "* `https://www.amazon.com/s?k=flip+flops`\n",
        "\n",
        "![](images/2023-09-11-00-20-35.png)"
      ]
    },
    {
      "cell_type": "markdown",
      "metadata": {},
      "source": [
        "## Example \n",
        "\n",
        "* `https://www.amazon.com/s?k=flip+flops&page=3`\n",
        "![](images/2023-09-11-00-24-20.png)"
      ]
    },
    {
      "cell_type": "markdown",
      "metadata": {},
      "source": [
        "# Regular Expressions"
      ]
    },
    {
      "cell_type": "markdown",
      "metadata": {},
      "source": [
        "## Overview \n",
        "\n",
        "- **Regular Expressions (Regexes)**: Patterns for searching text in strings.\n",
        "- **Python Support**: Utilized through the \"re\" module in Python.\n",
        "- **Programming General**: Widely used in multiple programming languages.\n",
        "- **Importing \"re\"**: Start by importing the \"re\" module in Python for regex functionality.\n",
        "- **Metacharacters**: Special characters in regular expressions for pattern representation.\n",
        "- **Example**: \"*\" denotes zero or more instances of the preceding character.\n"
      ]
    },
    {
      "cell_type": "markdown",
      "metadata": {},
      "source": [
        "## Getting started\n",
        "\n",
        "- **.findall()**: Function to find all text matching a specified regex pattern within a string.\n",
        "- `re.findall()`: Function takes two arguments.\n",
        "  - First argument: The regex pattern to match.\n",
        "  - Second argument: The string to test against the pattern.\n",
        "* the `re.findall()` function returns a list containing all non-overlapping matches of the specified regular expression pattern in the given string. Each element in the list represents a match found in the string. If no matches are found, it returns an empty list.\n",
        "* Pattern matching is case sensitive\n",
        "\n",
        "\n",
        "\n",
        "\n"
      ]
    },
    {
      "cell_type": "code",
      "execution_count": 85,
      "metadata": {},
      "outputs": [
        {
          "name": "stdout",
          "output_type": "stream",
          "text": [
            "['me', 'me', 'me']\n",
            "['me ', 'me ']\n",
            "['abc']\n",
            "['ac']\n",
            "['abc', 'ac']\n",
            "[]\n",
            "['ABC']\n"
          ]
        }
      ],
      "source": [
        "import re\n",
        "string=\"welcome to me home\"\n",
        "\n",
        "print(re.findall(\"me*\", string))\n",
        "print(re.findall(\"me* \", string))\n",
        "\n",
        "print(re.findall(\"ab*c\", \"abcd\"))\n",
        "print(re.findall(\"ab*c\", \"acc\"))\n",
        "print(re.findall(\"ab*c\", \"abcac\"))\n",
        "print(re.findall(\"ab*c\", \"abdc\"))\n",
        "print(re.findall(\"ab*c\", \"ABC\", re.IGNORECASE))\n",
        "\n"
      ]
    },
    {
      "cell_type": "markdown",
      "metadata": {},
      "source": [
        "## Wild-cards\n",
        "\n",
        "* You can use a period (.) to stand for any single character in a regular expression. For instance, you could find all the strings that contain the letters \"a\" and \"c\" separated by a single character as follows:\n",
        "* Similar to a single characeter wild-card \n",
        "* The regex pattern \".*\" matches any character repeated any number of times. For example, \"a.*c\" finds substrings starting with \"a\" and ending with \"c,\" with any content in between.\n",
        "  * Very similar to the `*` wild card in Linux bash scripting \n",
        "\n",
        "\n",
        "<!-- UNFINSHED STOPPED HERE -->\n",
        "<!-- Often, you use re.search() to search for a particular pattern inside a string. This function is somewhat more complicated than re.findall() because it returns an object called MatchObject that stores different groups of data. This is because there might be matches inside other matches, and re.search() returns every possible result. -->\n",
        "\n",
        "\n",
        "\n",
        "\n",
        "\n"
      ]
    },
    {
      "cell_type": "code",
      "execution_count": 96,
      "metadata": {},
      "outputs": [
        {
          "name": "stdout",
          "output_type": "stream",
          "text": [
            "['mississippi']\n",
            "[]\n",
            "['mississippi']\n"
          ]
        }
      ],
      "source": [
        "# only works as a single character while card\n",
        "print(re.findall(\"miss.ssippi\", \"mississippi\"))\n",
        "print(re.findall(\"miss.sippi\", \"mississippi\"))\n",
        "print(re.findall(\"mis.*pi\", \"mississippi\"))"
      ]
    },
    {
      "cell_type": "markdown",
      "metadata": {},
      "source": [
        "# Beautiful soup"
      ]
    },
    {
      "cell_type": "markdown",
      "metadata": {},
      "source": [
        "## Overview\n",
        "\n",
        "* Regular expressions are effective for pattern matching.\n",
        "* However, often it is better to use a dedicated HTML parser. \n",
        "* Python offers many tools for this, and `Beautiful Soup` is a popular choice.\n",
        "- **Beautiful Soup**: Python library for parsing HTML and XML documents.\n",
        "- **Purpose**: Extracts data from web pages efficiently.\n",
        "- **Features**: Navigates and searches the document tree, handles malformed markup.\n",
        "- **Benefits**: Simplifies HTML parsing, ideal for web scraping.\n",
        "- **Integration**: Compatible with various parsers like lxml and html5lib.\n",
        "- **Community**: Well-documented & widely used in web scraping & data extraction tasks.\n",
        "- Installation: `python -m pip install beautifulsoup4`\n",
        "- If Beautiful Soup lacks required functionality, consider exploring `lxml` library. It's more versatile but requires a steeper learning curve."
      ]
    },
    {
      "cell_type": "markdown",
      "metadata": {},
      "source": [
        "## Important BeautifulSoup methods\n",
        "\n",
        "- **BeautifulSoup()**: Creates a BeautifulSoup object for parsing HTML or XML.\n",
        "- **.find() and .find_all()**: Locate tags or elements based on criteria.\n",
        "- **.select()**: Uses CSS selectors to find elements.\n",
        "- **.get_text()**: Extracts text content from tags, removing HTML.\n",
        "- **.prettify()**: Formats the parsed document for readability.\n",
        "- **.parent and .children**: Access parent and child elements.\n",
        "- **.next_sibling and .previous_sibling**: Navigate to neighboring elements.\n",
        "- **.find_parent() and .find_next_sibling()**: Locate specific parent or sibling elements.\n",
        "- **.attrs**: Access tag attributes as a dictionary.\n",
        "- **.append() and .insert()**: Add new elements to the parsed document.\n",
        "- **.replace_with()**: Replace a tag or element with new content.\n",
        "- **.decompose()**: Remove a tag or element from the document.\n",
        "- **.encode() and .decode()**: Convert between Unicode and byte strings."
      ]
    },
    {
      "cell_type": "markdown",
      "metadata": {},
      "source": [
        "## Example {.scrollable}\n",
        "\n",
        "* Opens URL using `urlopen()`: Reads and stores HTML content as a string in 'html'.\n",
        "* Creates a BeautifulSoup object named 'soup' for parsing the HTML content.\n",
        "* The BeautifulSoup object 'soup' is created with two arguments: the HTML to be parsed and \"html.parser\" as the parser choice, which is Python's built-in HTML parser.\n",
        "- Access specific HTML tags using properties of the Tag object.\n",
        "- For instance, retrieve the `<title>` tag using the `.title` property."
      ]
    },
    {
      "cell_type": "code",
      "execution_count": 62,
      "metadata": {},
      "outputs": [
        {
          "name": "stdout",
          "output_type": "stream",
          "text": [
            "<class 'bs4.BeautifulSoup'>\n",
            "<title>Georgetown University - Wikipedia</title>\n",
            "Georgetown University - Wikipedia\n"
          ]
        }
      ],
      "source": [
        "#| code-fold: false\n",
        "\n",
        "from bs4 import BeautifulSoup\n",
        "from urllib.request import urlopen\n",
        "\n",
        "url = \"https://en.wikipedia.org/wiki/Georgetown_University\"\n",
        "page = urlopen(url)\n",
        "html = page.read().decode(\"utf-8\")\n",
        "soup = BeautifulSoup(html, \"html.parser\")\n",
        "print(type(soup))\n",
        "print(soup.title)\n",
        "print(soup.title.string) # remove html tags\n"
      ]
    },
    {
      "cell_type": "markdown",
      "metadata": {},
      "source": [
        "## Extracting text {.scrollable}\n",
        "\n",
        "- Use the 'soup' variable interactively for HTML content parsing.\n",
        "- In IDLE, utilize the `.get_text()` method to extract text and remove HTML tags."
      ]
    },
    {
      "cell_type": "code",
      "execution_count": 57,
      "metadata": {},
      "outputs": [
        {
          "name": "stdout",
          "output_type": "stream",
          "text": [
            "<title>Georgetown University - Wikipedia</title>\n",
            "<class 'str'>\n",
            "Georgetown University - Wikipedia\n",
            "Jump to content\n",
            "Main menu\n",
            "Main menu\n",
            "move to sidebar\n",
            "hide\n",
            "\t\tNavigation\n",
            "\t\n",
            "Main pageContentsCurrent eventsRandom articleAbout WikipediaContact usDonate\n",
            "\t\tContribute\n",
            "\t\n",
            "HelpLearn to editCommunity portalRecent changesUpload file\n",
            "Languages\n",
            "Language links are at the top of \n"
          ]
        }
      ],
      "source": [
        "#| code-fold: false\n",
        "import os\n",
        "html_text=soup.get_text()\n",
        "print(type(html_text))\n",
        "\n",
        "# REMOVE BLANK SPACES\n",
        "html_text = os.linesep.join([s for s in html_text.splitlines() if s])\n",
        "print(html_text[0:300])"
      ]
    },
    {
      "cell_type": "markdown",
      "metadata": {},
      "source": [
        "## Extracting images \n",
        "\n",
        "- HTML tags can directly indicate the data to retrieve.\n",
        "- Example: Extracting image URLs from the 'src' attribute of `<img>` tags.\n",
        "- Retrieves a list of all `<img>` tags from the HTML document.\n",
        "- The list contains Tag objects, not plain strings, which provide a user-friendly interface for working with tag information.\n",
        "\n",
        "<!-- unfinished : render some of the images -->"
      ]
    },
    {
      "cell_type": "code",
      "execution_count": 63,
      "metadata": {},
      "outputs": [
        {
          "data": {
            "text/plain": [
              "[<img alt=\"\" aria-hidden=\"true\" class=\"mw-logo-icon\" height=\"50\" src=\"/static/images/icons/wikipedia.png\" width=\"50\"/>,\n",
              " <img alt=\"Wikipedia\" class=\"mw-logo-wordmark\" src=\"/static/images/mobile/copyright/wikipedia-wordmark-en.svg\" style=\"width: 7.5em; height: 1.125em;\"/>,\n",
              " <img alt=\"The Free Encyclopedia\" class=\"mw-logo-tagline\" height=\"13\" src=\"/static/images/mobile/copyright/wikipedia-tagline-en.svg\" style=\"width: 7.3125em; height: 0.8125em;\" width=\"117\"/>,\n",
              " <img class=\"mw-file-element\" data-file-height=\"305\" data-file-width=\"260\" decoding=\"async\" height=\"176\" src=\"//upload.wikimedia.org/wikipedia/commons/thumb/d/d9/Georgetown_University_seal.svg/150px-Georgetown_University_seal.svg.png\" srcset=\"//upload.wikimedia.org/wikipedia/commons/thumb/d/d9/Georgetown_University_seal.svg/225px-Georgetown_University_seal.svg.png 1.5x, //upload.wikimedia.org/wikipedia/commons/thumb/d/d9/Georgetown_University_seal.svg/300px-Georgetown_University_seal.svg.png 2x\" width=\"150\"/>,\n",
              " <img class=\"mw-file-element\" data-file-height=\"70\" data-file-width=\"330\" decoding=\"async\" height=\"42\" src=\"//upload.wikimedia.org/wikipedia/commons/thumb/9/99/Georgetown_University_Logotype.svg/200px-Georgetown_University_Logotype.svg.png\" srcset=\"//upload.wikimedia.org/wikipedia/commons/thumb/9/99/Georgetown_University_Logotype.svg/300px-Georgetown_University_Logotype.svg.png 1.5x, //upload.wikimedia.org/wikipedia/commons/thumb/9/99/Georgetown_University_Logotype.svg/400px-Georgetown_University_Logotype.svg.png 2x\" width=\"200\"/>,\n",
              " <img alt=\"A painting of an elderly man seated wearing a long gray robe.\" class=\"mw-file-element\" data-file-height=\"921\" data-file-width=\"754\" decoding=\"async\" height=\"269\" src=\"//upload.wikimedia.org/wikipedia/commons/thumb/5/5b/John_Carroll_Gilbert_Stuart.jpg/220px-John_Carroll_Gilbert_Stuart.jpg\" srcset=\"//upload.wikimedia.org/wikipedia/commons/thumb/5/5b/John_Carroll_Gilbert_Stuart.jpg/330px-John_Carroll_Gilbert_Stuart.jpg 1.5x, //upload.wikimedia.org/wikipedia/commons/thumb/5/5b/John_Carroll_Gilbert_Stuart.jpg/440px-John_Carroll_Gilbert_Stuart.jpg 2x\" width=\"220\"/>,\n",
              " <img class=\"mw-file-element\" data-file-height=\"428\" data-file-width=\"656\" decoding=\"async\" height=\"144\" src=\"//upload.wikimedia.org/wikipedia/commons/thumb/a/a7/Proposal_to_establish_George-Town_Academy_%28Georgetown_University%29_-_1787.jpg/220px-Proposal_to_establish_George-Town_Academy_%28Georgetown_University%29_-_1787.jpg\" srcset=\"//upload.wikimedia.org/wikipedia/commons/thumb/a/a7/Proposal_to_establish_George-Town_Academy_%28Georgetown_University%29_-_1787.jpg/330px-Proposal_to_establish_George-Town_Academy_%28Georgetown_University%29_-_1787.jpg 1.5x, //upload.wikimedia.org/wikipedia/commons/thumb/a/a7/Proposal_to_establish_George-Town_Academy_%28Georgetown_University%29_-_1787.jpg/440px-Proposal_to_establish_George-Town_Academy_%28Georgetown_University%29_-_1787.jpg 2x\" width=\"220\"/>,\n",
              " <img alt=\"Black-and-white photo of several military men idling on a riverbank. Across the river are several large buildings\" class=\"mw-file-element\" data-file-height=\"2519\" data-file-width=\"3701\" decoding=\"async\" height=\"150\" src=\"//upload.wikimedia.org/wikipedia/commons/thumb/3/32/Georgetown_1861.jpg/220px-Georgetown_1861.jpg\" srcset=\"//upload.wikimedia.org/wikipedia/commons/thumb/3/32/Georgetown_1861.jpg/330px-Georgetown_1861.jpg 1.5x, //upload.wikimedia.org/wikipedia/commons/thumb/3/32/Georgetown_1861.jpg/440px-Georgetown_1861.jpg 2x\" width=\"220\"/>,\n",
              " <img alt=\"Black and white photo of an older man wearing black with a priest's colar and facing right.\" class=\"mw-file-element\" data-file-height=\"1484\" data-file-width=\"1113\" decoding=\"async\" height=\"293\" src=\"//upload.wikimedia.org/wikipedia/commons/thumb/a/a3/Patrick_Francis_Healy.jpg/220px-Patrick_Francis_Healy.jpg\" srcset=\"//upload.wikimedia.org/wikipedia/commons/thumb/a/a3/Patrick_Francis_Healy.jpg/330px-Patrick_Francis_Healy.jpg 1.5x, //upload.wikimedia.org/wikipedia/commons/thumb/a/a3/Patrick_Francis_Healy.jpg/440px-Patrick_Francis_Healy.jpg 2x\" width=\"220\"/>,\n",
              " <img alt=\"A large Gothic-style stone building dominated by a tall clocktower.\" class=\"mw-file-element\" data-file-height=\"1632\" data-file-width=\"1926\" decoding=\"async\" height=\"186\" src=\"//upload.wikimedia.org/wikipedia/commons/thumb/c/c1/Healy_Hall_Georgetown_University.jpg/220px-Healy_Hall_Georgetown_University.jpg\" srcset=\"//upload.wikimedia.org/wikipedia/commons/thumb/c/c1/Healy_Hall_Georgetown_University.jpg/330px-Healy_Hall_Georgetown_University.jpg 1.5x, //upload.wikimedia.org/wikipedia/commons/thumb/c/c1/Healy_Hall_Georgetown_University.jpg/440px-Healy_Hall_Georgetown_University.jpg 2x\" width=\"220\"/>,\n",
              " <img alt=\"Three young adults lie on grass reading books in front of a brick building with many windows.\" class=\"mw-file-element\" data-file-height=\"1782\" data-file-width=\"2592\" decoding=\"async\" height=\"151\" src=\"//upload.wikimedia.org/wikipedia/commons/thumb/a/a5/Georgetown_Jesuit_Residence.jpg/220px-Georgetown_Jesuit_Residence.jpg\" srcset=\"//upload.wikimedia.org/wikipedia/commons/thumb/a/a5/Georgetown_Jesuit_Residence.jpg/330px-Georgetown_Jesuit_Residence.jpg 1.5x, //upload.wikimedia.org/wikipedia/commons/thumb/a/a5/Georgetown_Jesuit_Residence.jpg/440px-Georgetown_Jesuit_Residence.jpg 2x\" width=\"220\"/>,\n",
              " <img class=\"mw-file-element\" data-file-height=\"576\" data-file-width=\"864\" decoding=\"async\" height=\"147\" src=\"//upload.wikimedia.org/wikipedia/commons/thumb/2/2c/Dahlgren_quad_in_winter.jpg/220px-Dahlgren_quad_in_winter.jpg\" srcset=\"//upload.wikimedia.org/wikipedia/commons/thumb/2/2c/Dahlgren_quad_in_winter.jpg/330px-Dahlgren_quad_in_winter.jpg 1.5x, //upload.wikimedia.org/wikipedia/commons/thumb/2/2c/Dahlgren_quad_in_winter.jpg/440px-Dahlgren_quad_in_winter.jpg 2x\" width=\"220\"/>,\n",
              " <img class=\"mw-file-element\" data-file-height=\"1148\" data-file-width=\"2000\" decoding=\"async\" height=\"126\" src=\"//upload.wikimedia.org/wikipedia/commons/thumb/d/d8/GeorgetownUniv.jpg/220px-GeorgetownUniv.jpg\" srcset=\"//upload.wikimedia.org/wikipedia/commons/thumb/d/d8/GeorgetownUniv.jpg/330px-GeorgetownUniv.jpg 1.5x, //upload.wikimedia.org/wikipedia/commons/thumb/d/d8/GeorgetownUniv.jpg/440px-GeorgetownUniv.jpg 2x\" width=\"220\"/>,\n",
              " <img class=\"mw-file-element\" data-file-height=\"3024\" data-file-width=\"4032\" decoding=\"async\" height=\"165\" src=\"//upload.wikimedia.org/wikipedia/commons/thumb/e/e0/Senior_Study_Room_%28Carroll_Parlor%29_at_the_Healy_Hall%2C_Georgetown_University.jpg/220px-Senior_Study_Room_%28Carroll_Parlor%29_at_the_Healy_Hall%2C_Georgetown_University.jpg\" srcset=\"//upload.wikimedia.org/wikipedia/commons/thumb/e/e0/Senior_Study_Room_%28Carroll_Parlor%29_at_the_Healy_Hall%2C_Georgetown_University.jpg/330px-Senior_Study_Room_%28Carroll_Parlor%29_at_the_Healy_Hall%2C_Georgetown_University.jpg 1.5x, //upload.wikimedia.org/wikipedia/commons/thumb/e/e0/Senior_Study_Room_%28Carroll_Parlor%29_at_the_Healy_Hall%2C_Georgetown_University.jpg/440px-Senior_Study_Room_%28Carroll_Parlor%29_at_the_Healy_Hall%2C_Georgetown_University.jpg 2x\" width=\"220\"/>,\n",
              " <img alt=\"Neutral decrease\" class=\"mw-file-element\" data-file-height=\"346\" data-file-width=\"347\" decoding=\"async\" height=\"11\" src=\"//upload.wikimedia.org/wikipedia/commons/thumb/5/54/Decrease_Neutral.svg/11px-Decrease_Neutral.svg.png\" srcset=\"//upload.wikimedia.org/wikipedia/commons/thumb/5/54/Decrease_Neutral.svg/17px-Decrease_Neutral.svg.png 1.5x, //upload.wikimedia.org/wikipedia/commons/thumb/5/54/Decrease_Neutral.svg/22px-Decrease_Neutral.svg.png 2x\" width=\"11\"/>,\n",
              " <img alt=\"Increase\" class=\"mw-file-element\" data-file-height=\"300\" data-file-width=\"300\" decoding=\"async\" height=\"11\" src=\"//upload.wikimedia.org/wikipedia/commons/thumb/b/b0/Increase2.svg/11px-Increase2.svg.png\" srcset=\"//upload.wikimedia.org/wikipedia/commons/thumb/b/b0/Increase2.svg/17px-Increase2.svg.png 1.5x, //upload.wikimedia.org/wikipedia/commons/thumb/b/b0/Increase2.svg/22px-Increase2.svg.png 2x\" width=\"11\"/>,\n",
              " <img alt=\"Decrease\" class=\"mw-file-element\" data-file-height=\"300\" data-file-width=\"300\" decoding=\"async\" height=\"11\" src=\"//upload.wikimedia.org/wikipedia/commons/thumb/e/ed/Decrease2.svg/11px-Decrease2.svg.png\" srcset=\"//upload.wikimedia.org/wikipedia/commons/thumb/e/ed/Decrease2.svg/17px-Decrease2.svg.png 1.5x, //upload.wikimedia.org/wikipedia/commons/thumb/e/ed/Decrease2.svg/22px-Decrease2.svg.png 2x\" width=\"11\"/>,\n",
              " <img alt=\"Decrease\" class=\"mw-file-element\" data-file-height=\"300\" data-file-width=\"300\" decoding=\"async\" height=\"11\" src=\"//upload.wikimedia.org/wikipedia/commons/thumb/e/ed/Decrease2.svg/11px-Decrease2.svg.png\" srcset=\"//upload.wikimedia.org/wikipedia/commons/thumb/e/ed/Decrease2.svg/17px-Decrease2.svg.png 1.5x, //upload.wikimedia.org/wikipedia/commons/thumb/e/ed/Decrease2.svg/22px-Decrease2.svg.png 2x\" width=\"11\"/>,\n",
              " <img alt=\"Decrease\" class=\"mw-file-element\" data-file-height=\"300\" data-file-width=\"300\" decoding=\"async\" height=\"11\" src=\"//upload.wikimedia.org/wikipedia/commons/thumb/e/ed/Decrease2.svg/11px-Decrease2.svg.png\" srcset=\"//upload.wikimedia.org/wikipedia/commons/thumb/e/ed/Decrease2.svg/17px-Decrease2.svg.png 1.5x, //upload.wikimedia.org/wikipedia/commons/thumb/e/ed/Decrease2.svg/22px-Decrease2.svg.png 2x\" width=\"11\"/>,\n",
              " <img alt=\"A large Georgian-era style building complete in red brick, classical columns and a statue in front\" class=\"mw-file-element\" data-file-height=\"1280\" data-file-width=\"960\" decoding=\"async\" height=\"293\" src=\"//upload.wikimedia.org/wikipedia/commons/thumb/5/5f/Georgetown_Medical_%26_Dental_School_Building.jpg/220px-Georgetown_Medical_%26_Dental_School_Building.jpg\" srcset=\"//upload.wikimedia.org/wikipedia/commons/thumb/5/5f/Georgetown_Medical_%26_Dental_School_Building.jpg/330px-Georgetown_Medical_%26_Dental_School_Building.jpg 1.5x, //upload.wikimedia.org/wikipedia/commons/thumb/5/5f/Georgetown_Medical_%26_Dental_School_Building.jpg/440px-Georgetown_Medical_%26_Dental_School_Building.jpg 2x\" width=\"220\"/>,\n",
              " <img alt=\"A panorama of numerous buildings, particularly the tall clocktower, above a stretch of brightly colored autumn trees all reflected in a river.\" class=\"mw-file-element\" data-file-height=\"1810\" data-file-width=\"2504\" decoding=\"async\" height=\"159\" src=\"//upload.wikimedia.org/wikipedia/commons/thumb/2/24/Georgetown_Riverview.jpg/220px-Georgetown_Riverview.jpg\" srcset=\"//upload.wikimedia.org/wikipedia/commons/thumb/2/24/Georgetown_Riverview.jpg/330px-Georgetown_Riverview.jpg 1.5x, //upload.wikimedia.org/wikipedia/commons/thumb/2/24/Georgetown_Riverview.jpg/440px-Georgetown_Riverview.jpg 2x\" width=\"220\"/>,\n",
              " <img class=\"mw-file-element\" data-file-height=\"1803\" data-file-width=\"2558\" decoding=\"async\" height=\"155\" src=\"//upload.wikimedia.org/wikipedia/commons/thumb/0/0c/Healy_Pink.jpg/220px-Healy_Pink.jpg\" srcset=\"//upload.wikimedia.org/wikipedia/commons/thumb/0/0c/Healy_Pink.jpg/330px-Healy_Pink.jpg 1.5x, //upload.wikimedia.org/wikipedia/commons/thumb/0/0c/Healy_Pink.jpg/440px-Healy_Pink.jpg 2x\" width=\"220\"/>,\n",
              " <img alt=\"Wide-angle view of the campus running along the Potomac River\" class=\"mw-file-element\" data-file-height=\"1200\" data-file-width=\"4231\" decoding=\"async\" height=\"142\" src=\"//upload.wikimedia.org/wikipedia/commons/thumb/3/33/Georgetown_University_Panorama_04_2012_1394.jpg/500px-Georgetown_University_Panorama_04_2012_1394.jpg\" srcset=\"//upload.wikimedia.org/wikipedia/commons/thumb/3/33/Georgetown_University_Panorama_04_2012_1394.jpg/750px-Georgetown_University_Panorama_04_2012_1394.jpg 1.5x, //upload.wikimedia.org/wikipedia/commons/thumb/3/33/Georgetown_University_Panorama_04_2012_1394.jpg/1000px-Georgetown_University_Panorama_04_2012_1394.jpg 2x\" width=\"500\"/>,\n",
              " <img alt=\"Two modern glass and concrete building side by side in front of an open grass lawn which has a short clocktower on the left side.\" class=\"mw-file-element\" data-file-height=\"526\" data-file-width=\"792\" decoding=\"async\" height=\"146\" src=\"//upload.wikimedia.org/wikipedia/commons/thumb/1/13/Georgetown_Law_Campus.JPG/220px-Georgetown_Law_Campus.JPG\" srcset=\"//upload.wikimedia.org/wikipedia/commons/thumb/1/13/Georgetown_Law_Campus.JPG/330px-Georgetown_Law_Campus.JPG 1.5x, //upload.wikimedia.org/wikipedia/commons/thumb/1/13/Georgetown_Law_Campus.JPG/440px-Georgetown_Law_Campus.JPG 2x\" width=\"220\"/>,\n",
              " <img class=\"mw-file-element\" data-file-height=\"650\" data-file-width=\"975\" decoding=\"async\" height=\"147\" src=\"//upload.wikimedia.org/wikipedia/en/thumb/d/da/SCSJPG.jpeg/220px-SCSJPG.jpeg\" srcset=\"//upload.wikimedia.org/wikipedia/en/thumb/d/da/SCSJPG.jpeg/330px-SCSJPG.jpeg 1.5x, //upload.wikimedia.org/wikipedia/en/thumb/d/da/SCSJPG.jpeg/440px-SCSJPG.jpeg 2x\" width=\"220\"/>,\n",
              " <img alt=\"A yellow stucco building with a red clay roof and several arched doors and windows, surrounded by green shrubs.\" class=\"mw-file-element\" data-file-height=\"2736\" data-file-width=\"3648\" decoding=\"async\" height=\"165\" src=\"//upload.wikimedia.org/wikipedia/commons/thumb/8/8e/Le_balze%2C_giardino_d%27inverno_02.JPG/220px-Le_balze%2C_giardino_d%27inverno_02.JPG\" srcset=\"//upload.wikimedia.org/wikipedia/commons/thumb/8/8e/Le_balze%2C_giardino_d%27inverno_02.JPG/330px-Le_balze%2C_giardino_d%27inverno_02.JPG 1.5x, //upload.wikimedia.org/wikipedia/commons/thumb/8/8e/Le_balze%2C_giardino_d%27inverno_02.JPG/440px-Le_balze%2C_giardino_d%27inverno_02.JPG 2x\" width=\"220\"/>,\n",
              " <img alt=\"Many students mingle in the background while a group sit in the foreground on a grass lawn. The large stone clocktower is seen above the trees on the lawn.\" class=\"mw-file-element\" data-file-height=\"2554\" data-file-width=\"3864\" decoding=\"async\" height=\"145\" src=\"//upload.wikimedia.org/wikipedia/commons/thumb/0/07/Georgetown_Day.jpg/220px-Georgetown_Day.jpg\" srcset=\"//upload.wikimedia.org/wikipedia/commons/thumb/0/07/Georgetown_Day.jpg/330px-Georgetown_Day.jpg 1.5x, //upload.wikimedia.org/wikipedia/commons/thumb/0/07/Georgetown_Day.jpg/440px-Georgetown_Day.jpg 2x\" width=\"220\"/>,\n",
              " <img alt=\"Two young white men sit at a table with several teenage African American students mingle around it, and one signs a paper on it. Also on the table is a laptop.\" class=\"mw-file-element\" data-file-height=\"1080\" data-file-width=\"1440\" decoding=\"async\" height=\"165\" src=\"//upload.wikimedia.org/wikipedia/commons/thumb/e/eb/Money_Matters_at_TMA.jpg/220px-Money_Matters_at_TMA.jpg\" srcset=\"//upload.wikimedia.org/wikipedia/commons/thumb/e/eb/Money_Matters_at_TMA.jpg/330px-Money_Matters_at_TMA.jpg 1.5x, //upload.wikimedia.org/wikipedia/commons/thumb/e/eb/Money_Matters_at_TMA.jpg/440px-Money_Matters_at_TMA.jpg 2x\" width=\"220\"/>,\n",
              " <img alt=\"The intercultural center looms behind Red Square. Dozens of students are pictured in the plaza, many passing through, others sitting at tables demonstrating\" class=\"mw-file-element\" data-file-height=\"1944\" data-file-width=\"2592\" decoding=\"async\" height=\"165\" src=\"//upload.wikimedia.org/wikipedia/commons/thumb/f/f0/Intercultural_Center.jpg/220px-Intercultural_Center.jpg\" srcset=\"//upload.wikimedia.org/wikipedia/commons/thumb/f/f0/Intercultural_Center.jpg/330px-Intercultural_Center.jpg 1.5x, //upload.wikimedia.org/wikipedia/commons/thumb/f/f0/Intercultural_Center.jpg/440px-Intercultural_Center.jpg 2x\" width=\"220\"/>,\n",
              " <img alt=\"Several young men and women sit in office chairs working at computers around a room where the walls are covered in printed pages. A central wood table and bookcases are featured.\" class=\"mw-file-element\" data-file-height=\"2160\" data-file-width=\"3840\" decoding=\"async\" height=\"124\" src=\"//upload.wikimedia.org/wikipedia/commons/thumb/2/21/The_Hoya_office.jpg/220px-The_Hoya_office.jpg\" srcset=\"//upload.wikimedia.org/wikipedia/commons/thumb/2/21/The_Hoya_office.jpg/330px-The_Hoya_office.jpg 1.5x, //upload.wikimedia.org/wikipedia/commons/thumb/2/21/The_Hoya_office.jpg/440px-The_Hoya_office.jpg 2x\" width=\"220\"/>,\n",
              " <img alt=\"A yellow three-story townhouse with steps in front and a small lawn with shrubs and trees.\" class=\"mw-file-element\" data-file-height=\"2272\" data-file-width=\"1604\" decoding=\"async\" height=\"312\" src=\"//upload.wikimedia.org/wikipedia/commons/thumb/f/fe/DPE_House.jpg/220px-DPE_House.jpg\" srcset=\"//upload.wikimedia.org/wikipedia/commons/thumb/f/fe/DPE_House.jpg/330px-DPE_House.jpg 1.5x, //upload.wikimedia.org/wikipedia/commons/thumb/f/fe/DPE_House.jpg/440px-DPE_House.jpg 2x\" width=\"220\"/>,\n",
              " <img alt=\"Four men in suits sit on chairs on a red stage in front of ornate gold and brown wall.\" class=\"mw-file-element\" data-file-height=\"1867\" data-file-width=\"2800\" decoding=\"async\" height=\"147\" src=\"//upload.wikimedia.org/wikipedia/commons/thumb/3/32/Obama_at_Georgetown_University_talk_on_poverty.jpg/220px-Obama_at_Georgetown_University_talk_on_poverty.jpg\" srcset=\"//upload.wikimedia.org/wikipedia/commons/thumb/3/32/Obama_at_Georgetown_University_talk_on_poverty.jpg/330px-Obama_at_Georgetown_University_talk_on_poverty.jpg 1.5x, //upload.wikimedia.org/wikipedia/commons/thumb/3/32/Obama_at_Georgetown_University_talk_on_poverty.jpg/440px-Obama_at_Georgetown_University_talk_on_poverty.jpg 2x\" width=\"220\"/>,\n",
              " <img alt='A African-American teenage basketball player wearing a gray uniform looks over his shoulder at another playing in a blue uniform. Behind them are fans and a basketball hoop with the word \"HOYAS\" on it.' class=\"mw-file-element\" data-file-height=\"3504\" data-file-width=\"2336\" decoding=\"async\" height=\"330\" src=\"//upload.wikimedia.org/wikipedia/commons/thumb/f/f4/Roy_Hibbert_in_2006.jpg/220px-Roy_Hibbert_in_2006.jpg\" srcset=\"//upload.wikimedia.org/wikipedia/commons/thumb/f/f4/Roy_Hibbert_in_2006.jpg/330px-Roy_Hibbert_in_2006.jpg 1.5x, //upload.wikimedia.org/wikipedia/commons/thumb/f/f4/Roy_Hibbert_in_2006.jpg/440px-Roy_Hibbert_in_2006.jpg 2x\" width=\"220\"/>,\n",
              " <img alt=\"Young adults wearing ceremonial black robes and graduation caps stand at their seats in an ornate hall while onlookers in a three-sided balcony applaud above them.\" class=\"mw-file-element\" data-file-height=\"794\" data-file-width=\"1200\" decoding=\"async\" height=\"146\" src=\"//upload.wikimedia.org/wikipedia/commons/thumb/8/8b/Georgetown_MSFS_Graduation_%2709_%283630839053%29.jpg/220px-Georgetown_MSFS_Graduation_%2709_%283630839053%29.jpg\" srcset=\"//upload.wikimedia.org/wikipedia/commons/thumb/8/8b/Georgetown_MSFS_Graduation_%2709_%283630839053%29.jpg/330px-Georgetown_MSFS_Graduation_%2709_%283630839053%29.jpg 1.5x, //upload.wikimedia.org/wikipedia/commons/thumb/8/8b/Georgetown_MSFS_Graduation_%2709_%283630839053%29.jpg/440px-Georgetown_MSFS_Graduation_%2709_%283630839053%29.jpg 2x\" width=\"220\"/>,\n",
              " <img alt=\"\" class=\"mw-file-element\" data-file-height=\"1376\" data-file-width=\"1024\" decoding=\"async\" height=\"40\" src=\"//upload.wikimedia.org/wikipedia/en/thumb/4/4a/Commons-logo.svg/30px-Commons-logo.svg.png\" srcset=\"//upload.wikimedia.org/wikipedia/en/thumb/4/4a/Commons-logo.svg/45px-Commons-logo.svg.png 1.5x, //upload.wikimedia.org/wikipedia/en/thumb/4/4a/Commons-logo.svg/59px-Commons-logo.svg.png 2x\" width=\"30\"/>,\n",
              " <img alt=\"Edit this at Wikidata\" class=\"mw-file-element\" data-file-height=\"20\" data-file-width=\"20\" decoding=\"async\" height=\"10\" src=\"//upload.wikimedia.org/wikipedia/en/thumb/8/8a/OOjs_UI_icon_edit-ltr-progressive.svg/10px-OOjs_UI_icon_edit-ltr-progressive.svg.png\" srcset=\"//upload.wikimedia.org/wikipedia/en/thumb/8/8a/OOjs_UI_icon_edit-ltr-progressive.svg/15px-OOjs_UI_icon_edit-ltr-progressive.svg.png 1.5x, //upload.wikimedia.org/wikipedia/en/thumb/8/8a/OOjs_UI_icon_edit-ltr-progressive.svg/20px-OOjs_UI_icon_edit-ltr-progressive.svg.png 2x\" width=\"10\"/>,\n",
              " <img alt=\"icon\" class=\"mw-file-element\" data-file-height=\"360\" data-file-width=\"400\" decoding=\"async\" height=\"19\" src=\"//upload.wikimedia.org/wikipedia/commons/thumb/f/f4/P_parthenon.svg/21px-P_parthenon.svg.png\" srcset=\"//upload.wikimedia.org/wikipedia/commons/thumb/f/f4/P_parthenon.svg/32px-P_parthenon.svg.png 1.5x, //upload.wikimedia.org/wikipedia/commons/thumb/f/f4/P_parthenon.svg/42px-P_parthenon.svg.png 2x\" width=\"21\"/>,\n",
              " <img alt=\"icon\" class=\"mw-file-element\" data-file-height=\"600\" data-file-width=\"800\" decoding=\"async\" height=\"16\" src=\"//upload.wikimedia.org/wikipedia/commons/thumb/5/5a/046CupolaSPietro.jpg/21px-046CupolaSPietro.jpg\" srcset=\"//upload.wikimedia.org/wikipedia/commons/thumb/5/5a/046CupolaSPietro.jpg/32px-046CupolaSPietro.jpg 1.5x, //upload.wikimedia.org/wikipedia/commons/thumb/5/5a/046CupolaSPietro.jpg/42px-046CupolaSPietro.jpg 2x\" width=\"21\"/>,\n",
              " <img alt=\"icon\" class=\"mw-file-element\" data-file-height=\"500\" data-file-width=\"500\" decoding=\"async\" height=\"19\" src=\"//upload.wikimedia.org/wikipedia/commons/thumb/4/4a/School.svg/19px-School.svg.png\" srcset=\"//upload.wikimedia.org/wikipedia/commons/thumb/4/4a/School.svg/29px-School.svg.png 1.5x, //upload.wikimedia.org/wikipedia/commons/thumb/4/4a/School.svg/38px-School.svg.png 2x\" width=\"19\"/>,\n",
              " <img alt=\"flag\" class=\"mw-file-element\" data-file-height=\"650\" data-file-width=\"1235\" decoding=\"async\" height=\"11\" src=\"//upload.wikimedia.org/wikipedia/en/thumb/a/a4/Flag_of_the_United_States.svg/21px-Flag_of_the_United_States.svg.png\" srcset=\"//upload.wikimedia.org/wikipedia/en/thumb/a/a4/Flag_of_the_United_States.svg/32px-Flag_of_the_United_States.svg.png 1.5x, //upload.wikimedia.org/wikipedia/en/thumb/a/a4/Flag_of_the_United_States.svg/42px-Flag_of_the_United_States.svg.png 2x\" width=\"21\"/>,\n",
              " <img class=\"mw-file-element\" data-file-height=\"305\" data-file-width=\"260\" decoding=\"async\" height=\"117\" src=\"//upload.wikimedia.org/wikipedia/commons/thumb/d/d9/Georgetown_University_seal.svg/100px-Georgetown_University_seal.svg.png\" srcset=\"//upload.wikimedia.org/wikipedia/commons/thumb/d/d9/Georgetown_University_seal.svg/150px-Georgetown_University_seal.svg.png 1.5x, //upload.wikimedia.org/wikipedia/commons/thumb/d/d9/Georgetown_University_seal.svg/200px-Georgetown_University_seal.svg.png 2x\" width=\"100\"/>,\n",
              " <img alt=\"\" class=\"mw-file-element\" data-file-height=\"185\" data-file-width=\"180\" decoding=\"async\" height=\"16\" src=\"//upload.wikimedia.org/wikipedia/en/thumb/9/96/Symbol_category_class.svg/16px-Symbol_category_class.svg.png\" srcset=\"//upload.wikimedia.org/wikipedia/en/thumb/9/96/Symbol_category_class.svg/23px-Symbol_category_class.svg.png 1.5x, //upload.wikimedia.org/wikipedia/en/thumb/9/96/Symbol_category_class.svg/31px-Symbol_category_class.svg.png 2x\" width=\"16\"/>,\n",
              " <img alt=\"icon\" class=\"mw-file-element\" data-file-height=\"600\" data-file-width=\"800\" decoding=\"async\" height=\"12\" src=\"//upload.wikimedia.org/wikipedia/commons/thumb/5/5a/046CupolaSPietro.jpg/16px-046CupolaSPietro.jpg\" srcset=\"//upload.wikimedia.org/wikipedia/commons/thumb/5/5a/046CupolaSPietro.jpg/24px-046CupolaSPietro.jpg 1.5x, //upload.wikimedia.org/wikipedia/commons/thumb/5/5a/046CupolaSPietro.jpg/32px-046CupolaSPietro.jpg 2x\" width=\"16\"/>,\n",
              " <img class=\"mw-file-element\" data-file-height=\"1245\" data-file-width=\"854\" decoding=\"async\" height=\"146\" src=\"//upload.wikimedia.org/wikipedia/commons/thumb/4/42/Roman_Catholic_Archdiocese_of_Washington.svg/100px-Roman_Catholic_Archdiocese_of_Washington.svg.png\" srcset=\"//upload.wikimedia.org/wikipedia/commons/thumb/4/42/Roman_Catholic_Archdiocese_of_Washington.svg/150px-Roman_Catholic_Archdiocese_of_Washington.svg.png 1.5x, //upload.wikimedia.org/wikipedia/commons/thumb/4/42/Roman_Catholic_Archdiocese_of_Washington.svg/200px-Roman_Catholic_Archdiocese_of_Washington.svg.png 2x\" width=\"100\"/>,\n",
              " <img alt=\"icon\" class=\"mw-file-element\" data-file-height=\"600\" data-file-width=\"800\" decoding=\"async\" height=\"12\" src=\"//upload.wikimedia.org/wikipedia/commons/thumb/5/5a/046CupolaSPietro.jpg/16px-046CupolaSPietro.jpg\" srcset=\"//upload.wikimedia.org/wikipedia/commons/thumb/5/5a/046CupolaSPietro.jpg/24px-046CupolaSPietro.jpg 1.5x, //upload.wikimedia.org/wikipedia/commons/thumb/5/5a/046CupolaSPietro.jpg/32px-046CupolaSPietro.jpg 2x\" width=\"16\"/>,\n",
              " <img alt=\"flag\" class=\"mw-file-element\" data-file-height=\"650\" data-file-width=\"1235\" decoding=\"async\" height=\"8\" src=\"//upload.wikimedia.org/wikipedia/en/thumb/a/a4/Flag_of_the_United_States.svg/16px-Flag_of_the_United_States.svg.png\" srcset=\"//upload.wikimedia.org/wikipedia/en/thumb/a/a4/Flag_of_the_United_States.svg/24px-Flag_of_the_United_States.svg.png 1.5x, //upload.wikimedia.org/wikipedia/en/thumb/a/a4/Flag_of_the_United_States.svg/32px-Flag_of_the_United_States.svg.png 2x\" width=\"16\"/>,\n",
              " <img class=\"mw-file-element\" data-file-height=\"51\" data-file-width=\"247\" decoding=\"async\" height=\"31\" src=\"//upload.wikimedia.org/wikipedia/commons/thumb/a/a7/Big_East_Conference_logo.svg/150px-Big_East_Conference_logo.svg.png\" srcset=\"//upload.wikimedia.org/wikipedia/commons/thumb/a/a7/Big_East_Conference_logo.svg/225px-Big_East_Conference_logo.svg.png 1.5x, //upload.wikimedia.org/wikipedia/commons/thumb/a/a7/Big_East_Conference_logo.svg/300px-Big_East_Conference_logo.svg.png 2x\" width=\"150\"/>,\n",
              " <img alt=\"Edit this at Wikidata\" class=\"mw-file-element\" data-file-height=\"20\" data-file-width=\"20\" decoding=\"async\" height=\"10\" src=\"//upload.wikimedia.org/wikipedia/en/thumb/8/8a/OOjs_UI_icon_edit-ltr-progressive.svg/10px-OOjs_UI_icon_edit-ltr-progressive.svg.png\" srcset=\"//upload.wikimedia.org/wikipedia/en/thumb/8/8a/OOjs_UI_icon_edit-ltr-progressive.svg/15px-OOjs_UI_icon_edit-ltr-progressive.svg.png 1.5x, //upload.wikimedia.org/wikipedia/en/thumb/8/8a/OOjs_UI_icon_edit-ltr-progressive.svg/20px-OOjs_UI_icon_edit-ltr-progressive.svg.png 2x\" width=\"10\"/>,\n",
              " <img alt=\"\" height=\"1\" src=\"//en.wikipedia.org/wiki/Special:CentralAutoLogin/start?type=1x1\" style=\"border: none; position: absolute;\" title=\"\" width=\"1\"/>,\n",
              " <img alt=\"Wikimedia Foundation\" height=\"31\" loading=\"lazy\" src=\"/static/images/footer/wikimedia-button.png\" srcset=\"/static/images/footer/wikimedia-button-1.5x.png 1.5x, /static/images/footer/wikimedia-button-2x.png 2x\" width=\"88\"/>,\n",
              " <img alt=\"Powered by MediaWiki\" height=\"31\" loading=\"lazy\" src=\"/static/images/footer/poweredby_mediawiki_88x31.png\" srcset=\"/static/images/footer/poweredby_mediawiki_132x47.png 1.5x, /static/images/footer/poweredby_mediawiki_176x62.png 2x\" width=\"88\"/>]"
            ]
          },
          "execution_count": 63,
          "metadata": {},
          "output_type": "execute_result"
        }
      ],
      "source": [
        "#| code-fold: false\n",
        "\n",
        "soup.find_all(\"img\")"
      ]
    },
    {
      "cell_type": "markdown",
      "metadata": {},
      "source": [
        "<!-- \n",
        "\n",
        "\n",
        "## Working with HTML\n",
        "\n",
        "* <a href=\"https://requests.readthedocs.io/en/latest/\" target=\"_blank\">`requests` Documentation</a>\n",
        "* <a href=\"https://www.crummy.com/software/BeautifulSoup/bs4/doc/\" target=\"_blank\">BeautifulSoup (`bs4`) Documentation</a>\n",
        "#| label: bs4-example\n",
        "#| echo: true\n",
        "#| code-fold: show\n",
        "# Get HTML\n",
        "import pandas as pd\n",
        "import requests\n",
        "from bs4 import BeautifulSoup\n",
        "response = requests.get(\"https://en.wikipedia.org/wiki/Data_science\")\n",
        "# Parse HTML\n",
        "soup = BeautifulSoup(response.text, 'html.parser')\n",
        "header_elts = soup.select('h2 > span.mw-headline')\n",
        "header_df = pd.DataFrame({'section_title': [elt.text for elt in header_elts]})\n",
        "header_df\n",
        "::: {.aside}\n",
        "\n",
        "Note: `httr2` is a re-written version of the original `httr` package, which is now deprecated. You'll still see lots of code using `httr`, however, so it's good to know how both versions work. <a href=\"https://cran.r-project.org/web/packages/httr/vignettes/quickstart.html\" target=\"_blank\">Click here for a helpful vignette</a> on the original `httr` library.\n",
        "\n",
        ":::\n",
        "\n",
        "## Navigating HTML with CSS selectors\n",
        "\n",
        "## Navigating HTML with XPath\n",
        "\n",
        "<a href=\"https://devhints.io/xpath\" target=\"_blank\">XPath Cheatsheet</a>\n",
        "\n",
        "* Notice the last line of the previous code example[^r-version-xpath]:\n",
        "\n",
        "[^r-version-xpath]: See the R code examples in the appendix, for the R version of this code, which uses XPath strings in the same way as `BeautifulSoup` does.\n",
        "\n",
        "* The string passed to `xml_find_all()` is an **XPath selector**\n",
        "\n",
        "::: {.aside}\n",
        "\n",
        "XPath selectors are used by many different libraries, including **Selenium** (which we'll look at very soon) and **jQuery** (a standard extension to plain JavaScript allowing easy searching/manipulation of the DOM), so it's good to learn it now!\n",
        "\n",
        ":::\n",
        "\n",
        "## XPath I: Selecting Elements\n",
        "\n",
        "```html {filename=\"mypage.html\"}\n",
        "<div class=\"container\">\n",
        "  <h1>Header</h1>\n",
        "  <p id=\"page-content\">Content</p>\n",
        "  <img class=\"footer-image m-5\" src=\"footer.png\">\n",
        "</div>\n",
        "```\n",
        "\n",
        "* `'//div'` matches all elements `<div>` in the document:\n",
        "\n",
        "    ```html\n",
        "    <div class=\"container\">\n",
        "      <h1>Header</h1>\n",
        "      <p id=\"page-content\">Content</p>\n",
        "      <img class=\"footer-image m-5\" src=\"footer.png\">\n",
        "    </div>\n",
        "    ```\n",
        "* `'//div//img'` matches `<img>` elements which are **children of** `<div>` elements:\n",
        "\n",
        "    ```html\n",
        "    <img class=\"footer-image m-5\" src=\"footer.png\">\n",
        "    ```\n",
        "\n",
        "\n",
        "## XPath II: Filtering by Attributes {.smaller}\n",
        "\n",
        "```html {filename=\"mypage.html\"}\n",
        "<div class=\"container\">\n",
        "  <h1>Header</h1>\n",
        "  <p id=\"page-content\">Content</p>\n",
        "  <img class=\"footer-image m-5\" src=\"footer.png\">\n",
        "</div>\n",
        "```\n",
        "\n",
        "* `'//p[id=\"page-content\"]'` matches all `<p>` elements with id `page-content`[^unique-id]:\n",
        "\n",
        "    ```html\n",
        "    <p id=\"page-content\">Content</p>\n",
        "    ```\n",
        "* Matching **classes** is a bit trickier:\n",
        "\n",
        "    [`'//img[contains(concat(\" \", normalize-space(@class), \" \"), \" footer-image \")]'`]{.small-codeblock}\n",
        "\n",
        "    matches all `<img>` elements with `page-content` as one of their classes[^multi-class]\n",
        "\n",
        "    ```html\n",
        "    <img class=\"footer-image m-5\" src=\"footer.png\">\n",
        "    ```\n",
        "\n",
        "[^unique-id]: In HTML, `id`s are required to be **unique** to particular elements (and elements cannot have more than one `id`), meaning that this should only return a **single** element, for valid HTML code (not followed by all webpages!). Also note the **double-quotes** after `id=`, which are required in XPath.\n",
        "\n",
        "[^multi-class]: Your intuition may be to just use `'//img[@class=\"footer-image\"]'`. Sadly, however, this will match only elements with `footer-image` as their **only** class. i.e., it will match `<img class=\"footer-image\">` but not `<img class=\"footer-image another-class\">`. This will usually fail, since most elements on modern webpages have several classes. For example, if the site is using <a href=\"https://getbootstrap.com/docs/5.3/getting-started/introduction/\" target=\"_blank\">Bootstrap</a>, `<p class=\"p-5 m-3\"></p>` creates a paragraph element with a padding of 5 pixels and a margin of 3 pixels. -->"
      ]
    }
  ],
  "metadata": {
    "kernelspec": {
      "display_name": "Python 3 (ipykernel)",
      "language": "python",
      "name": "python3"
    },
    "language_info": {
      "codemirror_mode": {
        "name": "ipython",
        "version": 3
      },
      "file_extension": ".py",
      "mimetype": "text/x-python",
      "name": "python",
      "nbconvert_exporter": "python",
      "pygments_lexer": "ipython3",
      "version": "3.10.8"
    }
  },
  "nbformat": 4,
  "nbformat_minor": 4
}
