{
  "cells": [
    {
      "cell_type": "raw",
      "metadata": {},
      "source": [
        "---\n",
        "title: \"Cleaning-operations\"\n",
        "output: html_document\n",
        "date: '2022-09-13'\n",
        "---"
      ]
    },
    {
      "cell_type": "markdown",
      "metadata": {},
      "source": [
        "Author: Dr. Hickman "
      ]
    },
    {
      "cell_type": "code",
      "execution_count": 8,
      "metadata": {
        "vscode": {
          "languageId": "r"
        }
      },
      "outputs": [],
      "source": [
        "# knitr::opts_chunk$set(echo = TRUE)"
      ]
    },
    {
      "cell_type": "markdown",
      "metadata": {},
      "source": [
        "## Gapminder example\n"
      ]
    },
    {
      "cell_type": "code",
      "execution_count": 9,
      "metadata": {
        "vscode": {
          "languageId": "r"
        }
      },
      "outputs": [
        {
          "name": "stdout",
          "output_type": "stream",
          "text": [
            "[1] \"----ORIGINAL----\"\n"
          ]
        },
        {
          "name": "stderr",
          "output_type": "stream",
          "text": [
            "\u001b[1mRows: \u001b[22m\u001b[34m1704\u001b[39m \u001b[1mColumns: \u001b[22m\u001b[34m6\u001b[39m\n",
            "\u001b[36m--\u001b[39m \u001b[1mColumn specification\u001b[22m \u001b[36m--------------------------------------------------------\u001b[39m\n",
            "\u001b[1mDelimiter:\u001b[22m \",\"\n",
            "\u001b[31mchr\u001b[39m (2): country, continent\n",
            "\u001b[32mdbl\u001b[39m (4): year, lifeExp, pop, gdpPercap\n"
          ]
        },
        {
          "name": "stderr",
          "output_type": "stream",
          "text": [
            "\n",
            "\u001b[36mi\u001b[39m Use `spec()` to retrieve the full column specification for this data.\n",
            "\u001b[36mi\u001b[39m Specify the column types or set `show_col_types = FALSE` to quiet this message.\n"
          ]
        },
        {
          "data": {
            "text/html": [
              "<table class=\"dataframe\">\n",
              "<caption>A tibble: 6 x 6</caption>\n",
              "<thead>\n",
              "\t<tr><th scope=col>country</th><th scope=col>continent</th><th scope=col>year</th><th scope=col>lifeExp</th><th scope=col>pop</th><th scope=col>gdpPercap</th></tr>\n",
              "\t<tr><th scope=col>&lt;chr&gt;</th><th scope=col>&lt;chr&gt;</th><th scope=col>&lt;dbl&gt;</th><th scope=col>&lt;dbl&gt;</th><th scope=col>&lt;dbl&gt;</th><th scope=col>&lt;dbl&gt;</th></tr>\n",
              "</thead>\n",
              "<tbody>\n",
              "\t<tr><td>Afghanistan</td><td>Asia</td><td>1952</td><td>28.801</td><td> 8425333</td><td>779.4453</td></tr>\n",
              "\t<tr><td>Afghanistan</td><td>Asia</td><td>1957</td><td>30.332</td><td> 9240934</td><td>820.8530</td></tr>\n",
              "\t<tr><td>Afghanistan</td><td>Asia</td><td>1962</td><td>31.997</td><td>10267083</td><td>853.1007</td></tr>\n",
              "\t<tr><td>Afghanistan</td><td>Asia</td><td>1967</td><td>34.020</td><td>11537966</td><td>836.1971</td></tr>\n",
              "\t<tr><td>Afghanistan</td><td>Asia</td><td>1972</td><td>36.088</td><td>13079460</td><td>739.9811</td></tr>\n",
              "\t<tr><td>Afghanistan</td><td>Asia</td><td>1977</td><td>38.438</td><td>14880372</td><td>786.1134</td></tr>\n",
              "</tbody>\n",
              "</table>\n"
            ],
            "text/latex": [
              "A tibble: 6 x 6\n",
              "\\begin{tabular}{llllll}\n",
              " country & continent & year & lifeExp & pop & gdpPercap\\\\\n",
              " <chr> & <chr> & <dbl> & <dbl> & <dbl> & <dbl>\\\\\n",
              "\\hline\n",
              "\t Afghanistan & Asia & 1952 & 28.801 &  8425333 & 779.4453\\\\\n",
              "\t Afghanistan & Asia & 1957 & 30.332 &  9240934 & 820.8530\\\\\n",
              "\t Afghanistan & Asia & 1962 & 31.997 & 10267083 & 853.1007\\\\\n",
              "\t Afghanistan & Asia & 1967 & 34.020 & 11537966 & 836.1971\\\\\n",
              "\t Afghanistan & Asia & 1972 & 36.088 & 13079460 & 739.9811\\\\\n",
              "\t Afghanistan & Asia & 1977 & 38.438 & 14880372 & 786.1134\\\\\n",
              "\\end{tabular}\n"
            ],
            "text/markdown": [
              "\n",
              "A tibble: 6 x 6\n",
              "\n",
              "| country &lt;chr&gt; | continent &lt;chr&gt; | year &lt;dbl&gt; | lifeExp &lt;dbl&gt; | pop &lt;dbl&gt; | gdpPercap &lt;dbl&gt; |\n",
              "|---|---|---|---|---|---|\n",
              "| Afghanistan | Asia | 1952 | 28.801 |  8425333 | 779.4453 |\n",
              "| Afghanistan | Asia | 1957 | 30.332 |  9240934 | 820.8530 |\n",
              "| Afghanistan | Asia | 1962 | 31.997 | 10267083 | 853.1007 |\n",
              "| Afghanistan | Asia | 1967 | 34.020 | 11537966 | 836.1971 |\n",
              "| Afghanistan | Asia | 1972 | 36.088 | 13079460 | 739.9811 |\n",
              "| Afghanistan | Asia | 1977 | 38.438 | 14880372 | 786.1134 |\n",
              "\n"
            ],
            "text/plain": [
              "  country     continent year lifeExp pop      gdpPercap\n",
              "1 Afghanistan Asia      1952 28.801   8425333 779.4453 \n",
              "2 Afghanistan Asia      1957 30.332   9240934 820.8530 \n",
              "3 Afghanistan Asia      1962 31.997  10267083 853.1007 \n",
              "4 Afghanistan Asia      1967 34.020  11537966 836.1971 \n",
              "5 Afghanistan Asia      1972 36.088  13079460 739.9811 \n",
              "6 Afghanistan Asia      1977 38.438  14880372 786.1134 "
            ]
          },
          "metadata": {},
          "output_type": "display_data"
        }
      ],
      "source": [
        "library('tidyverse')\n",
        "\n",
        "print(\"----ORIGINAL----\")\n",
        "gap <- read_csv('data/gapminder.csv')\n",
        "head(gap)"
      ]
    },
    {
      "cell_type": "code",
      "execution_count": 10,
      "metadata": {
        "vscode": {
          "languageId": "r"
        }
      },
      "outputs": [
        {
          "name": "stdout",
          "output_type": "stream",
          "text": [
            "[1] \"----GROUP BY CONTINENT----\"\n"
          ]
        },
        {
          "data": {
            "text/html": [
              "<table class=\"dataframe\">\n",
              "<caption>A grouped_df: 1704 x 6</caption>\n",
              "<thead>\n",
              "\t<tr><th scope=col>country</th><th scope=col>continent</th><th scope=col>year</th><th scope=col>lifeExp</th><th scope=col>pop</th><th scope=col>gdpPercap</th></tr>\n",
              "\t<tr><th scope=col>&lt;chr&gt;</th><th scope=col>&lt;chr&gt;</th><th scope=col>&lt;dbl&gt;</th><th scope=col>&lt;dbl&gt;</th><th scope=col>&lt;dbl&gt;</th><th scope=col>&lt;dbl&gt;</th></tr>\n",
              "</thead>\n",
              "<tbody>\n",
              "\t<tr><td>Afghanistan</td><td>Asia  </td><td>1952</td><td>28.801</td><td> 8425333</td><td> 779.4453</td></tr>\n",
              "\t<tr><td>Afghanistan</td><td>Asia  </td><td>1957</td><td>30.332</td><td> 9240934</td><td> 820.8530</td></tr>\n",
              "\t<tr><td>Afghanistan</td><td>Asia  </td><td>1962</td><td>31.997</td><td>10267083</td><td> 853.1007</td></tr>\n",
              "\t<tr><td>Afghanistan</td><td>Asia  </td><td>1967</td><td>34.020</td><td>11537966</td><td> 836.1971</td></tr>\n",
              "\t<tr><td>Afghanistan</td><td>Asia  </td><td>1972</td><td>36.088</td><td>13079460</td><td> 739.9811</td></tr>\n",
              "\t<tr><td>Afghanistan</td><td>Asia  </td><td>1977</td><td>38.438</td><td>14880372</td><td> 786.1134</td></tr>\n",
              "\t<tr><td>Afghanistan</td><td>Asia  </td><td>1982</td><td>39.854</td><td>12881816</td><td> 978.0114</td></tr>\n",
              "\t<tr><td>Afghanistan</td><td>Asia  </td><td>1987</td><td>40.822</td><td>13867957</td><td> 852.3959</td></tr>\n",
              "\t<tr><td>Afghanistan</td><td>Asia  </td><td>1992</td><td>41.674</td><td>16317921</td><td> 649.3414</td></tr>\n",
              "\t<tr><td>Afghanistan</td><td>Asia  </td><td>1997</td><td>41.763</td><td>22227415</td><td> 635.3414</td></tr>\n",
              "\t<tr><td>Afghanistan</td><td>Asia  </td><td>2002</td><td>42.129</td><td>25268405</td><td> 726.7341</td></tr>\n",
              "\t<tr><td>Afghanistan</td><td>Asia  </td><td>2007</td><td>43.828</td><td>31889923</td><td> 974.5803</td></tr>\n",
              "\t<tr><td>Albania    </td><td>Europe</td><td>1952</td><td>55.230</td><td> 1282697</td><td>1601.0561</td></tr>\n",
              "\t<tr><td>Albania    </td><td>Europe</td><td>1957</td><td>59.280</td><td> 1476505</td><td>1942.2842</td></tr>\n",
              "\t<tr><td>Albania    </td><td>Europe</td><td>1962</td><td>64.820</td><td> 1728137</td><td>2312.8890</td></tr>\n",
              "\t<tr><td>Albania    </td><td>Europe</td><td>1967</td><td>66.220</td><td> 1984060</td><td>2760.1969</td></tr>\n",
              "\t<tr><td>Albania    </td><td>Europe</td><td>1972</td><td>67.690</td><td> 2263554</td><td>3313.4222</td></tr>\n",
              "\t<tr><td>Albania    </td><td>Europe</td><td>1977</td><td>68.930</td><td> 2509048</td><td>3533.0039</td></tr>\n",
              "\t<tr><td>Albania    </td><td>Europe</td><td>1982</td><td>70.420</td><td> 2780097</td><td>3630.8807</td></tr>\n",
              "\t<tr><td>Albania    </td><td>Europe</td><td>1987</td><td>72.000</td><td> 3075321</td><td>3738.9327</td></tr>\n",
              "\t<tr><td>Albania    </td><td>Europe</td><td>1992</td><td>71.581</td><td> 3326498</td><td>2497.4379</td></tr>\n",
              "\t<tr><td>Albania    </td><td>Europe</td><td>1997</td><td>72.950</td><td> 3428038</td><td>3193.0546</td></tr>\n",
              "\t<tr><td>Albania    </td><td>Europe</td><td>2002</td><td>75.651</td><td> 3508512</td><td>4604.2117</td></tr>\n",
              "\t<tr><td>Albania    </td><td>Europe</td><td>2007</td><td>76.423</td><td> 3600523</td><td>5937.0295</td></tr>\n",
              "\t<tr><td>Algeria    </td><td>Africa</td><td>1952</td><td>43.077</td><td> 9279525</td><td>2449.0082</td></tr>\n",
              "\t<tr><td>Algeria    </td><td>Africa</td><td>1957</td><td>45.685</td><td>10270856</td><td>3013.9760</td></tr>\n",
              "\t<tr><td>Algeria    </td><td>Africa</td><td>1962</td><td>48.303</td><td>11000948</td><td>2550.8169</td></tr>\n",
              "\t<tr><td>Algeria    </td><td>Africa</td><td>1967</td><td>51.407</td><td>12760499</td><td>3246.9918</td></tr>\n",
              "\t<tr><td>Algeria    </td><td>Africa</td><td>1972</td><td>54.518</td><td>14760787</td><td>4182.6638</td></tr>\n",
              "\t<tr><td>Algeria    </td><td>Africa</td><td>1977</td><td>58.014</td><td>17152804</td><td>4910.4168</td></tr>\n",
              "\t<tr><td>...</td><td>...</td><td>...</td><td>...</td><td>...</td><td>...</td></tr>\n",
              "\t<tr><td>Yemen, Rep.</td><td>Asia  </td><td>1982</td><td>49.113</td><td> 9657618</td><td>1977.5570</td></tr>\n",
              "\t<tr><td>Yemen, Rep.</td><td>Asia  </td><td>1987</td><td>52.922</td><td>11219340</td><td>1971.7415</td></tr>\n",
              "\t<tr><td>Yemen, Rep.</td><td>Asia  </td><td>1992</td><td>55.599</td><td>13367997</td><td>1879.4967</td></tr>\n",
              "\t<tr><td>Yemen, Rep.</td><td>Asia  </td><td>1997</td><td>58.020</td><td>15826497</td><td>2117.4845</td></tr>\n",
              "\t<tr><td>Yemen, Rep.</td><td>Asia  </td><td>2002</td><td>60.308</td><td>18701257</td><td>2234.8208</td></tr>\n",
              "\t<tr><td>Yemen, Rep.</td><td>Asia  </td><td>2007</td><td>62.698</td><td>22211743</td><td>2280.7699</td></tr>\n",
              "\t<tr><td>Zambia     </td><td>Africa</td><td>1952</td><td>42.038</td><td> 2672000</td><td>1147.3888</td></tr>\n",
              "\t<tr><td>Zambia     </td><td>Africa</td><td>1957</td><td>44.077</td><td> 3016000</td><td>1311.9568</td></tr>\n",
              "\t<tr><td>Zambia     </td><td>Africa</td><td>1962</td><td>46.023</td><td> 3421000</td><td>1452.7258</td></tr>\n",
              "\t<tr><td>Zambia     </td><td>Africa</td><td>1967</td><td>47.768</td><td> 3900000</td><td>1777.0773</td></tr>\n",
              "\t<tr><td>Zambia     </td><td>Africa</td><td>1972</td><td>50.107</td><td> 4506497</td><td>1773.4983</td></tr>\n",
              "\t<tr><td>Zambia     </td><td>Africa</td><td>1977</td><td>51.386</td><td> 5216550</td><td>1588.6883</td></tr>\n",
              "\t<tr><td>Zambia     </td><td>Africa</td><td>1982</td><td>51.821</td><td> 6100407</td><td>1408.6786</td></tr>\n",
              "\t<tr><td>Zambia     </td><td>Africa</td><td>1987</td><td>50.821</td><td> 7272406</td><td>1213.3151</td></tr>\n",
              "\t<tr><td>Zambia     </td><td>Africa</td><td>1992</td><td>46.100</td><td> 8381163</td><td>1210.8846</td></tr>\n",
              "\t<tr><td>Zambia     </td><td>Africa</td><td>1997</td><td>40.238</td><td> 9417789</td><td>1071.3538</td></tr>\n",
              "\t<tr><td>Zambia     </td><td>Africa</td><td>2002</td><td>39.193</td><td>10595811</td><td>1071.6139</td></tr>\n",
              "\t<tr><td>Zambia     </td><td>Africa</td><td>2007</td><td>42.384</td><td>11746035</td><td>1271.2116</td></tr>\n",
              "\t<tr><td>Zimbabwe   </td><td>Africa</td><td>1952</td><td>48.451</td><td> 3080907</td><td> 406.8841</td></tr>\n",
              "\t<tr><td>Zimbabwe   </td><td>Africa</td><td>1957</td><td>50.469</td><td> 3646340</td><td> 518.7643</td></tr>\n",
              "\t<tr><td>Zimbabwe   </td><td>Africa</td><td>1962</td><td>52.358</td><td> 4277736</td><td> 527.2722</td></tr>\n",
              "\t<tr><td>Zimbabwe   </td><td>Africa</td><td>1967</td><td>53.995</td><td> 4995432</td><td> 569.7951</td></tr>\n",
              "\t<tr><td>Zimbabwe   </td><td>Africa</td><td>1972</td><td>55.635</td><td> 5861135</td><td> 799.3622</td></tr>\n",
              "\t<tr><td>Zimbabwe   </td><td>Africa</td><td>1977</td><td>57.674</td><td> 6642107</td><td> 685.5877</td></tr>\n",
              "\t<tr><td>Zimbabwe   </td><td>Africa</td><td>1982</td><td>60.363</td><td> 7636524</td><td> 788.8550</td></tr>\n",
              "\t<tr><td>Zimbabwe   </td><td>Africa</td><td>1987</td><td>62.351</td><td> 9216418</td><td> 706.1573</td></tr>\n",
              "\t<tr><td>Zimbabwe   </td><td>Africa</td><td>1992</td><td>60.377</td><td>10704340</td><td> 693.4208</td></tr>\n",
              "\t<tr><td>Zimbabwe   </td><td>Africa</td><td>1997</td><td>46.809</td><td>11404948</td><td> 792.4500</td></tr>\n",
              "\t<tr><td>Zimbabwe   </td><td>Africa</td><td>2002</td><td>39.989</td><td>11926563</td><td> 672.0386</td></tr>\n",
              "\t<tr><td>Zimbabwe   </td><td>Africa</td><td>2007</td><td>43.487</td><td>12311143</td><td> 469.7093</td></tr>\n",
              "</tbody>\n",
              "</table>\n"
            ],
            "text/latex": [
              "A grouped\\_df: 1704 x 6\n",
              "\\begin{tabular}{llllll}\n",
              " country & continent & year & lifeExp & pop & gdpPercap\\\\\n",
              " <chr> & <chr> & <dbl> & <dbl> & <dbl> & <dbl>\\\\\n",
              "\\hline\n",
              "\t Afghanistan & Asia   & 1952 & 28.801 &  8425333 &  779.4453\\\\\n",
              "\t Afghanistan & Asia   & 1957 & 30.332 &  9240934 &  820.8530\\\\\n",
              "\t Afghanistan & Asia   & 1962 & 31.997 & 10267083 &  853.1007\\\\\n",
              "\t Afghanistan & Asia   & 1967 & 34.020 & 11537966 &  836.1971\\\\\n",
              "\t Afghanistan & Asia   & 1972 & 36.088 & 13079460 &  739.9811\\\\\n",
              "\t Afghanistan & Asia   & 1977 & 38.438 & 14880372 &  786.1134\\\\\n",
              "\t Afghanistan & Asia   & 1982 & 39.854 & 12881816 &  978.0114\\\\\n",
              "\t Afghanistan & Asia   & 1987 & 40.822 & 13867957 &  852.3959\\\\\n",
              "\t Afghanistan & Asia   & 1992 & 41.674 & 16317921 &  649.3414\\\\\n",
              "\t Afghanistan & Asia   & 1997 & 41.763 & 22227415 &  635.3414\\\\\n",
              "\t Afghanistan & Asia   & 2002 & 42.129 & 25268405 &  726.7341\\\\\n",
              "\t Afghanistan & Asia   & 2007 & 43.828 & 31889923 &  974.5803\\\\\n",
              "\t Albania     & Europe & 1952 & 55.230 &  1282697 & 1601.0561\\\\\n",
              "\t Albania     & Europe & 1957 & 59.280 &  1476505 & 1942.2842\\\\\n",
              "\t Albania     & Europe & 1962 & 64.820 &  1728137 & 2312.8890\\\\\n",
              "\t Albania     & Europe & 1967 & 66.220 &  1984060 & 2760.1969\\\\\n",
              "\t Albania     & Europe & 1972 & 67.690 &  2263554 & 3313.4222\\\\\n",
              "\t Albania     & Europe & 1977 & 68.930 &  2509048 & 3533.0039\\\\\n",
              "\t Albania     & Europe & 1982 & 70.420 &  2780097 & 3630.8807\\\\\n",
              "\t Albania     & Europe & 1987 & 72.000 &  3075321 & 3738.9327\\\\\n",
              "\t Albania     & Europe & 1992 & 71.581 &  3326498 & 2497.4379\\\\\n",
              "\t Albania     & Europe & 1997 & 72.950 &  3428038 & 3193.0546\\\\\n",
              "\t Albania     & Europe & 2002 & 75.651 &  3508512 & 4604.2117\\\\\n",
              "\t Albania     & Europe & 2007 & 76.423 &  3600523 & 5937.0295\\\\\n",
              "\t Algeria     & Africa & 1952 & 43.077 &  9279525 & 2449.0082\\\\\n",
              "\t Algeria     & Africa & 1957 & 45.685 & 10270856 & 3013.9760\\\\\n",
              "\t Algeria     & Africa & 1962 & 48.303 & 11000948 & 2550.8169\\\\\n",
              "\t Algeria     & Africa & 1967 & 51.407 & 12760499 & 3246.9918\\\\\n",
              "\t Algeria     & Africa & 1972 & 54.518 & 14760787 & 4182.6638\\\\\n",
              "\t Algeria     & Africa & 1977 & 58.014 & 17152804 & 4910.4168\\\\\n",
              "\t ... & ... & ... & ... & ... & ...\\\\\n",
              "\t Yemen, Rep. & Asia   & 1982 & 49.113 &  9657618 & 1977.5570\\\\\n",
              "\t Yemen, Rep. & Asia   & 1987 & 52.922 & 11219340 & 1971.7415\\\\\n",
              "\t Yemen, Rep. & Asia   & 1992 & 55.599 & 13367997 & 1879.4967\\\\\n",
              "\t Yemen, Rep. & Asia   & 1997 & 58.020 & 15826497 & 2117.4845\\\\\n",
              "\t Yemen, Rep. & Asia   & 2002 & 60.308 & 18701257 & 2234.8208\\\\\n",
              "\t Yemen, Rep. & Asia   & 2007 & 62.698 & 22211743 & 2280.7699\\\\\n",
              "\t Zambia      & Africa & 1952 & 42.038 &  2672000 & 1147.3888\\\\\n",
              "\t Zambia      & Africa & 1957 & 44.077 &  3016000 & 1311.9568\\\\\n",
              "\t Zambia      & Africa & 1962 & 46.023 &  3421000 & 1452.7258\\\\\n",
              "\t Zambia      & Africa & 1967 & 47.768 &  3900000 & 1777.0773\\\\\n",
              "\t Zambia      & Africa & 1972 & 50.107 &  4506497 & 1773.4983\\\\\n",
              "\t Zambia      & Africa & 1977 & 51.386 &  5216550 & 1588.6883\\\\\n",
              "\t Zambia      & Africa & 1982 & 51.821 &  6100407 & 1408.6786\\\\\n",
              "\t Zambia      & Africa & 1987 & 50.821 &  7272406 & 1213.3151\\\\\n",
              "\t Zambia      & Africa & 1992 & 46.100 &  8381163 & 1210.8846\\\\\n",
              "\t Zambia      & Africa & 1997 & 40.238 &  9417789 & 1071.3538\\\\\n",
              "\t Zambia      & Africa & 2002 & 39.193 & 10595811 & 1071.6139\\\\\n",
              "\t Zambia      & Africa & 2007 & 42.384 & 11746035 & 1271.2116\\\\\n",
              "\t Zimbabwe    & Africa & 1952 & 48.451 &  3080907 &  406.8841\\\\\n",
              "\t Zimbabwe    & Africa & 1957 & 50.469 &  3646340 &  518.7643\\\\\n",
              "\t Zimbabwe    & Africa & 1962 & 52.358 &  4277736 &  527.2722\\\\\n",
              "\t Zimbabwe    & Africa & 1967 & 53.995 &  4995432 &  569.7951\\\\\n",
              "\t Zimbabwe    & Africa & 1972 & 55.635 &  5861135 &  799.3622\\\\\n",
              "\t Zimbabwe    & Africa & 1977 & 57.674 &  6642107 &  685.5877\\\\\n",
              "\t Zimbabwe    & Africa & 1982 & 60.363 &  7636524 &  788.8550\\\\\n",
              "\t Zimbabwe    & Africa & 1987 & 62.351 &  9216418 &  706.1573\\\\\n",
              "\t Zimbabwe    & Africa & 1992 & 60.377 & 10704340 &  693.4208\\\\\n",
              "\t Zimbabwe    & Africa & 1997 & 46.809 & 11404948 &  792.4500\\\\\n",
              "\t Zimbabwe    & Africa & 2002 & 39.989 & 11926563 &  672.0386\\\\\n",
              "\t Zimbabwe    & Africa & 2007 & 43.487 & 12311143 &  469.7093\\\\\n",
              "\\end{tabular}\n"
            ],
            "text/markdown": [
              "\n",
              "A grouped_df: 1704 x 6\n",
              "\n",
              "| country &lt;chr&gt; | continent &lt;chr&gt; | year &lt;dbl&gt; | lifeExp &lt;dbl&gt; | pop &lt;dbl&gt; | gdpPercap &lt;dbl&gt; |\n",
              "|---|---|---|---|---|---|\n",
              "| Afghanistan | Asia   | 1952 | 28.801 |  8425333 |  779.4453 |\n",
              "| Afghanistan | Asia   | 1957 | 30.332 |  9240934 |  820.8530 |\n",
              "| Afghanistan | Asia   | 1962 | 31.997 | 10267083 |  853.1007 |\n",
              "| Afghanistan | Asia   | 1967 | 34.020 | 11537966 |  836.1971 |\n",
              "| Afghanistan | Asia   | 1972 | 36.088 | 13079460 |  739.9811 |\n",
              "| Afghanistan | Asia   | 1977 | 38.438 | 14880372 |  786.1134 |\n",
              "| Afghanistan | Asia   | 1982 | 39.854 | 12881816 |  978.0114 |\n",
              "| Afghanistan | Asia   | 1987 | 40.822 | 13867957 |  852.3959 |\n",
              "| Afghanistan | Asia   | 1992 | 41.674 | 16317921 |  649.3414 |\n",
              "| Afghanistan | Asia   | 1997 | 41.763 | 22227415 |  635.3414 |\n",
              "| Afghanistan | Asia   | 2002 | 42.129 | 25268405 |  726.7341 |\n",
              "| Afghanistan | Asia   | 2007 | 43.828 | 31889923 |  974.5803 |\n",
              "| Albania     | Europe | 1952 | 55.230 |  1282697 | 1601.0561 |\n",
              "| Albania     | Europe | 1957 | 59.280 |  1476505 | 1942.2842 |\n",
              "| Albania     | Europe | 1962 | 64.820 |  1728137 | 2312.8890 |\n",
              "| Albania     | Europe | 1967 | 66.220 |  1984060 | 2760.1969 |\n",
              "| Albania     | Europe | 1972 | 67.690 |  2263554 | 3313.4222 |\n",
              "| Albania     | Europe | 1977 | 68.930 |  2509048 | 3533.0039 |\n",
              "| Albania     | Europe | 1982 | 70.420 |  2780097 | 3630.8807 |\n",
              "| Albania     | Europe | 1987 | 72.000 |  3075321 | 3738.9327 |\n",
              "| Albania     | Europe | 1992 | 71.581 |  3326498 | 2497.4379 |\n",
              "| Albania     | Europe | 1997 | 72.950 |  3428038 | 3193.0546 |\n",
              "| Albania     | Europe | 2002 | 75.651 |  3508512 | 4604.2117 |\n",
              "| Albania     | Europe | 2007 | 76.423 |  3600523 | 5937.0295 |\n",
              "| Algeria     | Africa | 1952 | 43.077 |  9279525 | 2449.0082 |\n",
              "| Algeria     | Africa | 1957 | 45.685 | 10270856 | 3013.9760 |\n",
              "| Algeria     | Africa | 1962 | 48.303 | 11000948 | 2550.8169 |\n",
              "| Algeria     | Africa | 1967 | 51.407 | 12760499 | 3246.9918 |\n",
              "| Algeria     | Africa | 1972 | 54.518 | 14760787 | 4182.6638 |\n",
              "| Algeria     | Africa | 1977 | 58.014 | 17152804 | 4910.4168 |\n",
              "| ... | ... | ... | ... | ... | ... |\n",
              "| Yemen, Rep. | Asia   | 1982 | 49.113 |  9657618 | 1977.5570 |\n",
              "| Yemen, Rep. | Asia   | 1987 | 52.922 | 11219340 | 1971.7415 |\n",
              "| Yemen, Rep. | Asia   | 1992 | 55.599 | 13367997 | 1879.4967 |\n",
              "| Yemen, Rep. | Asia   | 1997 | 58.020 | 15826497 | 2117.4845 |\n",
              "| Yemen, Rep. | Asia   | 2002 | 60.308 | 18701257 | 2234.8208 |\n",
              "| Yemen, Rep. | Asia   | 2007 | 62.698 | 22211743 | 2280.7699 |\n",
              "| Zambia      | Africa | 1952 | 42.038 |  2672000 | 1147.3888 |\n",
              "| Zambia      | Africa | 1957 | 44.077 |  3016000 | 1311.9568 |\n",
              "| Zambia      | Africa | 1962 | 46.023 |  3421000 | 1452.7258 |\n",
              "| Zambia      | Africa | 1967 | 47.768 |  3900000 | 1777.0773 |\n",
              "| Zambia      | Africa | 1972 | 50.107 |  4506497 | 1773.4983 |\n",
              "| Zambia      | Africa | 1977 | 51.386 |  5216550 | 1588.6883 |\n",
              "| Zambia      | Africa | 1982 | 51.821 |  6100407 | 1408.6786 |\n",
              "| Zambia      | Africa | 1987 | 50.821 |  7272406 | 1213.3151 |\n",
              "| Zambia      | Africa | 1992 | 46.100 |  8381163 | 1210.8846 |\n",
              "| Zambia      | Africa | 1997 | 40.238 |  9417789 | 1071.3538 |\n",
              "| Zambia      | Africa | 2002 | 39.193 | 10595811 | 1071.6139 |\n",
              "| Zambia      | Africa | 2007 | 42.384 | 11746035 | 1271.2116 |\n",
              "| Zimbabwe    | Africa | 1952 | 48.451 |  3080907 |  406.8841 |\n",
              "| Zimbabwe    | Africa | 1957 | 50.469 |  3646340 |  518.7643 |\n",
              "| Zimbabwe    | Africa | 1962 | 52.358 |  4277736 |  527.2722 |\n",
              "| Zimbabwe    | Africa | 1967 | 53.995 |  4995432 |  569.7951 |\n",
              "| Zimbabwe    | Africa | 1972 | 55.635 |  5861135 |  799.3622 |\n",
              "| Zimbabwe    | Africa | 1977 | 57.674 |  6642107 |  685.5877 |\n",
              "| Zimbabwe    | Africa | 1982 | 60.363 |  7636524 |  788.8550 |\n",
              "| Zimbabwe    | Africa | 1987 | 62.351 |  9216418 |  706.1573 |\n",
              "| Zimbabwe    | Africa | 1992 | 60.377 | 10704340 |  693.4208 |\n",
              "| Zimbabwe    | Africa | 1997 | 46.809 | 11404948 |  792.4500 |\n",
              "| Zimbabwe    | Africa | 2002 | 39.989 | 11926563 |  672.0386 |\n",
              "| Zimbabwe    | Africa | 2007 | 43.487 | 12311143 |  469.7093 |\n",
              "\n"
            ],
            "text/plain": [
              "     country     continent year lifeExp pop      gdpPercap\n",
              "1    Afghanistan Asia      1952 28.801   8425333  779.4453\n",
              "2    Afghanistan Asia      1957 30.332   9240934  820.8530\n",
              "3    Afghanistan Asia      1962 31.997  10267083  853.1007\n",
              "4    Afghanistan Asia      1967 34.020  11537966  836.1971\n",
              "5    Afghanistan Asia      1972 36.088  13079460  739.9811\n",
              "6    Afghanistan Asia      1977 38.438  14880372  786.1134\n",
              "7    Afghanistan Asia      1982 39.854  12881816  978.0114\n",
              "8    Afghanistan Asia      1987 40.822  13867957  852.3959\n",
              "9    Afghanistan Asia      1992 41.674  16317921  649.3414\n",
              "10   Afghanistan Asia      1997 41.763  22227415  635.3414\n",
              "11   Afghanistan Asia      2002 42.129  25268405  726.7341\n",
              "12   Afghanistan Asia      2007 43.828  31889923  974.5803\n",
              "13   Albania     Europe    1952 55.230   1282697 1601.0561\n",
              "14   Albania     Europe    1957 59.280   1476505 1942.2842\n",
              "15   Albania     Europe    1962 64.820   1728137 2312.8890\n",
              "16   Albania     Europe    1967 66.220   1984060 2760.1969\n",
              "17   Albania     Europe    1972 67.690   2263554 3313.4222\n",
              "18   Albania     Europe    1977 68.930   2509048 3533.0039\n",
              "19   Albania     Europe    1982 70.420   2780097 3630.8807\n",
              "20   Albania     Europe    1987 72.000   3075321 3738.9327\n",
              "21   Albania     Europe    1992 71.581   3326498 2497.4379\n",
              "22   Albania     Europe    1997 72.950   3428038 3193.0546\n",
              "23   Albania     Europe    2002 75.651   3508512 4604.2117\n",
              "24   Albania     Europe    2007 76.423   3600523 5937.0295\n",
              "25   Algeria     Africa    1952 43.077   9279525 2449.0082\n",
              "26   Algeria     Africa    1957 45.685  10270856 3013.9760\n",
              "27   Algeria     Africa    1962 48.303  11000948 2550.8169\n",
              "28   Algeria     Africa    1967 51.407  12760499 3246.9918\n",
              "29   Algeria     Africa    1972 54.518  14760787 4182.6638\n",
              "30   Algeria     Africa    1977 58.014  17152804 4910.4168\n",
              "...  ...         ...       ...  ...     ...      ...      \n",
              "1675 Yemen, Rep. Asia      1982 49.113   9657618 1977.5570\n",
              "1676 Yemen, Rep. Asia      1987 52.922  11219340 1971.7415\n",
              "1677 Yemen, Rep. Asia      1992 55.599  13367997 1879.4967\n",
              "1678 Yemen, Rep. Asia      1997 58.020  15826497 2117.4845\n",
              "1679 Yemen, Rep. Asia      2002 60.308  18701257 2234.8208\n",
              "1680 Yemen, Rep. Asia      2007 62.698  22211743 2280.7699\n",
              "1681 Zambia      Africa    1952 42.038   2672000 1147.3888\n",
              "1682 Zambia      Africa    1957 44.077   3016000 1311.9568\n",
              "1683 Zambia      Africa    1962 46.023   3421000 1452.7258\n",
              "1684 Zambia      Africa    1967 47.768   3900000 1777.0773\n",
              "1685 Zambia      Africa    1972 50.107   4506497 1773.4983\n",
              "1686 Zambia      Africa    1977 51.386   5216550 1588.6883\n",
              "1687 Zambia      Africa    1982 51.821   6100407 1408.6786\n",
              "1688 Zambia      Africa    1987 50.821   7272406 1213.3151\n",
              "1689 Zambia      Africa    1992 46.100   8381163 1210.8846\n",
              "1690 Zambia      Africa    1997 40.238   9417789 1071.3538\n",
              "1691 Zambia      Africa    2002 39.193  10595811 1071.6139\n",
              "1692 Zambia      Africa    2007 42.384  11746035 1271.2116\n",
              "1693 Zimbabwe    Africa    1952 48.451   3080907  406.8841\n",
              "1694 Zimbabwe    Africa    1957 50.469   3646340  518.7643\n",
              "1695 Zimbabwe    Africa    1962 52.358   4277736  527.2722\n",
              "1696 Zimbabwe    Africa    1967 53.995   4995432  569.7951\n",
              "1697 Zimbabwe    Africa    1972 55.635   5861135  799.3622\n",
              "1698 Zimbabwe    Africa    1977 57.674   6642107  685.5877\n",
              "1699 Zimbabwe    Africa    1982 60.363   7636524  788.8550\n",
              "1700 Zimbabwe    Africa    1987 62.351   9216418  706.1573\n",
              "1701 Zimbabwe    Africa    1992 60.377  10704340  693.4208\n",
              "1702 Zimbabwe    Africa    1997 46.809  11404948  792.4500\n",
              "1703 Zimbabwe    Africa    2002 39.989  11926563  672.0386\n",
              "1704 Zimbabwe    Africa    2007 43.487  12311143  469.7093"
            ]
          },
          "metadata": {},
          "output_type": "display_data"
        },
        {
          "name": "stdout",
          "output_type": "stream",
          "text": [
            "[1] \"----AVERAGE LIFE EXPECTANCY BY CONTINENT----\"\n"
          ]
        },
        {
          "data": {
            "text/html": [
              "<table class=\"dataframe\">\n",
              "<caption>A tibble: 5 x 2</caption>\n",
              "<thead>\n",
              "\t<tr><th scope=col>continent</th><th scope=col>avgLifeExp</th></tr>\n",
              "\t<tr><th scope=col>&lt;chr&gt;</th><th scope=col>&lt;dbl&gt;</th></tr>\n",
              "</thead>\n",
              "<tbody>\n",
              "\t<tr><td>Africa  </td><td>48.86533</td></tr>\n",
              "\t<tr><td>Americas</td><td>64.65874</td></tr>\n",
              "\t<tr><td>Asia    </td><td>60.06490</td></tr>\n",
              "\t<tr><td>Europe  </td><td>71.90369</td></tr>\n",
              "\t<tr><td>Oceania </td><td>74.32621</td></tr>\n",
              "</tbody>\n",
              "</table>\n"
            ],
            "text/latex": [
              "A tibble: 5 x 2\n",
              "\\begin{tabular}{ll}\n",
              " continent & avgLifeExp\\\\\n",
              " <chr> & <dbl>\\\\\n",
              "\\hline\n",
              "\t Africa   & 48.86533\\\\\n",
              "\t Americas & 64.65874\\\\\n",
              "\t Asia     & 60.06490\\\\\n",
              "\t Europe   & 71.90369\\\\\n",
              "\t Oceania  & 74.32621\\\\\n",
              "\\end{tabular}\n"
            ],
            "text/markdown": [
              "\n",
              "A tibble: 5 x 2\n",
              "\n",
              "| continent &lt;chr&gt; | avgLifeExp &lt;dbl&gt; |\n",
              "|---|---|\n",
              "| Africa   | 48.86533 |\n",
              "| Americas | 64.65874 |\n",
              "| Asia     | 60.06490 |\n",
              "| Europe   | 71.90369 |\n",
              "| Oceania  | 74.32621 |\n",
              "\n"
            ],
            "text/plain": [
              "  continent avgLifeExp\n",
              "1 Africa    48.86533  \n",
              "2 Americas  64.65874  \n",
              "3 Asia      60.06490  \n",
              "4 Europe    71.90369  \n",
              "5 Oceania   74.32621  "
            ]
          },
          "metadata": {},
          "output_type": "display_data"
        },
        {
          "name": "stdout",
          "output_type": "stream",
          "text": [
            "[1] \"----AVERAGE LIFE EXPECTANCY BY COUNTRY----\"\n"
          ]
        },
        {
          "data": {
            "text/html": [
              "<table class=\"dataframe\">\n",
              "<caption>A tibble: 142 x 2</caption>\n",
              "<thead>\n",
              "\t<tr><th scope=col>country</th><th scope=col>avgLifeExp</th></tr>\n",
              "\t<tr><th scope=col>&lt;chr&gt;</th><th scope=col>&lt;dbl&gt;</th></tr>\n",
              "</thead>\n",
              "<tbody>\n",
              "\t<tr><td>Afghanistan             </td><td>37.47883</td></tr>\n",
              "\t<tr><td>Albania                 </td><td>68.43292</td></tr>\n",
              "\t<tr><td>Algeria                 </td><td>59.03017</td></tr>\n",
              "\t<tr><td>Angola                  </td><td>37.88350</td></tr>\n",
              "\t<tr><td>Argentina               </td><td>69.06042</td></tr>\n",
              "\t<tr><td>Australia               </td><td>74.66292</td></tr>\n",
              "\t<tr><td>Austria                 </td><td>73.10325</td></tr>\n",
              "\t<tr><td>Bahrain                 </td><td>65.60567</td></tr>\n",
              "\t<tr><td>Bangladesh              </td><td>49.83408</td></tr>\n",
              "\t<tr><td>Belgium                 </td><td>73.64175</td></tr>\n",
              "\t<tr><td>Benin                   </td><td>48.77992</td></tr>\n",
              "\t<tr><td>Bolivia                 </td><td>52.50458</td></tr>\n",
              "\t<tr><td>Bosnia and Herzegovina  </td><td>67.70783</td></tr>\n",
              "\t<tr><td>Botswana                </td><td>54.59750</td></tr>\n",
              "\t<tr><td>Brazil                  </td><td>62.23950</td></tr>\n",
              "\t<tr><td>Bulgaria                </td><td>69.74375</td></tr>\n",
              "\t<tr><td>Burkina Faso            </td><td>44.69400</td></tr>\n",
              "\t<tr><td>Burundi                 </td><td>44.81733</td></tr>\n",
              "\t<tr><td>Cambodia                </td><td>47.90275</td></tr>\n",
              "\t<tr><td>Cameroon                </td><td>48.12850</td></tr>\n",
              "\t<tr><td>Canada                  </td><td>74.90275</td></tr>\n",
              "\t<tr><td>Central African Republic</td><td>43.86692</td></tr>\n",
              "\t<tr><td>Chad                    </td><td>46.77358</td></tr>\n",
              "\t<tr><td>Chile                   </td><td>67.43092</td></tr>\n",
              "\t<tr><td>China                   </td><td>61.78514</td></tr>\n",
              "\t<tr><td>Colombia                </td><td>63.89775</td></tr>\n",
              "\t<tr><td>Comoros                 </td><td>52.38175</td></tr>\n",
              "\t<tr><td>Congo, Dem. Rep.        </td><td>44.54375</td></tr>\n",
              "\t<tr><td>Congo, Rep.             </td><td>52.50192</td></tr>\n",
              "\t<tr><td>Costa Rica              </td><td>70.18142</td></tr>\n",
              "\t<tr><td>...</td><td>...</td></tr>\n",
              "\t<tr><td>Sierra Leone       </td><td>36.76917</td></tr>\n",
              "\t<tr><td>Singapore          </td><td>71.22025</td></tr>\n",
              "\t<tr><td>Slovak Republic    </td><td>70.69608</td></tr>\n",
              "\t<tr><td>Slovenia           </td><td>71.60075</td></tr>\n",
              "\t<tr><td>Somalia            </td><td>40.98867</td></tr>\n",
              "\t<tr><td>South Africa       </td><td>53.99317</td></tr>\n",
              "\t<tr><td>Spain              </td><td>74.20342</td></tr>\n",
              "\t<tr><td>Sri Lanka          </td><td>66.52608</td></tr>\n",
              "\t<tr><td>Sudan              </td><td>48.40050</td></tr>\n",
              "\t<tr><td>Swaziland          </td><td>49.00242</td></tr>\n",
              "\t<tr><td>Sweden             </td><td>76.17700</td></tr>\n",
              "\t<tr><td>Switzerland        </td><td>75.56508</td></tr>\n",
              "\t<tr><td>Syria              </td><td>61.34617</td></tr>\n",
              "\t<tr><td>Taiwan             </td><td>70.33667</td></tr>\n",
              "\t<tr><td>Tanzania           </td><td>47.91233</td></tr>\n",
              "\t<tr><td>Thailand           </td><td>62.20025</td></tr>\n",
              "\t<tr><td>Togo               </td><td>51.49875</td></tr>\n",
              "\t<tr><td>Trinidad and Tobago</td><td>66.82800</td></tr>\n",
              "\t<tr><td>Tunisia            </td><td>60.72100</td></tr>\n",
              "\t<tr><td>Turkey             </td><td>59.69642</td></tr>\n",
              "\t<tr><td>Uganda             </td><td>47.61883</td></tr>\n",
              "\t<tr><td>United Kingdom     </td><td>73.92258</td></tr>\n",
              "\t<tr><td>United States      </td><td>73.47850</td></tr>\n",
              "\t<tr><td>Uruguay            </td><td>70.78158</td></tr>\n",
              "\t<tr><td>Venezuela          </td><td>66.58067</td></tr>\n",
              "\t<tr><td>Vietnam            </td><td>57.47950</td></tr>\n",
              "\t<tr><td>West Bank and Gaza </td><td>60.32867</td></tr>\n",
              "\t<tr><td>Yemen, Rep.        </td><td>46.78042</td></tr>\n",
              "\t<tr><td>Zambia             </td><td>45.99633</td></tr>\n",
              "\t<tr><td>Zimbabwe           </td><td>52.66317</td></tr>\n",
              "</tbody>\n",
              "</table>\n"
            ],
            "text/latex": [
              "A tibble: 142 x 2\n",
              "\\begin{tabular}{ll}\n",
              " country & avgLifeExp\\\\\n",
              " <chr> & <dbl>\\\\\n",
              "\\hline\n",
              "\t Afghanistan              & 37.47883\\\\\n",
              "\t Albania                  & 68.43292\\\\\n",
              "\t Algeria                  & 59.03017\\\\\n",
              "\t Angola                   & 37.88350\\\\\n",
              "\t Argentina                & 69.06042\\\\\n",
              "\t Australia                & 74.66292\\\\\n",
              "\t Austria                  & 73.10325\\\\\n",
              "\t Bahrain                  & 65.60567\\\\\n",
              "\t Bangladesh               & 49.83408\\\\\n",
              "\t Belgium                  & 73.64175\\\\\n",
              "\t Benin                    & 48.77992\\\\\n",
              "\t Bolivia                  & 52.50458\\\\\n",
              "\t Bosnia and Herzegovina   & 67.70783\\\\\n",
              "\t Botswana                 & 54.59750\\\\\n",
              "\t Brazil                   & 62.23950\\\\\n",
              "\t Bulgaria                 & 69.74375\\\\\n",
              "\t Burkina Faso             & 44.69400\\\\\n",
              "\t Burundi                  & 44.81733\\\\\n",
              "\t Cambodia                 & 47.90275\\\\\n",
              "\t Cameroon                 & 48.12850\\\\\n",
              "\t Canada                   & 74.90275\\\\\n",
              "\t Central African Republic & 43.86692\\\\\n",
              "\t Chad                     & 46.77358\\\\\n",
              "\t Chile                    & 67.43092\\\\\n",
              "\t China                    & 61.78514\\\\\n",
              "\t Colombia                 & 63.89775\\\\\n",
              "\t Comoros                  & 52.38175\\\\\n",
              "\t Congo, Dem. Rep.         & 44.54375\\\\\n",
              "\t Congo, Rep.              & 52.50192\\\\\n",
              "\t Costa Rica               & 70.18142\\\\\n",
              "\t ... & ...\\\\\n",
              "\t Sierra Leone        & 36.76917\\\\\n",
              "\t Singapore           & 71.22025\\\\\n",
              "\t Slovak Republic     & 70.69608\\\\\n",
              "\t Slovenia            & 71.60075\\\\\n",
              "\t Somalia             & 40.98867\\\\\n",
              "\t South Africa        & 53.99317\\\\\n",
              "\t Spain               & 74.20342\\\\\n",
              "\t Sri Lanka           & 66.52608\\\\\n",
              "\t Sudan               & 48.40050\\\\\n",
              "\t Swaziland           & 49.00242\\\\\n",
              "\t Sweden              & 76.17700\\\\\n",
              "\t Switzerland         & 75.56508\\\\\n",
              "\t Syria               & 61.34617\\\\\n",
              "\t Taiwan              & 70.33667\\\\\n",
              "\t Tanzania            & 47.91233\\\\\n",
              "\t Thailand            & 62.20025\\\\\n",
              "\t Togo                & 51.49875\\\\\n",
              "\t Trinidad and Tobago & 66.82800\\\\\n",
              "\t Tunisia             & 60.72100\\\\\n",
              "\t Turkey              & 59.69642\\\\\n",
              "\t Uganda              & 47.61883\\\\\n",
              "\t United Kingdom      & 73.92258\\\\\n",
              "\t United States       & 73.47850\\\\\n",
              "\t Uruguay             & 70.78158\\\\\n",
              "\t Venezuela           & 66.58067\\\\\n",
              "\t Vietnam             & 57.47950\\\\\n",
              "\t West Bank and Gaza  & 60.32867\\\\\n",
              "\t Yemen, Rep.         & 46.78042\\\\\n",
              "\t Zambia              & 45.99633\\\\\n",
              "\t Zimbabwe            & 52.66317\\\\\n",
              "\\end{tabular}\n"
            ],
            "text/markdown": [
              "\n",
              "A tibble: 142 x 2\n",
              "\n",
              "| country &lt;chr&gt; | avgLifeExp &lt;dbl&gt; |\n",
              "|---|---|\n",
              "| Afghanistan              | 37.47883 |\n",
              "| Albania                  | 68.43292 |\n",
              "| Algeria                  | 59.03017 |\n",
              "| Angola                   | 37.88350 |\n",
              "| Argentina                | 69.06042 |\n",
              "| Australia                | 74.66292 |\n",
              "| Austria                  | 73.10325 |\n",
              "| Bahrain                  | 65.60567 |\n",
              "| Bangladesh               | 49.83408 |\n",
              "| Belgium                  | 73.64175 |\n",
              "| Benin                    | 48.77992 |\n",
              "| Bolivia                  | 52.50458 |\n",
              "| Bosnia and Herzegovina   | 67.70783 |\n",
              "| Botswana                 | 54.59750 |\n",
              "| Brazil                   | 62.23950 |\n",
              "| Bulgaria                 | 69.74375 |\n",
              "| Burkina Faso             | 44.69400 |\n",
              "| Burundi                  | 44.81733 |\n",
              "| Cambodia                 | 47.90275 |\n",
              "| Cameroon                 | 48.12850 |\n",
              "| Canada                   | 74.90275 |\n",
              "| Central African Republic | 43.86692 |\n",
              "| Chad                     | 46.77358 |\n",
              "| Chile                    | 67.43092 |\n",
              "| China                    | 61.78514 |\n",
              "| Colombia                 | 63.89775 |\n",
              "| Comoros                  | 52.38175 |\n",
              "| Congo, Dem. Rep.         | 44.54375 |\n",
              "| Congo, Rep.              | 52.50192 |\n",
              "| Costa Rica               | 70.18142 |\n",
              "| ... | ... |\n",
              "| Sierra Leone        | 36.76917 |\n",
              "| Singapore           | 71.22025 |\n",
              "| Slovak Republic     | 70.69608 |\n",
              "| Slovenia            | 71.60075 |\n",
              "| Somalia             | 40.98867 |\n",
              "| South Africa        | 53.99317 |\n",
              "| Spain               | 74.20342 |\n",
              "| Sri Lanka           | 66.52608 |\n",
              "| Sudan               | 48.40050 |\n",
              "| Swaziland           | 49.00242 |\n",
              "| Sweden              | 76.17700 |\n",
              "| Switzerland         | 75.56508 |\n",
              "| Syria               | 61.34617 |\n",
              "| Taiwan              | 70.33667 |\n",
              "| Tanzania            | 47.91233 |\n",
              "| Thailand            | 62.20025 |\n",
              "| Togo                | 51.49875 |\n",
              "| Trinidad and Tobago | 66.82800 |\n",
              "| Tunisia             | 60.72100 |\n",
              "| Turkey              | 59.69642 |\n",
              "| Uganda              | 47.61883 |\n",
              "| United Kingdom      | 73.92258 |\n",
              "| United States       | 73.47850 |\n",
              "| Uruguay             | 70.78158 |\n",
              "| Venezuela           | 66.58067 |\n",
              "| Vietnam             | 57.47950 |\n",
              "| West Bank and Gaza  | 60.32867 |\n",
              "| Yemen, Rep.         | 46.78042 |\n",
              "| Zambia              | 45.99633 |\n",
              "| Zimbabwe            | 52.66317 |\n",
              "\n"
            ],
            "text/plain": [
              "    country                  avgLifeExp\n",
              "1   Afghanistan              37.47883  \n",
              "2   Albania                  68.43292  \n",
              "3   Algeria                  59.03017  \n",
              "4   Angola                   37.88350  \n",
              "5   Argentina                69.06042  \n",
              "6   Australia                74.66292  \n",
              "7   Austria                  73.10325  \n",
              "8   Bahrain                  65.60567  \n",
              "9   Bangladesh               49.83408  \n",
              "10  Belgium                  73.64175  \n",
              "11  Benin                    48.77992  \n",
              "12  Bolivia                  52.50458  \n",
              "13  Bosnia and Herzegovina   67.70783  \n",
              "14  Botswana                 54.59750  \n",
              "15  Brazil                   62.23950  \n",
              "16  Bulgaria                 69.74375  \n",
              "17  Burkina Faso             44.69400  \n",
              "18  Burundi                  44.81733  \n",
              "19  Cambodia                 47.90275  \n",
              "20  Cameroon                 48.12850  \n",
              "21  Canada                   74.90275  \n",
              "22  Central African Republic 43.86692  \n",
              "23  Chad                     46.77358  \n",
              "24  Chile                    67.43092  \n",
              "25  China                    61.78514  \n",
              "26  Colombia                 63.89775  \n",
              "27  Comoros                  52.38175  \n",
              "28  Congo, Dem. Rep.         44.54375  \n",
              "29  Congo, Rep.              52.50192  \n",
              "30  Costa Rica               70.18142  \n",
              "... ...                      ...       \n",
              "113 Sierra Leone             36.76917  \n",
              "114 Singapore                71.22025  \n",
              "115 Slovak Republic          70.69608  \n",
              "116 Slovenia                 71.60075  \n",
              "117 Somalia                  40.98867  \n",
              "118 South Africa             53.99317  \n",
              "119 Spain                    74.20342  \n",
              "120 Sri Lanka                66.52608  \n",
              "121 Sudan                    48.40050  \n",
              "122 Swaziland                49.00242  \n",
              "123 Sweden                   76.17700  \n",
              "124 Switzerland              75.56508  \n",
              "125 Syria                    61.34617  \n",
              "126 Taiwan                   70.33667  \n",
              "127 Tanzania                 47.91233  \n",
              "128 Thailand                 62.20025  \n",
              "129 Togo                     51.49875  \n",
              "130 Trinidad and Tobago      66.82800  \n",
              "131 Tunisia                  60.72100  \n",
              "132 Turkey                   59.69642  \n",
              "133 Uganda                   47.61883  \n",
              "134 United Kingdom           73.92258  \n",
              "135 United States            73.47850  \n",
              "136 Uruguay                  70.78158  \n",
              "137 Venezuela                66.58067  \n",
              "138 Vietnam                  57.47950  \n",
              "139 West Bank and Gaza       60.32867  \n",
              "140 Yemen, Rep.              46.78042  \n",
              "141 Zambia                   45.99633  \n",
              "142 Zimbabwe                 52.66317  "
            ]
          },
          "metadata": {},
          "output_type": "display_data"
        },
        {
          "name": "stdout",
          "output_type": "stream",
          "text": [
            "[1] \"----AVERAGE LIFE EXPECTANCY BY CONTINENT AND YEAR----\"\n"
          ]
        },
        {
          "name": "stderr",
          "output_type": "stream",
          "text": [
            "\u001b[1m\u001b[22m`summarise()` has grouped output by 'continent'. You can override using the\n",
            "`.groups` argument.\n"
          ]
        },
        {
          "data": {
            "text/html": [
              "<table class=\"dataframe\">\n",
              "<caption>A grouped_df: 60 x 3</caption>\n",
              "<thead>\n",
              "\t<tr><th scope=col>continent</th><th scope=col>year</th><th scope=col>mean(lifeExp)</th></tr>\n",
              "\t<tr><th scope=col>&lt;chr&gt;</th><th scope=col>&lt;dbl&gt;</th><th scope=col>&lt;dbl&gt;</th></tr>\n",
              "</thead>\n",
              "<tbody>\n",
              "\t<tr><td>Africa  </td><td>1952</td><td>39.13550</td></tr>\n",
              "\t<tr><td>Africa  </td><td>1957</td><td>41.26635</td></tr>\n",
              "\t<tr><td>Africa  </td><td>1962</td><td>43.31944</td></tr>\n",
              "\t<tr><td>Africa  </td><td>1967</td><td>45.33454</td></tr>\n",
              "\t<tr><td>Africa  </td><td>1972</td><td>47.45094</td></tr>\n",
              "\t<tr><td>Africa  </td><td>1977</td><td>49.58042</td></tr>\n",
              "\t<tr><td>Africa  </td><td>1982</td><td>51.59287</td></tr>\n",
              "\t<tr><td>Africa  </td><td>1987</td><td>53.34479</td></tr>\n",
              "\t<tr><td>Africa  </td><td>1992</td><td>53.62958</td></tr>\n",
              "\t<tr><td>Africa  </td><td>1997</td><td>53.59827</td></tr>\n",
              "\t<tr><td>Africa  </td><td>2002</td><td>53.32523</td></tr>\n",
              "\t<tr><td>Africa  </td><td>2007</td><td>54.80604</td></tr>\n",
              "\t<tr><td>Americas</td><td>1952</td><td>53.27984</td></tr>\n",
              "\t<tr><td>Americas</td><td>1957</td><td>55.96028</td></tr>\n",
              "\t<tr><td>Americas</td><td>1962</td><td>58.39876</td></tr>\n",
              "\t<tr><td>Americas</td><td>1967</td><td>60.41092</td></tr>\n",
              "\t<tr><td>Americas</td><td>1972</td><td>62.39492</td></tr>\n",
              "\t<tr><td>Americas</td><td>1977</td><td>64.39156</td></tr>\n",
              "\t<tr><td>Americas</td><td>1982</td><td>66.22884</td></tr>\n",
              "\t<tr><td>Americas</td><td>1987</td><td>68.09072</td></tr>\n",
              "\t<tr><td>Americas</td><td>1992</td><td>69.56836</td></tr>\n",
              "\t<tr><td>Americas</td><td>1997</td><td>71.15048</td></tr>\n",
              "\t<tr><td>Americas</td><td>2002</td><td>72.42204</td></tr>\n",
              "\t<tr><td>Americas</td><td>2007</td><td>73.60812</td></tr>\n",
              "\t<tr><td>Asia    </td><td>1952</td><td>46.31439</td></tr>\n",
              "\t<tr><td>Asia    </td><td>1957</td><td>49.31854</td></tr>\n",
              "\t<tr><td>Asia    </td><td>1962</td><td>51.56322</td></tr>\n",
              "\t<tr><td>Asia    </td><td>1967</td><td>54.66364</td></tr>\n",
              "\t<tr><td>Asia    </td><td>1972</td><td>57.31927</td></tr>\n",
              "\t<tr><td>Asia    </td><td>1977</td><td>59.61056</td></tr>\n",
              "\t<tr><td>Asia    </td><td>1982</td><td>62.61794</td></tr>\n",
              "\t<tr><td>Asia    </td><td>1987</td><td>64.85118</td></tr>\n",
              "\t<tr><td>Asia    </td><td>1992</td><td>66.53721</td></tr>\n",
              "\t<tr><td>Asia    </td><td>1997</td><td>68.02052</td></tr>\n",
              "\t<tr><td>Asia    </td><td>2002</td><td>69.23388</td></tr>\n",
              "\t<tr><td>Asia    </td><td>2007</td><td>70.72848</td></tr>\n",
              "\t<tr><td>Europe  </td><td>1952</td><td>64.40850</td></tr>\n",
              "\t<tr><td>Europe  </td><td>1957</td><td>66.70307</td></tr>\n",
              "\t<tr><td>Europe  </td><td>1962</td><td>68.53923</td></tr>\n",
              "\t<tr><td>Europe  </td><td>1967</td><td>69.73760</td></tr>\n",
              "\t<tr><td>Europe  </td><td>1972</td><td>70.77503</td></tr>\n",
              "\t<tr><td>Europe  </td><td>1977</td><td>71.93777</td></tr>\n",
              "\t<tr><td>Europe  </td><td>1982</td><td>72.80640</td></tr>\n",
              "\t<tr><td>Europe  </td><td>1987</td><td>73.64217</td></tr>\n",
              "\t<tr><td>Europe  </td><td>1992</td><td>74.44010</td></tr>\n",
              "\t<tr><td>Europe  </td><td>1997</td><td>75.50517</td></tr>\n",
              "\t<tr><td>Europe  </td><td>2002</td><td>76.70060</td></tr>\n",
              "\t<tr><td>Europe  </td><td>2007</td><td>77.64860</td></tr>\n",
              "\t<tr><td>Oceania </td><td>1952</td><td>69.25500</td></tr>\n",
              "\t<tr><td>Oceania </td><td>1957</td><td>70.29500</td></tr>\n",
              "\t<tr><td>Oceania </td><td>1962</td><td>71.08500</td></tr>\n",
              "\t<tr><td>Oceania </td><td>1967</td><td>71.31000</td></tr>\n",
              "\t<tr><td>Oceania </td><td>1972</td><td>71.91000</td></tr>\n",
              "\t<tr><td>Oceania </td><td>1977</td><td>72.85500</td></tr>\n",
              "\t<tr><td>Oceania </td><td>1982</td><td>74.29000</td></tr>\n",
              "\t<tr><td>Oceania </td><td>1987</td><td>75.32000</td></tr>\n",
              "\t<tr><td>Oceania </td><td>1992</td><td>76.94500</td></tr>\n",
              "\t<tr><td>Oceania </td><td>1997</td><td>78.19000</td></tr>\n",
              "\t<tr><td>Oceania </td><td>2002</td><td>79.74000</td></tr>\n",
              "\t<tr><td>Oceania </td><td>2007</td><td>80.71950</td></tr>\n",
              "</tbody>\n",
              "</table>\n"
            ],
            "text/latex": [
              "A grouped\\_df: 60 x 3\n",
              "\\begin{tabular}{lll}\n",
              " continent & year & mean(lifeExp)\\\\\n",
              " <chr> & <dbl> & <dbl>\\\\\n",
              "\\hline\n",
              "\t Africa   & 1952 & 39.13550\\\\\n",
              "\t Africa   & 1957 & 41.26635\\\\\n",
              "\t Africa   & 1962 & 43.31944\\\\\n",
              "\t Africa   & 1967 & 45.33454\\\\\n",
              "\t Africa   & 1972 & 47.45094\\\\\n",
              "\t Africa   & 1977 & 49.58042\\\\\n",
              "\t Africa   & 1982 & 51.59287\\\\\n",
              "\t Africa   & 1987 & 53.34479\\\\\n",
              "\t Africa   & 1992 & 53.62958\\\\\n",
              "\t Africa   & 1997 & 53.59827\\\\\n",
              "\t Africa   & 2002 & 53.32523\\\\\n",
              "\t Africa   & 2007 & 54.80604\\\\\n",
              "\t Americas & 1952 & 53.27984\\\\\n",
              "\t Americas & 1957 & 55.96028\\\\\n",
              "\t Americas & 1962 & 58.39876\\\\\n",
              "\t Americas & 1967 & 60.41092\\\\\n",
              "\t Americas & 1972 & 62.39492\\\\\n",
              "\t Americas & 1977 & 64.39156\\\\\n",
              "\t Americas & 1982 & 66.22884\\\\\n",
              "\t Americas & 1987 & 68.09072\\\\\n",
              "\t Americas & 1992 & 69.56836\\\\\n",
              "\t Americas & 1997 & 71.15048\\\\\n",
              "\t Americas & 2002 & 72.42204\\\\\n",
              "\t Americas & 2007 & 73.60812\\\\\n",
              "\t Asia     & 1952 & 46.31439\\\\\n",
              "\t Asia     & 1957 & 49.31854\\\\\n",
              "\t Asia     & 1962 & 51.56322\\\\\n",
              "\t Asia     & 1967 & 54.66364\\\\\n",
              "\t Asia     & 1972 & 57.31927\\\\\n",
              "\t Asia     & 1977 & 59.61056\\\\\n",
              "\t Asia     & 1982 & 62.61794\\\\\n",
              "\t Asia     & 1987 & 64.85118\\\\\n",
              "\t Asia     & 1992 & 66.53721\\\\\n",
              "\t Asia     & 1997 & 68.02052\\\\\n",
              "\t Asia     & 2002 & 69.23388\\\\\n",
              "\t Asia     & 2007 & 70.72848\\\\\n",
              "\t Europe   & 1952 & 64.40850\\\\\n",
              "\t Europe   & 1957 & 66.70307\\\\\n",
              "\t Europe   & 1962 & 68.53923\\\\\n",
              "\t Europe   & 1967 & 69.73760\\\\\n",
              "\t Europe   & 1972 & 70.77503\\\\\n",
              "\t Europe   & 1977 & 71.93777\\\\\n",
              "\t Europe   & 1982 & 72.80640\\\\\n",
              "\t Europe   & 1987 & 73.64217\\\\\n",
              "\t Europe   & 1992 & 74.44010\\\\\n",
              "\t Europe   & 1997 & 75.50517\\\\\n",
              "\t Europe   & 2002 & 76.70060\\\\\n",
              "\t Europe   & 2007 & 77.64860\\\\\n",
              "\t Oceania  & 1952 & 69.25500\\\\\n",
              "\t Oceania  & 1957 & 70.29500\\\\\n",
              "\t Oceania  & 1962 & 71.08500\\\\\n",
              "\t Oceania  & 1967 & 71.31000\\\\\n",
              "\t Oceania  & 1972 & 71.91000\\\\\n",
              "\t Oceania  & 1977 & 72.85500\\\\\n",
              "\t Oceania  & 1982 & 74.29000\\\\\n",
              "\t Oceania  & 1987 & 75.32000\\\\\n",
              "\t Oceania  & 1992 & 76.94500\\\\\n",
              "\t Oceania  & 1997 & 78.19000\\\\\n",
              "\t Oceania  & 2002 & 79.74000\\\\\n",
              "\t Oceania  & 2007 & 80.71950\\\\\n",
              "\\end{tabular}\n"
            ],
            "text/markdown": [
              "\n",
              "A grouped_df: 60 x 3\n",
              "\n",
              "| continent &lt;chr&gt; | year &lt;dbl&gt; | mean(lifeExp) &lt;dbl&gt; |\n",
              "|---|---|---|\n",
              "| Africa   | 1952 | 39.13550 |\n",
              "| Africa   | 1957 | 41.26635 |\n",
              "| Africa   | 1962 | 43.31944 |\n",
              "| Africa   | 1967 | 45.33454 |\n",
              "| Africa   | 1972 | 47.45094 |\n",
              "| Africa   | 1977 | 49.58042 |\n",
              "| Africa   | 1982 | 51.59287 |\n",
              "| Africa   | 1987 | 53.34479 |\n",
              "| Africa   | 1992 | 53.62958 |\n",
              "| Africa   | 1997 | 53.59827 |\n",
              "| Africa   | 2002 | 53.32523 |\n",
              "| Africa   | 2007 | 54.80604 |\n",
              "| Americas | 1952 | 53.27984 |\n",
              "| Americas | 1957 | 55.96028 |\n",
              "| Americas | 1962 | 58.39876 |\n",
              "| Americas | 1967 | 60.41092 |\n",
              "| Americas | 1972 | 62.39492 |\n",
              "| Americas | 1977 | 64.39156 |\n",
              "| Americas | 1982 | 66.22884 |\n",
              "| Americas | 1987 | 68.09072 |\n",
              "| Americas | 1992 | 69.56836 |\n",
              "| Americas | 1997 | 71.15048 |\n",
              "| Americas | 2002 | 72.42204 |\n",
              "| Americas | 2007 | 73.60812 |\n",
              "| Asia     | 1952 | 46.31439 |\n",
              "| Asia     | 1957 | 49.31854 |\n",
              "| Asia     | 1962 | 51.56322 |\n",
              "| Asia     | 1967 | 54.66364 |\n",
              "| Asia     | 1972 | 57.31927 |\n",
              "| Asia     | 1977 | 59.61056 |\n",
              "| Asia     | 1982 | 62.61794 |\n",
              "| Asia     | 1987 | 64.85118 |\n",
              "| Asia     | 1992 | 66.53721 |\n",
              "| Asia     | 1997 | 68.02052 |\n",
              "| Asia     | 2002 | 69.23388 |\n",
              "| Asia     | 2007 | 70.72848 |\n",
              "| Europe   | 1952 | 64.40850 |\n",
              "| Europe   | 1957 | 66.70307 |\n",
              "| Europe   | 1962 | 68.53923 |\n",
              "| Europe   | 1967 | 69.73760 |\n",
              "| Europe   | 1972 | 70.77503 |\n",
              "| Europe   | 1977 | 71.93777 |\n",
              "| Europe   | 1982 | 72.80640 |\n",
              "| Europe   | 1987 | 73.64217 |\n",
              "| Europe   | 1992 | 74.44010 |\n",
              "| Europe   | 1997 | 75.50517 |\n",
              "| Europe   | 2002 | 76.70060 |\n",
              "| Europe   | 2007 | 77.64860 |\n",
              "| Oceania  | 1952 | 69.25500 |\n",
              "| Oceania  | 1957 | 70.29500 |\n",
              "| Oceania  | 1962 | 71.08500 |\n",
              "| Oceania  | 1967 | 71.31000 |\n",
              "| Oceania  | 1972 | 71.91000 |\n",
              "| Oceania  | 1977 | 72.85500 |\n",
              "| Oceania  | 1982 | 74.29000 |\n",
              "| Oceania  | 1987 | 75.32000 |\n",
              "| Oceania  | 1992 | 76.94500 |\n",
              "| Oceania  | 1997 | 78.19000 |\n",
              "| Oceania  | 2002 | 79.74000 |\n",
              "| Oceania  | 2007 | 80.71950 |\n",
              "\n"
            ],
            "text/plain": [
              "   continent year mean(lifeExp)\n",
              "1  Africa    1952 39.13550     \n",
              "2  Africa    1957 41.26635     \n",
              "3  Africa    1962 43.31944     \n",
              "4  Africa    1967 45.33454     \n",
              "5  Africa    1972 47.45094     \n",
              "6  Africa    1977 49.58042     \n",
              "7  Africa    1982 51.59287     \n",
              "8  Africa    1987 53.34479     \n",
              "9  Africa    1992 53.62958     \n",
              "10 Africa    1997 53.59827     \n",
              "11 Africa    2002 53.32523     \n",
              "12 Africa    2007 54.80604     \n",
              "13 Americas  1952 53.27984     \n",
              "14 Americas  1957 55.96028     \n",
              "15 Americas  1962 58.39876     \n",
              "16 Americas  1967 60.41092     \n",
              "17 Americas  1972 62.39492     \n",
              "18 Americas  1977 64.39156     \n",
              "19 Americas  1982 66.22884     \n",
              "20 Americas  1987 68.09072     \n",
              "21 Americas  1992 69.56836     \n",
              "22 Americas  1997 71.15048     \n",
              "23 Americas  2002 72.42204     \n",
              "24 Americas  2007 73.60812     \n",
              "25 Asia      1952 46.31439     \n",
              "26 Asia      1957 49.31854     \n",
              "27 Asia      1962 51.56322     \n",
              "28 Asia      1967 54.66364     \n",
              "29 Asia      1972 57.31927     \n",
              "30 Asia      1977 59.61056     \n",
              "31 Asia      1982 62.61794     \n",
              "32 Asia      1987 64.85118     \n",
              "33 Asia      1992 66.53721     \n",
              "34 Asia      1997 68.02052     \n",
              "35 Asia      2002 69.23388     \n",
              "36 Asia      2007 70.72848     \n",
              "37 Europe    1952 64.40850     \n",
              "38 Europe    1957 66.70307     \n",
              "39 Europe    1962 68.53923     \n",
              "40 Europe    1967 69.73760     \n",
              "41 Europe    1972 70.77503     \n",
              "42 Europe    1977 71.93777     \n",
              "43 Europe    1982 72.80640     \n",
              "44 Europe    1987 73.64217     \n",
              "45 Europe    1992 74.44010     \n",
              "46 Europe    1997 75.50517     \n",
              "47 Europe    2002 76.70060     \n",
              "48 Europe    2007 77.64860     \n",
              "49 Oceania   1952 69.25500     \n",
              "50 Oceania   1957 70.29500     \n",
              "51 Oceania   1962 71.08500     \n",
              "52 Oceania   1967 71.31000     \n",
              "53 Oceania   1972 71.91000     \n",
              "54 Oceania   1977 72.85500     \n",
              "55 Oceania   1982 74.29000     \n",
              "56 Oceania   1987 75.32000     \n",
              "57 Oceania   1992 76.94500     \n",
              "58 Oceania   1997 78.19000     \n",
              "59 Oceania   2002 79.74000     \n",
              "60 Oceania   2007 80.71950     "
            ]
          },
          "metadata": {},
          "output_type": "display_data"
        },
        {
          "name": "stdout",
          "output_type": "stream",
          "text": [
            "[1] \"----AVERAGE+MEDIAN EXPECTANCY BY YEAR----\"\n"
          ]
        },
        {
          "data": {
            "text/html": [
              "<table class=\"dataframe\">\n",
              "<caption>A tibble: 12 x 3</caption>\n",
              "<thead>\n",
              "\t<tr><th scope=col>year</th><th scope=col>means</th><th scope=col>medians</th></tr>\n",
              "\t<tr><th scope=col>&lt;dbl&gt;</th><th scope=col>&lt;dbl&gt;</th><th scope=col>&lt;dbl&gt;</th></tr>\n",
              "</thead>\n",
              "<tbody>\n",
              "\t<tr><td>1952</td><td>49.05762</td><td>45.1355</td></tr>\n",
              "\t<tr><td>1957</td><td>51.50740</td><td>48.3605</td></tr>\n",
              "\t<tr><td>1962</td><td>53.60925</td><td>50.8810</td></tr>\n",
              "\t<tr><td>1967</td><td>55.67829</td><td>53.8250</td></tr>\n",
              "\t<tr><td>1972</td><td>57.64739</td><td>56.5300</td></tr>\n",
              "\t<tr><td>1977</td><td>59.57016</td><td>59.6720</td></tr>\n",
              "\t<tr><td>1982</td><td>61.53320</td><td>62.4415</td></tr>\n",
              "\t<tr><td>1987</td><td>63.21261</td><td>65.8340</td></tr>\n",
              "\t<tr><td>1992</td><td>64.16034</td><td>67.7030</td></tr>\n",
              "\t<tr><td>1997</td><td>65.01468</td><td>69.3940</td></tr>\n",
              "\t<tr><td>2002</td><td>65.69492</td><td>70.8255</td></tr>\n",
              "\t<tr><td>2007</td><td>67.00742</td><td>71.9355</td></tr>\n",
              "</tbody>\n",
              "</table>\n"
            ],
            "text/latex": [
              "A tibble: 12 x 3\n",
              "\\begin{tabular}{lll}\n",
              " year & means & medians\\\\\n",
              " <dbl> & <dbl> & <dbl>\\\\\n",
              "\\hline\n",
              "\t 1952 & 49.05762 & 45.1355\\\\\n",
              "\t 1957 & 51.50740 & 48.3605\\\\\n",
              "\t 1962 & 53.60925 & 50.8810\\\\\n",
              "\t 1967 & 55.67829 & 53.8250\\\\\n",
              "\t 1972 & 57.64739 & 56.5300\\\\\n",
              "\t 1977 & 59.57016 & 59.6720\\\\\n",
              "\t 1982 & 61.53320 & 62.4415\\\\\n",
              "\t 1987 & 63.21261 & 65.8340\\\\\n",
              "\t 1992 & 64.16034 & 67.7030\\\\\n",
              "\t 1997 & 65.01468 & 69.3940\\\\\n",
              "\t 2002 & 65.69492 & 70.8255\\\\\n",
              "\t 2007 & 67.00742 & 71.9355\\\\\n",
              "\\end{tabular}\n"
            ],
            "text/markdown": [
              "\n",
              "A tibble: 12 x 3\n",
              "\n",
              "| year &lt;dbl&gt; | means &lt;dbl&gt; | medians &lt;dbl&gt; |\n",
              "|---|---|---|\n",
              "| 1952 | 49.05762 | 45.1355 |\n",
              "| 1957 | 51.50740 | 48.3605 |\n",
              "| 1962 | 53.60925 | 50.8810 |\n",
              "| 1967 | 55.67829 | 53.8250 |\n",
              "| 1972 | 57.64739 | 56.5300 |\n",
              "| 1977 | 59.57016 | 59.6720 |\n",
              "| 1982 | 61.53320 | 62.4415 |\n",
              "| 1987 | 63.21261 | 65.8340 |\n",
              "| 1992 | 64.16034 | 67.7030 |\n",
              "| 1997 | 65.01468 | 69.3940 |\n",
              "| 2002 | 65.69492 | 70.8255 |\n",
              "| 2007 | 67.00742 | 71.9355 |\n",
              "\n"
            ],
            "text/plain": [
              "   year means    medians\n",
              "1  1952 49.05762 45.1355\n",
              "2  1957 51.50740 48.3605\n",
              "3  1962 53.60925 50.8810\n",
              "4  1967 55.67829 53.8250\n",
              "5  1972 57.64739 56.5300\n",
              "6  1977 59.57016 59.6720\n",
              "7  1982 61.53320 62.4415\n",
              "8  1987 63.21261 65.8340\n",
              "9  1992 64.16034 67.7030\n",
              "10 1997 65.01468 69.3940\n",
              "11 2002 65.69492 70.8255\n",
              "12 2007 67.00742 71.9355"
            ]
          },
          "metadata": {},
          "output_type": "display_data"
        }
      ],
      "source": [
        "print(\"----GROUP BY CONTINENT----\")\n",
        "gap %>% group_by(continent)\n",
        "\n",
        "print(\"----AVERAGE LIFE EXPECTANCY BY CONTINENT----\")\n",
        "gap %>% group_by(continent) %>% summarize(avgLifeExp = mean(lifeExp))\n",
        "\n",
        "\n",
        "print(\"----AVERAGE LIFE EXPECTANCY BY COUNTRY----\")\n",
        "gap %>% group_by(country) %>% summarize(avgLifeExp = mean(lifeExp))\n",
        "\n",
        "print(\"----AVERAGE LIFE EXPECTANCY BY CONTINENT AND YEAR----\")\n",
        "gap %>% group_by(continent, year) %>% summarize(mean(lifeExp))\n",
        "\n",
        "print(\"----AVERAGE+MEDIAN EXPECTANCY BY YEAR----\")\n",
        "gap %>% group_by(year) %>% summarize(means = mean(lifeExp), medians = median(lifeExp))"
      ]
    },
    {
      "cell_type": "markdown",
      "metadata": {},
      "source": [
        "## JOINING"
      ]
    },
    {
      "cell_type": "code",
      "execution_count": 11,
      "metadata": {
        "vscode": {
          "languageId": "r"
        }
      },
      "outputs": [
        {
          "name": "stderr",
          "output_type": "stream",
          "text": [
            "\u001b[1mRows: \u001b[22m\u001b[34m3\u001b[39m \u001b[1mColumns: \u001b[22m\u001b[34m3\u001b[39m\n",
            "\u001b[36m--\u001b[39m \u001b[1mColumn specification\u001b[22m \u001b[36m--------------------------------------------------------\u001b[39m\n",
            "\u001b[1mDelimiter:\u001b[22m \",\"\n",
            "\u001b[31mchr\u001b[39m (3): x, y, w\n"
          ]
        },
        {
          "name": "stderr",
          "output_type": "stream",
          "text": [
            "\n",
            "\u001b[36mi\u001b[39m Use `spec()` to retrieve the full column specification for this data.\n",
            "\u001b[36mi\u001b[39m Specify the column types or set `show_col_types = FALSE` to quiet this message.\n",
            "\u001b[1mRows: \u001b[22m\u001b[34m4\u001b[39m \u001b[1mColumns: \u001b[22m\u001b[34m4\u001b[39m\n",
            "\u001b[36m--\u001b[39m \u001b[1mColumn specification\u001b[22m \u001b[36m--------------------------------------------------------\u001b[39m\n",
            "\u001b[1mDelimiter:\u001b[22m \",\"\n",
            "\u001b[31mchr\u001b[39m (4): x, y, w, z\n",
            "\n",
            "\u001b[36mi\u001b[39m Use `spec()` to retrieve the full column specification for this data.\n",
            "\u001b[36mi\u001b[39m Specify the column types or set `show_col_types = FALSE` to quiet this message.\n"
          ]
        },
        {
          "name": "stdout",
          "output_type": "stream",
          "text": [
            "[1] \"----ORIGINAL----\"\n"
          ]
        },
        {
          "data": {
            "text/html": [
              "<table class=\"dataframe\">\n",
              "<caption>A tibble: 3 x 3</caption>\n",
              "<thead>\n",
              "\t<tr><th scope=col>x</th><th scope=col>y</th><th scope=col>w</th></tr>\n",
              "\t<tr><th scope=col>&lt;chr&gt;</th><th scope=col>&lt;chr&gt;</th><th scope=col>&lt;chr&gt;</th></tr>\n",
              "</thead>\n",
              "<tbody>\n",
              "\t<tr><td>x1</td><td>y1</td><td>w1</td></tr>\n",
              "\t<tr><td>x2</td><td>y2</td><td>w2</td></tr>\n",
              "\t<tr><td>x5</td><td>y5</td><td>w5</td></tr>\n",
              "</tbody>\n",
              "</table>\n"
            ],
            "text/latex": [
              "A tibble: 3 x 3\n",
              "\\begin{tabular}{lll}\n",
              " x & y & w\\\\\n",
              " <chr> & <chr> & <chr>\\\\\n",
              "\\hline\n",
              "\t x1 & y1 & w1\\\\\n",
              "\t x2 & y2 & w2\\\\\n",
              "\t x5 & y5 & w5\\\\\n",
              "\\end{tabular}\n"
            ],
            "text/markdown": [
              "\n",
              "A tibble: 3 x 3\n",
              "\n",
              "| x &lt;chr&gt; | y &lt;chr&gt; | w &lt;chr&gt; |\n",
              "|---|---|---|\n",
              "| x1 | y1 | w1 |\n",
              "| x2 | y2 | w2 |\n",
              "| x5 | y5 | w5 |\n",
              "\n"
            ],
            "text/plain": [
              "  x  y  w \n",
              "1 x1 y1 w1\n",
              "2 x2 y2 w2\n",
              "3 x5 y5 w5"
            ]
          },
          "metadata": {},
          "output_type": "display_data"
        },
        {
          "data": {
            "text/html": [
              "<table class=\"dataframe\">\n",
              "<caption>A tibble: 4 x 4</caption>\n",
              "<thead>\n",
              "\t<tr><th scope=col>x</th><th scope=col>y</th><th scope=col>w</th><th scope=col>z</th></tr>\n",
              "\t<tr><th scope=col>&lt;chr&gt;</th><th scope=col>&lt;chr&gt;</th><th scope=col>&lt;chr&gt;</th><th scope=col>&lt;chr&gt;</th></tr>\n",
              "</thead>\n",
              "<tbody>\n",
              "\t<tr><td>x1</td><td>y1</td><td>w1</td><td>z1</td></tr>\n",
              "\t<tr><td>x2</td><td>y2</td><td>w2</td><td>z2</td></tr>\n",
              "\t<tr><td>x3</td><td>y3</td><td>w3</td><td>z3</td></tr>\n",
              "\t<tr><td>x4</td><td>y4</td><td>w4</td><td>z4</td></tr>\n",
              "</tbody>\n",
              "</table>\n"
            ],
            "text/latex": [
              "A tibble: 4 x 4\n",
              "\\begin{tabular}{llll}\n",
              " x & y & w & z\\\\\n",
              " <chr> & <chr> & <chr> & <chr>\\\\\n",
              "\\hline\n",
              "\t x1 & y1 & w1 & z1\\\\\n",
              "\t x2 & y2 & w2 & z2\\\\\n",
              "\t x3 & y3 & w3 & z3\\\\\n",
              "\t x4 & y4 & w4 & z4\\\\\n",
              "\\end{tabular}\n"
            ],
            "text/markdown": [
              "\n",
              "A tibble: 4 x 4\n",
              "\n",
              "| x &lt;chr&gt; | y &lt;chr&gt; | w &lt;chr&gt; | z &lt;chr&gt; |\n",
              "|---|---|---|---|\n",
              "| x1 | y1 | w1 | z1 |\n",
              "| x2 | y2 | w2 | z2 |\n",
              "| x3 | y3 | w3 | z3 |\n",
              "| x4 | y4 | w4 | z4 |\n",
              "\n"
            ],
            "text/plain": [
              "  x  y  w  z \n",
              "1 x1 y1 w1 z1\n",
              "2 x2 y2 w2 z2\n",
              "3 x3 y3 w3 z3\n",
              "4 x4 y4 w4 z4"
            ]
          },
          "metadata": {},
          "output_type": "display_data"
        },
        {
          "name": "stdout",
          "output_type": "stream",
          "text": [
            "[1] \"----INNER JOIN----\"\n"
          ]
        },
        {
          "name": "stderr",
          "output_type": "stream",
          "text": [
            "\u001b[1m\u001b[22mJoining with `by = join_by(x, y, w)`\n"
          ]
        },
        {
          "data": {
            "text/html": [
              "<table class=\"dataframe\">\n",
              "<caption>A tibble: 2 x 4</caption>\n",
              "<thead>\n",
              "\t<tr><th scope=col>x</th><th scope=col>y</th><th scope=col>w</th><th scope=col>z</th></tr>\n",
              "\t<tr><th scope=col>&lt;chr&gt;</th><th scope=col>&lt;chr&gt;</th><th scope=col>&lt;chr&gt;</th><th scope=col>&lt;chr&gt;</th></tr>\n",
              "</thead>\n",
              "<tbody>\n",
              "\t<tr><td>x1</td><td>y1</td><td>w1</td><td>z1</td></tr>\n",
              "\t<tr><td>x2</td><td>y2</td><td>w2</td><td>z2</td></tr>\n",
              "</tbody>\n",
              "</table>\n"
            ],
            "text/latex": [
              "A tibble: 2 x 4\n",
              "\\begin{tabular}{llll}\n",
              " x & y & w & z\\\\\n",
              " <chr> & <chr> & <chr> & <chr>\\\\\n",
              "\\hline\n",
              "\t x1 & y1 & w1 & z1\\\\\n",
              "\t x2 & y2 & w2 & z2\\\\\n",
              "\\end{tabular}\n"
            ],
            "text/markdown": [
              "\n",
              "A tibble: 2 x 4\n",
              "\n",
              "| x &lt;chr&gt; | y &lt;chr&gt; | w &lt;chr&gt; | z &lt;chr&gt; |\n",
              "|---|---|---|---|\n",
              "| x1 | y1 | w1 | z1 |\n",
              "| x2 | y2 | w2 | z2 |\n",
              "\n"
            ],
            "text/plain": [
              "  x  y  w  z \n",
              "1 x1 y1 w1 z1\n",
              "2 x2 y2 w2 z2"
            ]
          },
          "metadata": {},
          "output_type": "display_data"
        },
        {
          "data": {
            "text/html": [
              "<table class=\"dataframe\">\n",
              "<caption>A tibble: 2 x 6</caption>\n",
              "<thead>\n",
              "\t<tr><th scope=col>x</th><th scope=col>y.x</th><th scope=col>w.x</th><th scope=col>y.y</th><th scope=col>w.y</th><th scope=col>z</th></tr>\n",
              "\t<tr><th scope=col>&lt;chr&gt;</th><th scope=col>&lt;chr&gt;</th><th scope=col>&lt;chr&gt;</th><th scope=col>&lt;chr&gt;</th><th scope=col>&lt;chr&gt;</th><th scope=col>&lt;chr&gt;</th></tr>\n",
              "</thead>\n",
              "<tbody>\n",
              "\t<tr><td>x1</td><td>y1</td><td>w1</td><td>y1</td><td>w1</td><td>z1</td></tr>\n",
              "\t<tr><td>x2</td><td>y2</td><td>w2</td><td>y2</td><td>w2</td><td>z2</td></tr>\n",
              "</tbody>\n",
              "</table>\n"
            ],
            "text/latex": [
              "A tibble: 2 x 6\n",
              "\\begin{tabular}{llllll}\n",
              " x & y.x & w.x & y.y & w.y & z\\\\\n",
              " <chr> & <chr> & <chr> & <chr> & <chr> & <chr>\\\\\n",
              "\\hline\n",
              "\t x1 & y1 & w1 & y1 & w1 & z1\\\\\n",
              "\t x2 & y2 & w2 & y2 & w2 & z2\\\\\n",
              "\\end{tabular}\n"
            ],
            "text/markdown": [
              "\n",
              "A tibble: 2 x 6\n",
              "\n",
              "| x &lt;chr&gt; | y.x &lt;chr&gt; | w.x &lt;chr&gt; | y.y &lt;chr&gt; | w.y &lt;chr&gt; | z &lt;chr&gt; |\n",
              "|---|---|---|---|---|---|\n",
              "| x1 | y1 | w1 | y1 | w1 | z1 |\n",
              "| x2 | y2 | w2 | y2 | w2 | z2 |\n",
              "\n"
            ],
            "text/plain": [
              "  x  y.x w.x y.y w.y z \n",
              "1 x1 y1  w1  y1  w1  z1\n",
              "2 x2 y2  w2  y2  w2  z2"
            ]
          },
          "metadata": {},
          "output_type": "display_data"
        },
        {
          "data": {
            "text/html": [
              "<table class=\"dataframe\">\n",
              "<caption>A tibble: 2 x 5</caption>\n",
              "<thead>\n",
              "\t<tr><th scope=col>x</th><th scope=col>y.x</th><th scope=col>w</th><th scope=col>y.y</th><th scope=col>z</th></tr>\n",
              "\t<tr><th scope=col>&lt;chr&gt;</th><th scope=col>&lt;chr&gt;</th><th scope=col>&lt;chr&gt;</th><th scope=col>&lt;chr&gt;</th><th scope=col>&lt;chr&gt;</th></tr>\n",
              "</thead>\n",
              "<tbody>\n",
              "\t<tr><td>x1</td><td>y1</td><td>w1</td><td>y1</td><td>z1</td></tr>\n",
              "\t<tr><td>x2</td><td>y2</td><td>w2</td><td>y2</td><td>z2</td></tr>\n",
              "</tbody>\n",
              "</table>\n"
            ],
            "text/latex": [
              "A tibble: 2 x 5\n",
              "\\begin{tabular}{lllll}\n",
              " x & y.x & w & y.y & z\\\\\n",
              " <chr> & <chr> & <chr> & <chr> & <chr>\\\\\n",
              "\\hline\n",
              "\t x1 & y1 & w1 & y1 & z1\\\\\n",
              "\t x2 & y2 & w2 & y2 & z2\\\\\n",
              "\\end{tabular}\n"
            ],
            "text/markdown": [
              "\n",
              "A tibble: 2 x 5\n",
              "\n",
              "| x &lt;chr&gt; | y.x &lt;chr&gt; | w &lt;chr&gt; | y.y &lt;chr&gt; | z &lt;chr&gt; |\n",
              "|---|---|---|---|---|\n",
              "| x1 | y1 | w1 | y1 | z1 |\n",
              "| x2 | y2 | w2 | y2 | z2 |\n",
              "\n"
            ],
            "text/plain": [
              "  x  y.x w  y.y z \n",
              "1 x1 y1  w1 y1  z1\n",
              "2 x2 y2  w2 y2  z2"
            ]
          },
          "metadata": {},
          "output_type": "display_data"
        },
        {
          "name": "stdout",
          "output_type": "stream",
          "text": [
            "[1] \"----LEFT JOIN----\"\n"
          ]
        },
        {
          "name": "stderr",
          "output_type": "stream",
          "text": [
            "\u001b[1m\u001b[22mJoining with `by = join_by(x, y, w)`\n"
          ]
        },
        {
          "data": {
            "text/html": [
              "<table class=\"dataframe\">\n",
              "<caption>A tibble: 3 x 4</caption>\n",
              "<thead>\n",
              "\t<tr><th scope=col>x</th><th scope=col>y</th><th scope=col>w</th><th scope=col>z</th></tr>\n",
              "\t<tr><th scope=col>&lt;chr&gt;</th><th scope=col>&lt;chr&gt;</th><th scope=col>&lt;chr&gt;</th><th scope=col>&lt;chr&gt;</th></tr>\n",
              "</thead>\n",
              "<tbody>\n",
              "\t<tr><td>x1</td><td>y1</td><td>w1</td><td>z1</td></tr>\n",
              "\t<tr><td>x2</td><td>y2</td><td>w2</td><td>z2</td></tr>\n",
              "\t<tr><td>x5</td><td>y5</td><td>w5</td><td>NA</td></tr>\n",
              "</tbody>\n",
              "</table>\n"
            ],
            "text/latex": [
              "A tibble: 3 x 4\n",
              "\\begin{tabular}{llll}\n",
              " x & y & w & z\\\\\n",
              " <chr> & <chr> & <chr> & <chr>\\\\\n",
              "\\hline\n",
              "\t x1 & y1 & w1 & z1\\\\\n",
              "\t x2 & y2 & w2 & z2\\\\\n",
              "\t x5 & y5 & w5 & NA\\\\\n",
              "\\end{tabular}\n"
            ],
            "text/markdown": [
              "\n",
              "A tibble: 3 x 4\n",
              "\n",
              "| x &lt;chr&gt; | y &lt;chr&gt; | w &lt;chr&gt; | z &lt;chr&gt; |\n",
              "|---|---|---|---|\n",
              "| x1 | y1 | w1 | z1 |\n",
              "| x2 | y2 | w2 | z2 |\n",
              "| x5 | y5 | w5 | NA |\n",
              "\n"
            ],
            "text/plain": [
              "  x  y  w  z \n",
              "1 x1 y1 w1 z1\n",
              "2 x2 y2 w2 z2\n",
              "3 x5 y5 w5 NA"
            ]
          },
          "metadata": {},
          "output_type": "display_data"
        },
        {
          "name": "stdout",
          "output_type": "stream",
          "text": [
            "[1] \"----RIGHT JOIN----\"\n"
          ]
        },
        {
          "name": "stderr",
          "output_type": "stream",
          "text": [
            "\u001b[1m\u001b[22mJoining with `by = join_by(x, y, w)`\n"
          ]
        },
        {
          "data": {
            "text/html": [
              "<table class=\"dataframe\">\n",
              "<caption>A tibble: 4 x 4</caption>\n",
              "<thead>\n",
              "\t<tr><th scope=col>x</th><th scope=col>y</th><th scope=col>w</th><th scope=col>z</th></tr>\n",
              "\t<tr><th scope=col>&lt;chr&gt;</th><th scope=col>&lt;chr&gt;</th><th scope=col>&lt;chr&gt;</th><th scope=col>&lt;chr&gt;</th></tr>\n",
              "</thead>\n",
              "<tbody>\n",
              "\t<tr><td>x1</td><td>y1</td><td>w1</td><td>z1</td></tr>\n",
              "\t<tr><td>x2</td><td>y2</td><td>w2</td><td>z2</td></tr>\n",
              "\t<tr><td>x3</td><td>y3</td><td>w3</td><td>z3</td></tr>\n",
              "\t<tr><td>x4</td><td>y4</td><td>w4</td><td>z4</td></tr>\n",
              "</tbody>\n",
              "</table>\n"
            ],
            "text/latex": [
              "A tibble: 4 x 4\n",
              "\\begin{tabular}{llll}\n",
              " x & y & w & z\\\\\n",
              " <chr> & <chr> & <chr> & <chr>\\\\\n",
              "\\hline\n",
              "\t x1 & y1 & w1 & z1\\\\\n",
              "\t x2 & y2 & w2 & z2\\\\\n",
              "\t x3 & y3 & w3 & z3\\\\\n",
              "\t x4 & y4 & w4 & z4\\\\\n",
              "\\end{tabular}\n"
            ],
            "text/markdown": [
              "\n",
              "A tibble: 4 x 4\n",
              "\n",
              "| x &lt;chr&gt; | y &lt;chr&gt; | w &lt;chr&gt; | z &lt;chr&gt; |\n",
              "|---|---|---|---|\n",
              "| x1 | y1 | w1 | z1 |\n",
              "| x2 | y2 | w2 | z2 |\n",
              "| x3 | y3 | w3 | z3 |\n",
              "| x4 | y4 | w4 | z4 |\n",
              "\n"
            ],
            "text/plain": [
              "  x  y  w  z \n",
              "1 x1 y1 w1 z1\n",
              "2 x2 y2 w2 z2\n",
              "3 x3 y3 w3 z3\n",
              "4 x4 y4 w4 z4"
            ]
          },
          "metadata": {},
          "output_type": "display_data"
        },
        {
          "name": "stdout",
          "output_type": "stream",
          "text": [
            "[1] \"----FULL JOIN----\"\n"
          ]
        },
        {
          "name": "stderr",
          "output_type": "stream",
          "text": [
            "\u001b[1m\u001b[22mJoining with `by = join_by(x, y, w)`\n"
          ]
        },
        {
          "data": {
            "text/html": [
              "<table class=\"dataframe\">\n",
              "<caption>A tibble: 5 x 4</caption>\n",
              "<thead>\n",
              "\t<tr><th scope=col>x</th><th scope=col>y</th><th scope=col>w</th><th scope=col>z</th></tr>\n",
              "\t<tr><th scope=col>&lt;chr&gt;</th><th scope=col>&lt;chr&gt;</th><th scope=col>&lt;chr&gt;</th><th scope=col>&lt;chr&gt;</th></tr>\n",
              "</thead>\n",
              "<tbody>\n",
              "\t<tr><td>x1</td><td>y1</td><td>w1</td><td>z1</td></tr>\n",
              "\t<tr><td>x2</td><td>y2</td><td>w2</td><td>z2</td></tr>\n",
              "\t<tr><td>x5</td><td>y5</td><td>w5</td><td>NA</td></tr>\n",
              "\t<tr><td>x3</td><td>y3</td><td>w3</td><td>z3</td></tr>\n",
              "\t<tr><td>x4</td><td>y4</td><td>w4</td><td>z4</td></tr>\n",
              "</tbody>\n",
              "</table>\n"
            ],
            "text/latex": [
              "A tibble: 5 x 4\n",
              "\\begin{tabular}{llll}\n",
              " x & y & w & z\\\\\n",
              " <chr> & <chr> & <chr> & <chr>\\\\\n",
              "\\hline\n",
              "\t x1 & y1 & w1 & z1\\\\\n",
              "\t x2 & y2 & w2 & z2\\\\\n",
              "\t x5 & y5 & w5 & NA\\\\\n",
              "\t x3 & y3 & w3 & z3\\\\\n",
              "\t x4 & y4 & w4 & z4\\\\\n",
              "\\end{tabular}\n"
            ],
            "text/markdown": [
              "\n",
              "A tibble: 5 x 4\n",
              "\n",
              "| x &lt;chr&gt; | y &lt;chr&gt; | w &lt;chr&gt; | z &lt;chr&gt; |\n",
              "|---|---|---|---|\n",
              "| x1 | y1 | w1 | z1 |\n",
              "| x2 | y2 | w2 | z2 |\n",
              "| x5 | y5 | w5 | NA |\n",
              "| x3 | y3 | w3 | z3 |\n",
              "| x4 | y4 | w4 | z4 |\n",
              "\n"
            ],
            "text/plain": [
              "  x  y  w  z \n",
              "1 x1 y1 w1 z1\n",
              "2 x2 y2 w2 z2\n",
              "3 x5 y5 w5 NA\n",
              "4 x3 y3 w3 z3\n",
              "5 x4 y4 w4 z4"
            ]
          },
          "metadata": {},
          "output_type": "display_data"
        }
      ],
      "source": [
        "#LOAD DATA\n",
        "df1 <- read_csv('data/toy-1.csv')\n",
        "df2 <- read_csv('data/toy-2.csv')\n",
        "\n",
        "print(\"----ORIGINAL----\")\n",
        "head(df1)\n",
        "head(df2)\n",
        "\n",
        "print(\"----INNER JOIN----\")\n",
        "df1 %>% inner_join(df2) %>% head()\n",
        "df1 %>% inner_join(df2, by = c('x')) %>% head()\n",
        "df1 %>% inner_join(df2, by = c('x' , 'w')) %>% head()\n",
        "\n",
        "print(\"----LEFT JOIN----\")\n",
        "df1 %>% left_join(df2) %>% head()\n",
        "# df1 %>% left_join(df2,by = c('x' , 'y')) %>% head()\n",
        "\n",
        "print(\"----RIGHT JOIN----\")\n",
        "df1 %>% right_join(df2) %>% head()\n",
        "\n",
        "print(\"----FULL JOIN----\")\n",
        "df1 %>% full_join(df2) %>% head()"
      ]
    },
    {
      "cell_type": "markdown",
      "metadata": {},
      "source": [
        "## Mutate, select, filter, arrange, convert"
      ]
    },
    {
      "cell_type": "code",
      "execution_count": 12,
      "metadata": {
        "vscode": {
          "languageId": "r"
        }
      },
      "outputs": [
        {
          "name": "stdout",
          "output_type": "stream",
          "text": [
            "[1] \"----READ----\"\n"
          ]
        },
        {
          "name": "stderr",
          "output_type": "stream",
          "text": [
            "\u001b[1m\u001b[22mNew names:\n",
            "\u001b[36m*\u001b[39m `` -> `...1`\n",
            "\u001b[1mRows: \u001b[22m\u001b[34m234\u001b[39m \u001b[1mColumns: \u001b[22m\u001b[34m12\u001b[39m\n",
            "\u001b[36m--\u001b[39m \u001b[1mColumn specification\u001b[22m \u001b[36m--------------------------------------------------------\u001b[39m\n",
            "\u001b[1mDelimiter:\u001b[22m \",\"\n",
            "\u001b[31mchr\u001b[39m (6): manufacturer, model, trans, drv, fl, class\n",
            "\u001b[32mdbl\u001b[39m (6): ...1, displ, year, cyl, cty, hwy\n",
            "\n",
            "\u001b[36mi\u001b[39m Use `spec()` to retrieve the full column specification for this data.\n",
            "\u001b[36mi\u001b[39m Specify the column types or set `show_col_types = FALSE` to quiet this message.\n"
          ]
        },
        {
          "data": {
            "text/html": [
              "<table class=\"dataframe\">\n",
              "<caption>A tibble: 6 x 12</caption>\n",
              "<thead>\n",
              "\t<tr><th scope=col>...1</th><th scope=col>manufacturer</th><th scope=col>model</th><th scope=col>displ</th><th scope=col>year</th><th scope=col>cyl</th><th scope=col>trans</th><th scope=col>drv</th><th scope=col>cty</th><th scope=col>hwy</th><th scope=col>fl</th><th scope=col>class</th></tr>\n",
              "\t<tr><th scope=col>&lt;dbl&gt;</th><th scope=col>&lt;chr&gt;</th><th scope=col>&lt;chr&gt;</th><th scope=col>&lt;dbl&gt;</th><th scope=col>&lt;dbl&gt;</th><th scope=col>&lt;dbl&gt;</th><th scope=col>&lt;chr&gt;</th><th scope=col>&lt;chr&gt;</th><th scope=col>&lt;dbl&gt;</th><th scope=col>&lt;dbl&gt;</th><th scope=col>&lt;chr&gt;</th><th scope=col>&lt;chr&gt;</th></tr>\n",
              "</thead>\n",
              "<tbody>\n",
              "\t<tr><td>1</td><td>audi</td><td>a4</td><td>1.8</td><td>1999</td><td>4</td><td>auto(l5)  </td><td>f</td><td>18</td><td>29</td><td>p</td><td>compact</td></tr>\n",
              "\t<tr><td>2</td><td>audi</td><td>a4</td><td>1.8</td><td>1999</td><td>4</td><td>manual(m5)</td><td>f</td><td>21</td><td>29</td><td>p</td><td>compact</td></tr>\n",
              "\t<tr><td>3</td><td>audi</td><td>a4</td><td>2.0</td><td>2008</td><td>4</td><td>manual(m6)</td><td>f</td><td>20</td><td>31</td><td>p</td><td>compact</td></tr>\n",
              "\t<tr><td>4</td><td>audi</td><td>a4</td><td>2.0</td><td>2008</td><td>4</td><td>auto(av)  </td><td>f</td><td>21</td><td>30</td><td>p</td><td>compact</td></tr>\n",
              "\t<tr><td>5</td><td>audi</td><td>a4</td><td>2.8</td><td>1999</td><td>6</td><td>auto(l5)  </td><td>f</td><td>16</td><td>26</td><td>p</td><td>compact</td></tr>\n",
              "\t<tr><td>6</td><td>audi</td><td>a4</td><td>2.8</td><td>1999</td><td>6</td><td>manual(m5)</td><td>f</td><td>18</td><td>26</td><td>p</td><td>compact</td></tr>\n",
              "</tbody>\n",
              "</table>\n"
            ],
            "text/latex": [
              "A tibble: 6 x 12\n",
              "\\begin{tabular}{llllllllllll}\n",
              " ...1 & manufacturer & model & displ & year & cyl & trans & drv & cty & hwy & fl & class\\\\\n",
              " <dbl> & <chr> & <chr> & <dbl> & <dbl> & <dbl> & <chr> & <chr> & <dbl> & <dbl> & <chr> & <chr>\\\\\n",
              "\\hline\n",
              "\t 1 & audi & a4 & 1.8 & 1999 & 4 & auto(l5)   & f & 18 & 29 & p & compact\\\\\n",
              "\t 2 & audi & a4 & 1.8 & 1999 & 4 & manual(m5) & f & 21 & 29 & p & compact\\\\\n",
              "\t 3 & audi & a4 & 2.0 & 2008 & 4 & manual(m6) & f & 20 & 31 & p & compact\\\\\n",
              "\t 4 & audi & a4 & 2.0 & 2008 & 4 & auto(av)   & f & 21 & 30 & p & compact\\\\\n",
              "\t 5 & audi & a4 & 2.8 & 1999 & 6 & auto(l5)   & f & 16 & 26 & p & compact\\\\\n",
              "\t 6 & audi & a4 & 2.8 & 1999 & 6 & manual(m5) & f & 18 & 26 & p & compact\\\\\n",
              "\\end{tabular}\n"
            ],
            "text/markdown": [
              "\n",
              "A tibble: 6 x 12\n",
              "\n",
              "| ...1 &lt;dbl&gt; | manufacturer &lt;chr&gt; | model &lt;chr&gt; | displ &lt;dbl&gt; | year &lt;dbl&gt; | cyl &lt;dbl&gt; | trans &lt;chr&gt; | drv &lt;chr&gt; | cty &lt;dbl&gt; | hwy &lt;dbl&gt; | fl &lt;chr&gt; | class &lt;chr&gt; |\n",
              "|---|---|---|---|---|---|---|---|---|---|---|---|\n",
              "| 1 | audi | a4 | 1.8 | 1999 | 4 | auto(l5)   | f | 18 | 29 | p | compact |\n",
              "| 2 | audi | a4 | 1.8 | 1999 | 4 | manual(m5) | f | 21 | 29 | p | compact |\n",
              "| 3 | audi | a4 | 2.0 | 2008 | 4 | manual(m6) | f | 20 | 31 | p | compact |\n",
              "| 4 | audi | a4 | 2.0 | 2008 | 4 | auto(av)   | f | 21 | 30 | p | compact |\n",
              "| 5 | audi | a4 | 2.8 | 1999 | 6 | auto(l5)   | f | 16 | 26 | p | compact |\n",
              "| 6 | audi | a4 | 2.8 | 1999 | 6 | manual(m5) | f | 18 | 26 | p | compact |\n",
              "\n"
            ],
            "text/plain": [
              "  ...1 manufacturer model displ year cyl trans      drv cty hwy fl class  \n",
              "1 1    audi         a4    1.8   1999 4   auto(l5)   f   18  29  p  compact\n",
              "2 2    audi         a4    1.8   1999 4   manual(m5) f   21  29  p  compact\n",
              "3 3    audi         a4    2.0   2008 4   manual(m6) f   20  31  p  compact\n",
              "4 4    audi         a4    2.0   2008 4   auto(av)   f   21  30  p  compact\n",
              "5 5    audi         a4    2.8   1999 6   auto(l5)   f   16  26  p  compact\n",
              "6 6    audi         a4    2.8   1999 6   manual(m5) f   18  26  p  compact"
            ]
          },
          "metadata": {},
          "output_type": "display_data"
        },
        {
          "name": "stdout",
          "output_type": "stream",
          "text": [
            "[1] \"----MUTATE----\"\n"
          ]
        },
        {
          "data": {
            "text/html": [
              "<table class=\"dataframe\">\n",
              "<caption>A tibble: 6 x 13</caption>\n",
              "<thead>\n",
              "\t<tr><th scope=col>...1</th><th scope=col>manufacturer</th><th scope=col>model</th><th scope=col>displ</th><th scope=col>year</th><th scope=col>cyl</th><th scope=col>trans</th><th scope=col>drv</th><th scope=col>cty</th><th scope=col>hwy</th><th scope=col>fl</th><th scope=col>class</th><th scope=col>avg</th></tr>\n",
              "\t<tr><th scope=col>&lt;dbl&gt;</th><th scope=col>&lt;chr&gt;</th><th scope=col>&lt;chr&gt;</th><th scope=col>&lt;dbl&gt;</th><th scope=col>&lt;dbl&gt;</th><th scope=col>&lt;dbl&gt;</th><th scope=col>&lt;chr&gt;</th><th scope=col>&lt;chr&gt;</th><th scope=col>&lt;dbl&gt;</th><th scope=col>&lt;dbl&gt;</th><th scope=col>&lt;chr&gt;</th><th scope=col>&lt;chr&gt;</th><th scope=col>&lt;dbl&gt;</th></tr>\n",
              "</thead>\n",
              "<tbody>\n",
              "\t<tr><td>1</td><td>audi</td><td>a4</td><td>1.8</td><td>1999</td><td>4</td><td>auto(l5)  </td><td>f</td><td>7.578947</td><td>12.21053</td><td>p</td><td>compact</td><td> 9.894737</td></tr>\n",
              "\t<tr><td>2</td><td>audi</td><td>a4</td><td>1.8</td><td>1999</td><td>4</td><td>manual(m5)</td><td>f</td><td>8.842105</td><td>12.21053</td><td>p</td><td>compact</td><td>10.526316</td></tr>\n",
              "\t<tr><td>3</td><td>audi</td><td>a4</td><td>2.0</td><td>2008</td><td>4</td><td>manual(m6)</td><td>f</td><td>8.421053</td><td>13.05263</td><td>p</td><td>compact</td><td>10.736842</td></tr>\n",
              "\t<tr><td>4</td><td>audi</td><td>a4</td><td>2.0</td><td>2008</td><td>4</td><td>auto(av)  </td><td>f</td><td>8.842105</td><td>12.63158</td><td>p</td><td>compact</td><td>10.736842</td></tr>\n",
              "\t<tr><td>5</td><td>audi</td><td>a4</td><td>2.8</td><td>1999</td><td>6</td><td>auto(l5)  </td><td>f</td><td>6.736842</td><td>10.94737</td><td>p</td><td>compact</td><td> 8.842105</td></tr>\n",
              "\t<tr><td>6</td><td>audi</td><td>a4</td><td>2.8</td><td>1999</td><td>6</td><td>manual(m5)</td><td>f</td><td>7.578947</td><td>10.94737</td><td>p</td><td>compact</td><td> 9.263158</td></tr>\n",
              "</tbody>\n",
              "</table>\n"
            ],
            "text/latex": [
              "A tibble: 6 x 13\n",
              "\\begin{tabular}{lllllllllllll}\n",
              " ...1 & manufacturer & model & displ & year & cyl & trans & drv & cty & hwy & fl & class & avg\\\\\n",
              " <dbl> & <chr> & <chr> & <dbl> & <dbl> & <dbl> & <chr> & <chr> & <dbl> & <dbl> & <chr> & <chr> & <dbl>\\\\\n",
              "\\hline\n",
              "\t 1 & audi & a4 & 1.8 & 1999 & 4 & auto(l5)   & f & 7.578947 & 12.21053 & p & compact &  9.894737\\\\\n",
              "\t 2 & audi & a4 & 1.8 & 1999 & 4 & manual(m5) & f & 8.842105 & 12.21053 & p & compact & 10.526316\\\\\n",
              "\t 3 & audi & a4 & 2.0 & 2008 & 4 & manual(m6) & f & 8.421053 & 13.05263 & p & compact & 10.736842\\\\\n",
              "\t 4 & audi & a4 & 2.0 & 2008 & 4 & auto(av)   & f & 8.842105 & 12.63158 & p & compact & 10.736842\\\\\n",
              "\t 5 & audi & a4 & 2.8 & 1999 & 6 & auto(l5)   & f & 6.736842 & 10.94737 & p & compact &  8.842105\\\\\n",
              "\t 6 & audi & a4 & 2.8 & 1999 & 6 & manual(m5) & f & 7.578947 & 10.94737 & p & compact &  9.263158\\\\\n",
              "\\end{tabular}\n"
            ],
            "text/markdown": [
              "\n",
              "A tibble: 6 x 13\n",
              "\n",
              "| ...1 &lt;dbl&gt; | manufacturer &lt;chr&gt; | model &lt;chr&gt; | displ &lt;dbl&gt; | year &lt;dbl&gt; | cyl &lt;dbl&gt; | trans &lt;chr&gt; | drv &lt;chr&gt; | cty &lt;dbl&gt; | hwy &lt;dbl&gt; | fl &lt;chr&gt; | class &lt;chr&gt; | avg &lt;dbl&gt; |\n",
              "|---|---|---|---|---|---|---|---|---|---|---|---|---|\n",
              "| 1 | audi | a4 | 1.8 | 1999 | 4 | auto(l5)   | f | 7.578947 | 12.21053 | p | compact |  9.894737 |\n",
              "| 2 | audi | a4 | 1.8 | 1999 | 4 | manual(m5) | f | 8.842105 | 12.21053 | p | compact | 10.526316 |\n",
              "| 3 | audi | a4 | 2.0 | 2008 | 4 | manual(m6) | f | 8.421053 | 13.05263 | p | compact | 10.736842 |\n",
              "| 4 | audi | a4 | 2.0 | 2008 | 4 | auto(av)   | f | 8.842105 | 12.63158 | p | compact | 10.736842 |\n",
              "| 5 | audi | a4 | 2.8 | 1999 | 6 | auto(l5)   | f | 6.736842 | 10.94737 | p | compact |  8.842105 |\n",
              "| 6 | audi | a4 | 2.8 | 1999 | 6 | manual(m5) | f | 7.578947 | 10.94737 | p | compact |  9.263158 |\n",
              "\n"
            ],
            "text/plain": [
              "  ...1 manufacturer model displ year cyl trans      drv cty      hwy      fl\n",
              "1 1    audi         a4    1.8   1999 4   auto(l5)   f   7.578947 12.21053 p \n",
              "2 2    audi         a4    1.8   1999 4   manual(m5) f   8.842105 12.21053 p \n",
              "3 3    audi         a4    2.0   2008 4   manual(m6) f   8.421053 13.05263 p \n",
              "4 4    audi         a4    2.0   2008 4   auto(av)   f   8.842105 12.63158 p \n",
              "5 5    audi         a4    2.8   1999 6   auto(l5)   f   6.736842 10.94737 p \n",
              "6 6    audi         a4    2.8   1999 6   manual(m5) f   7.578947 10.94737 p \n",
              "  class   avg      \n",
              "1 compact  9.894737\n",
              "2 compact 10.526316\n",
              "3 compact 10.736842\n",
              "4 compact 10.736842\n",
              "5 compact  8.842105\n",
              "6 compact  9.263158"
            ]
          },
          "metadata": {},
          "output_type": "display_data"
        },
        {
          "name": "stdout",
          "output_type": "stream",
          "text": [
            "[1] \"----MUTATE----\"\n"
          ]
        },
        {
          "data": {
            "text/html": [
              "<table class=\"dataframe\">\n",
              "<caption>A tibble: 6 x 13</caption>\n",
              "<thead>\n",
              "\t<tr><th scope=col>...1</th><th scope=col>manufacturer</th><th scope=col>model</th><th scope=col>displ</th><th scope=col>year</th><th scope=col>cyl</th><th scope=col>trans</th><th scope=col>drv</th><th scope=col>cty</th><th scope=col>hwy</th><th scope=col>fl</th><th scope=col>class</th><th scope=col>avg</th></tr>\n",
              "\t<tr><th scope=col>&lt;dbl&gt;</th><th scope=col>&lt;chr&gt;</th><th scope=col>&lt;chr&gt;</th><th scope=col>&lt;dbl&gt;</th><th scope=col>&lt;dbl&gt;</th><th scope=col>&lt;dbl&gt;</th><th scope=col>&lt;chr&gt;</th><th scope=col>&lt;chr&gt;</th><th scope=col>&lt;dbl&gt;</th><th scope=col>&lt;dbl&gt;</th><th scope=col>&lt;chr&gt;</th><th scope=col>&lt;chr&gt;</th><th scope=col>&lt;dbl&gt;</th></tr>\n",
              "</thead>\n",
              "<tbody>\n",
              "\t<tr><td>1</td><td>audi</td><td>a4</td><td>1.8</td><td>1999</td><td>4</td><td>auto(l5)  </td><td>f</td><td>7.578947</td><td>12.21053</td><td>p</td><td>compact</td><td> 9.894737</td></tr>\n",
              "\t<tr><td>2</td><td>audi</td><td>a4</td><td>1.8</td><td>1999</td><td>4</td><td>manual(m5)</td><td>f</td><td>8.842105</td><td>12.21053</td><td>p</td><td>compact</td><td>10.526316</td></tr>\n",
              "\t<tr><td>3</td><td>audi</td><td>a4</td><td>2.0</td><td>2008</td><td>4</td><td>manual(m6)</td><td>f</td><td>8.421053</td><td>13.05263</td><td>p</td><td>compact</td><td>10.736842</td></tr>\n",
              "\t<tr><td>4</td><td>audi</td><td>a4</td><td>2.0</td><td>2008</td><td>4</td><td>auto(av)  </td><td>f</td><td>8.842105</td><td>12.63158</td><td>p</td><td>compact</td><td>10.736842</td></tr>\n",
              "\t<tr><td>5</td><td>audi</td><td>a4</td><td>2.8</td><td>1999</td><td>6</td><td>auto(l5)  </td><td>f</td><td>6.736842</td><td>10.94737</td><td>p</td><td>compact</td><td> 8.842105</td></tr>\n",
              "\t<tr><td>6</td><td>audi</td><td>a4</td><td>2.8</td><td>1999</td><td>6</td><td>manual(m5)</td><td>f</td><td>7.578947</td><td>10.94737</td><td>p</td><td>compact</td><td> 9.263158</td></tr>\n",
              "</tbody>\n",
              "</table>\n"
            ],
            "text/latex": [
              "A tibble: 6 x 13\n",
              "\\begin{tabular}{lllllllllllll}\n",
              " ...1 & manufacturer & model & displ & year & cyl & trans & drv & cty & hwy & fl & class & avg\\\\\n",
              " <dbl> & <chr> & <chr> & <dbl> & <dbl> & <dbl> & <chr> & <chr> & <dbl> & <dbl> & <chr> & <chr> & <dbl>\\\\\n",
              "\\hline\n",
              "\t 1 & audi & a4 & 1.8 & 1999 & 4 & auto(l5)   & f & 7.578947 & 12.21053 & p & compact &  9.894737\\\\\n",
              "\t 2 & audi & a4 & 1.8 & 1999 & 4 & manual(m5) & f & 8.842105 & 12.21053 & p & compact & 10.526316\\\\\n",
              "\t 3 & audi & a4 & 2.0 & 2008 & 4 & manual(m6) & f & 8.421053 & 13.05263 & p & compact & 10.736842\\\\\n",
              "\t 4 & audi & a4 & 2.0 & 2008 & 4 & auto(av)   & f & 8.842105 & 12.63158 & p & compact & 10.736842\\\\\n",
              "\t 5 & audi & a4 & 2.8 & 1999 & 6 & auto(l5)   & f & 6.736842 & 10.94737 & p & compact &  8.842105\\\\\n",
              "\t 6 & audi & a4 & 2.8 & 1999 & 6 & manual(m5) & f & 7.578947 & 10.94737 & p & compact &  9.263158\\\\\n",
              "\\end{tabular}\n"
            ],
            "text/markdown": [
              "\n",
              "A tibble: 6 x 13\n",
              "\n",
              "| ...1 &lt;dbl&gt; | manufacturer &lt;chr&gt; | model &lt;chr&gt; | displ &lt;dbl&gt; | year &lt;dbl&gt; | cyl &lt;dbl&gt; | trans &lt;chr&gt; | drv &lt;chr&gt; | cty &lt;dbl&gt; | hwy &lt;dbl&gt; | fl &lt;chr&gt; | class &lt;chr&gt; | avg &lt;dbl&gt; |\n",
              "|---|---|---|---|---|---|---|---|---|---|---|---|---|\n",
              "| 1 | audi | a4 | 1.8 | 1999 | 4 | auto(l5)   | f | 7.578947 | 12.21053 | p | compact |  9.894737 |\n",
              "| 2 | audi | a4 | 1.8 | 1999 | 4 | manual(m5) | f | 8.842105 | 12.21053 | p | compact | 10.526316 |\n",
              "| 3 | audi | a4 | 2.0 | 2008 | 4 | manual(m6) | f | 8.421053 | 13.05263 | p | compact | 10.736842 |\n",
              "| 4 | audi | a4 | 2.0 | 2008 | 4 | auto(av)   | f | 8.842105 | 12.63158 | p | compact | 10.736842 |\n",
              "| 5 | audi | a4 | 2.8 | 1999 | 6 | auto(l5)   | f | 6.736842 | 10.94737 | p | compact |  8.842105 |\n",
              "| 6 | audi | a4 | 2.8 | 1999 | 6 | manual(m5) | f | 7.578947 | 10.94737 | p | compact |  9.263158 |\n",
              "\n"
            ],
            "text/plain": [
              "  ...1 manufacturer model displ year cyl trans      drv cty      hwy      fl\n",
              "1 1    audi         a4    1.8   1999 4   auto(l5)   f   7.578947 12.21053 p \n",
              "2 2    audi         a4    1.8   1999 4   manual(m5) f   8.842105 12.21053 p \n",
              "3 3    audi         a4    2.0   2008 4   manual(m6) f   8.421053 13.05263 p \n",
              "4 4    audi         a4    2.0   2008 4   auto(av)   f   8.842105 12.63158 p \n",
              "5 5    audi         a4    2.8   1999 6   auto(l5)   f   6.736842 10.94737 p \n",
              "6 6    audi         a4    2.8   1999 6   manual(m5) f   7.578947 10.94737 p \n",
              "  class   avg      \n",
              "1 compact  9.894737\n",
              "2 compact 10.526316\n",
              "3 compact 10.736842\n",
              "4 compact 10.736842\n",
              "5 compact  8.842105\n",
              "6 compact  9.263158"
            ]
          },
          "metadata": {},
          "output_type": "display_data"
        },
        {
          "name": "stdout",
          "output_type": "stream",
          "text": [
            "[1] \"----SELECT----\"\n"
          ]
        },
        {
          "data": {
            "text/html": [
              "<table class=\"dataframe\">\n",
              "<caption>A tibble: 6 x 3</caption>\n",
              "<thead>\n",
              "\t<tr><th scope=col>year</th><th scope=col>manufacturer</th><th scope=col>avg</th></tr>\n",
              "\t<tr><th scope=col>&lt;dbl&gt;</th><th scope=col>&lt;chr&gt;</th><th scope=col>&lt;dbl&gt;</th></tr>\n",
              "</thead>\n",
              "<tbody>\n",
              "\t<tr><td>1999</td><td>audi</td><td> 9.894737</td></tr>\n",
              "\t<tr><td>1999</td><td>audi</td><td>10.526316</td></tr>\n",
              "\t<tr><td>2008</td><td>audi</td><td>10.736842</td></tr>\n",
              "\t<tr><td>2008</td><td>audi</td><td>10.736842</td></tr>\n",
              "\t<tr><td>1999</td><td>audi</td><td> 8.842105</td></tr>\n",
              "\t<tr><td>1999</td><td>audi</td><td> 9.263158</td></tr>\n",
              "</tbody>\n",
              "</table>\n"
            ],
            "text/latex": [
              "A tibble: 6 x 3\n",
              "\\begin{tabular}{lll}\n",
              " year & manufacturer & avg\\\\\n",
              " <dbl> & <chr> & <dbl>\\\\\n",
              "\\hline\n",
              "\t 1999 & audi &  9.894737\\\\\n",
              "\t 1999 & audi & 10.526316\\\\\n",
              "\t 2008 & audi & 10.736842\\\\\n",
              "\t 2008 & audi & 10.736842\\\\\n",
              "\t 1999 & audi &  8.842105\\\\\n",
              "\t 1999 & audi &  9.263158\\\\\n",
              "\\end{tabular}\n"
            ],
            "text/markdown": [
              "\n",
              "A tibble: 6 x 3\n",
              "\n",
              "| year &lt;dbl&gt; | manufacturer &lt;chr&gt; | avg &lt;dbl&gt; |\n",
              "|---|---|---|\n",
              "| 1999 | audi |  9.894737 |\n",
              "| 1999 | audi | 10.526316 |\n",
              "| 2008 | audi | 10.736842 |\n",
              "| 2008 | audi | 10.736842 |\n",
              "| 1999 | audi |  8.842105 |\n",
              "| 1999 | audi |  9.263158 |\n",
              "\n"
            ],
            "text/plain": [
              "  year manufacturer avg      \n",
              "1 1999 audi          9.894737\n",
              "2 1999 audi         10.526316\n",
              "3 2008 audi         10.736842\n",
              "4 2008 audi         10.736842\n",
              "5 1999 audi          8.842105\n",
              "6 1999 audi          9.263158"
            ]
          },
          "metadata": {},
          "output_type": "display_data"
        },
        {
          "name": "stdout",
          "output_type": "stream",
          "text": [
            "[1] \"----FILTER----\"\n"
          ]
        },
        {
          "data": {
            "text/html": [
              "<table class=\"dataframe\">\n",
              "<caption>A tibble: 6 x 13</caption>\n",
              "<thead>\n",
              "\t<tr><th scope=col>...1</th><th scope=col>manufacturer</th><th scope=col>model</th><th scope=col>displ</th><th scope=col>year</th><th scope=col>cyl</th><th scope=col>trans</th><th scope=col>drv</th><th scope=col>cty</th><th scope=col>hwy</th><th scope=col>fl</th><th scope=col>class</th><th scope=col>avg</th></tr>\n",
              "\t<tr><th scope=col>&lt;dbl&gt;</th><th scope=col>&lt;chr&gt;</th><th scope=col>&lt;chr&gt;</th><th scope=col>&lt;dbl&gt;</th><th scope=col>&lt;dbl&gt;</th><th scope=col>&lt;dbl&gt;</th><th scope=col>&lt;chr&gt;</th><th scope=col>&lt;chr&gt;</th><th scope=col>&lt;dbl&gt;</th><th scope=col>&lt;dbl&gt;</th><th scope=col>&lt;chr&gt;</th><th scope=col>&lt;chr&gt;</th><th scope=col>&lt;dbl&gt;</th></tr>\n",
              "</thead>\n",
              "<tbody>\n",
              "\t<tr><td>1</td><td>audi</td><td>a4</td><td>1.8</td><td>1999</td><td>4</td><td>auto(l5)  </td><td>f</td><td>7.578947</td><td>12.21053</td><td>p</td><td>compact</td><td> 9.894737</td></tr>\n",
              "\t<tr><td>2</td><td>audi</td><td>a4</td><td>1.8</td><td>1999</td><td>4</td><td>manual(m5)</td><td>f</td><td>8.842105</td><td>12.21053</td><td>p</td><td>compact</td><td>10.526316</td></tr>\n",
              "\t<tr><td>3</td><td>audi</td><td>a4</td><td>2.0</td><td>2008</td><td>4</td><td>manual(m6)</td><td>f</td><td>8.421053</td><td>13.05263</td><td>p</td><td>compact</td><td>10.736842</td></tr>\n",
              "\t<tr><td>4</td><td>audi</td><td>a4</td><td>2.0</td><td>2008</td><td>4</td><td>auto(av)  </td><td>f</td><td>8.842105</td><td>12.63158</td><td>p</td><td>compact</td><td>10.736842</td></tr>\n",
              "\t<tr><td>5</td><td>audi</td><td>a4</td><td>2.8</td><td>1999</td><td>6</td><td>auto(l5)  </td><td>f</td><td>6.736842</td><td>10.94737</td><td>p</td><td>compact</td><td> 8.842105</td></tr>\n",
              "\t<tr><td>6</td><td>audi</td><td>a4</td><td>2.8</td><td>1999</td><td>6</td><td>manual(m5)</td><td>f</td><td>7.578947</td><td>10.94737</td><td>p</td><td>compact</td><td> 9.263158</td></tr>\n",
              "</tbody>\n",
              "</table>\n"
            ],
            "text/latex": [
              "A tibble: 6 x 13\n",
              "\\begin{tabular}{lllllllllllll}\n",
              " ...1 & manufacturer & model & displ & year & cyl & trans & drv & cty & hwy & fl & class & avg\\\\\n",
              " <dbl> & <chr> & <chr> & <dbl> & <dbl> & <dbl> & <chr> & <chr> & <dbl> & <dbl> & <chr> & <chr> & <dbl>\\\\\n",
              "\\hline\n",
              "\t 1 & audi & a4 & 1.8 & 1999 & 4 & auto(l5)   & f & 7.578947 & 12.21053 & p & compact &  9.894737\\\\\n",
              "\t 2 & audi & a4 & 1.8 & 1999 & 4 & manual(m5) & f & 8.842105 & 12.21053 & p & compact & 10.526316\\\\\n",
              "\t 3 & audi & a4 & 2.0 & 2008 & 4 & manual(m6) & f & 8.421053 & 13.05263 & p & compact & 10.736842\\\\\n",
              "\t 4 & audi & a4 & 2.0 & 2008 & 4 & auto(av)   & f & 8.842105 & 12.63158 & p & compact & 10.736842\\\\\n",
              "\t 5 & audi & a4 & 2.8 & 1999 & 6 & auto(l5)   & f & 6.736842 & 10.94737 & p & compact &  8.842105\\\\\n",
              "\t 6 & audi & a4 & 2.8 & 1999 & 6 & manual(m5) & f & 7.578947 & 10.94737 & p & compact &  9.263158\\\\\n",
              "\\end{tabular}\n"
            ],
            "text/markdown": [
              "\n",
              "A tibble: 6 x 13\n",
              "\n",
              "| ...1 &lt;dbl&gt; | manufacturer &lt;chr&gt; | model &lt;chr&gt; | displ &lt;dbl&gt; | year &lt;dbl&gt; | cyl &lt;dbl&gt; | trans &lt;chr&gt; | drv &lt;chr&gt; | cty &lt;dbl&gt; | hwy &lt;dbl&gt; | fl &lt;chr&gt; | class &lt;chr&gt; | avg &lt;dbl&gt; |\n",
              "|---|---|---|---|---|---|---|---|---|---|---|---|---|\n",
              "| 1 | audi | a4 | 1.8 | 1999 | 4 | auto(l5)   | f | 7.578947 | 12.21053 | p | compact |  9.894737 |\n",
              "| 2 | audi | a4 | 1.8 | 1999 | 4 | manual(m5) | f | 8.842105 | 12.21053 | p | compact | 10.526316 |\n",
              "| 3 | audi | a4 | 2.0 | 2008 | 4 | manual(m6) | f | 8.421053 | 13.05263 | p | compact | 10.736842 |\n",
              "| 4 | audi | a4 | 2.0 | 2008 | 4 | auto(av)   | f | 8.842105 | 12.63158 | p | compact | 10.736842 |\n",
              "| 5 | audi | a4 | 2.8 | 1999 | 6 | auto(l5)   | f | 6.736842 | 10.94737 | p | compact |  8.842105 |\n",
              "| 6 | audi | a4 | 2.8 | 1999 | 6 | manual(m5) | f | 7.578947 | 10.94737 | p | compact |  9.263158 |\n",
              "\n"
            ],
            "text/plain": [
              "  ...1 manufacturer model displ year cyl trans      drv cty      hwy      fl\n",
              "1 1    audi         a4    1.8   1999 4   auto(l5)   f   7.578947 12.21053 p \n",
              "2 2    audi         a4    1.8   1999 4   manual(m5) f   8.842105 12.21053 p \n",
              "3 3    audi         a4    2.0   2008 4   manual(m6) f   8.421053 13.05263 p \n",
              "4 4    audi         a4    2.0   2008 4   auto(av)   f   8.842105 12.63158 p \n",
              "5 5    audi         a4    2.8   1999 6   auto(l5)   f   6.736842 10.94737 p \n",
              "6 6    audi         a4    2.8   1999 6   manual(m5) f   7.578947 10.94737 p \n",
              "  class   avg      \n",
              "1 compact  9.894737\n",
              "2 compact 10.526316\n",
              "3 compact 10.736842\n",
              "4 compact 10.736842\n",
              "5 compact  8.842105\n",
              "6 compact  9.263158"
            ]
          },
          "metadata": {},
          "output_type": "display_data"
        },
        {
          "name": "stdout",
          "output_type": "stream",
          "text": [
            "[1] \"----ARRANGE----\"\n"
          ]
        },
        {
          "data": {
            "text/html": [
              "<table class=\"dataframe\">\n",
              "<caption>A tibble: 6 x 13</caption>\n",
              "<thead>\n",
              "\t<tr><th scope=col>...1</th><th scope=col>manufacturer</th><th scope=col>model</th><th scope=col>displ</th><th scope=col>year</th><th scope=col>cyl</th><th scope=col>trans</th><th scope=col>drv</th><th scope=col>cty</th><th scope=col>hwy</th><th scope=col>fl</th><th scope=col>class</th><th scope=col>avg</th></tr>\n",
              "\t<tr><th scope=col>&lt;dbl&gt;</th><th scope=col>&lt;chr&gt;</th><th scope=col>&lt;chr&gt;</th><th scope=col>&lt;dbl&gt;</th><th scope=col>&lt;dbl&gt;</th><th scope=col>&lt;dbl&gt;</th><th scope=col>&lt;chr&gt;</th><th scope=col>&lt;chr&gt;</th><th scope=col>&lt;dbl&gt;</th><th scope=col>&lt;dbl&gt;</th><th scope=col>&lt;chr&gt;</th><th scope=col>&lt;chr&gt;</th><th scope=col>&lt;dbl&gt;</th></tr>\n",
              "</thead>\n",
              "<tbody>\n",
              "\t<tr><td> 3</td><td>audi</td><td>a4        </td><td>2.0</td><td>2008</td><td>4</td><td>manual(m6)</td><td>f</td><td>8.421053</td><td>13.05263</td><td>p</td><td>compact</td><td>10.736842</td></tr>\n",
              "\t<tr><td> 4</td><td>audi</td><td>a4        </td><td>2.0</td><td>2008</td><td>4</td><td>auto(av)  </td><td>f</td><td>8.842105</td><td>12.63158</td><td>p</td><td>compact</td><td>10.736842</td></tr>\n",
              "\t<tr><td> 7</td><td>audi</td><td>a4        </td><td>3.1</td><td>2008</td><td>6</td><td>auto(av)  </td><td>f</td><td>7.578947</td><td>11.36842</td><td>p</td><td>compact</td><td> 9.473684</td></tr>\n",
              "\t<tr><td>10</td><td>audi</td><td>a4 quattro</td><td>2.0</td><td>2008</td><td>4</td><td>manual(m6)</td><td>4</td><td>8.421053</td><td>11.78947</td><td>p</td><td>compact</td><td>10.105263</td></tr>\n",
              "\t<tr><td>11</td><td>audi</td><td>a4 quattro</td><td>2.0</td><td>2008</td><td>4</td><td>auto(s6)  </td><td>4</td><td>8.000000</td><td>11.36842</td><td>p</td><td>compact</td><td> 9.684211</td></tr>\n",
              "\t<tr><td>14</td><td>audi</td><td>a4 quattro</td><td>3.1</td><td>2008</td><td>6</td><td>auto(s6)  </td><td>4</td><td>7.157895</td><td>10.52632</td><td>p</td><td>compact</td><td> 8.842105</td></tr>\n",
              "</tbody>\n",
              "</table>\n"
            ],
            "text/latex": [
              "A tibble: 6 x 13\n",
              "\\begin{tabular}{lllllllllllll}\n",
              " ...1 & manufacturer & model & displ & year & cyl & trans & drv & cty & hwy & fl & class & avg\\\\\n",
              " <dbl> & <chr> & <chr> & <dbl> & <dbl> & <dbl> & <chr> & <chr> & <dbl> & <dbl> & <chr> & <chr> & <dbl>\\\\\n",
              "\\hline\n",
              "\t  3 & audi & a4         & 2.0 & 2008 & 4 & manual(m6) & f & 8.421053 & 13.05263 & p & compact & 10.736842\\\\\n",
              "\t  4 & audi & a4         & 2.0 & 2008 & 4 & auto(av)   & f & 8.842105 & 12.63158 & p & compact & 10.736842\\\\\n",
              "\t  7 & audi & a4         & 3.1 & 2008 & 6 & auto(av)   & f & 7.578947 & 11.36842 & p & compact &  9.473684\\\\\n",
              "\t 10 & audi & a4 quattro & 2.0 & 2008 & 4 & manual(m6) & 4 & 8.421053 & 11.78947 & p & compact & 10.105263\\\\\n",
              "\t 11 & audi & a4 quattro & 2.0 & 2008 & 4 & auto(s6)   & 4 & 8.000000 & 11.36842 & p & compact &  9.684211\\\\\n",
              "\t 14 & audi & a4 quattro & 3.1 & 2008 & 6 & auto(s6)   & 4 & 7.157895 & 10.52632 & p & compact &  8.842105\\\\\n",
              "\\end{tabular}\n"
            ],
            "text/markdown": [
              "\n",
              "A tibble: 6 x 13\n",
              "\n",
              "| ...1 &lt;dbl&gt; | manufacturer &lt;chr&gt; | model &lt;chr&gt; | displ &lt;dbl&gt; | year &lt;dbl&gt; | cyl &lt;dbl&gt; | trans &lt;chr&gt; | drv &lt;chr&gt; | cty &lt;dbl&gt; | hwy &lt;dbl&gt; | fl &lt;chr&gt; | class &lt;chr&gt; | avg &lt;dbl&gt; |\n",
              "|---|---|---|---|---|---|---|---|---|---|---|---|---|\n",
              "|  3 | audi | a4         | 2.0 | 2008 | 4 | manual(m6) | f | 8.421053 | 13.05263 | p | compact | 10.736842 |\n",
              "|  4 | audi | a4         | 2.0 | 2008 | 4 | auto(av)   | f | 8.842105 | 12.63158 | p | compact | 10.736842 |\n",
              "|  7 | audi | a4         | 3.1 | 2008 | 6 | auto(av)   | f | 7.578947 | 11.36842 | p | compact |  9.473684 |\n",
              "| 10 | audi | a4 quattro | 2.0 | 2008 | 4 | manual(m6) | 4 | 8.421053 | 11.78947 | p | compact | 10.105263 |\n",
              "| 11 | audi | a4 quattro | 2.0 | 2008 | 4 | auto(s6)   | 4 | 8.000000 | 11.36842 | p | compact |  9.684211 |\n",
              "| 14 | audi | a4 quattro | 3.1 | 2008 | 6 | auto(s6)   | 4 | 7.157895 | 10.52632 | p | compact |  8.842105 |\n",
              "\n"
            ],
            "text/plain": [
              "  ...1 manufacturer model      displ year cyl trans      drv cty      hwy     \n",
              "1  3   audi         a4         2.0   2008 4   manual(m6) f   8.421053 13.05263\n",
              "2  4   audi         a4         2.0   2008 4   auto(av)   f   8.842105 12.63158\n",
              "3  7   audi         a4         3.1   2008 6   auto(av)   f   7.578947 11.36842\n",
              "4 10   audi         a4 quattro 2.0   2008 4   manual(m6) 4   8.421053 11.78947\n",
              "5 11   audi         a4 quattro 2.0   2008 4   auto(s6)   4   8.000000 11.36842\n",
              "6 14   audi         a4 quattro 3.1   2008 6   auto(s6)   4   7.157895 10.52632\n",
              "  fl class   avg      \n",
              "1 p  compact 10.736842\n",
              "2 p  compact 10.736842\n",
              "3 p  compact  9.473684\n",
              "4 p  compact 10.105263\n",
              "5 p  compact  9.684211\n",
              "6 p  compact  8.842105"
            ]
          },
          "metadata": {},
          "output_type": "display_data"
        },
        {
          "name": "stdout",
          "output_type": "stream",
          "text": [
            "[1] \"----FILTER THEN ARRANGE----\"\n"
          ]
        },
        {
          "data": {
            "text/html": [
              "<table class=\"dataframe\">\n",
              "<caption>A tibble: 3 x 13</caption>\n",
              "<thead>\n",
              "\t<tr><th scope=col>...1</th><th scope=col>manufacturer</th><th scope=col>model</th><th scope=col>displ</th><th scope=col>year</th><th scope=col>cyl</th><th scope=col>trans</th><th scope=col>drv</th><th scope=col>cty</th><th scope=col>hwy</th><th scope=col>fl</th><th scope=col>class</th><th scope=col>avg</th></tr>\n",
              "\t<tr><th scope=col>&lt;dbl&gt;</th><th scope=col>&lt;chr&gt;</th><th scope=col>&lt;chr&gt;</th><th scope=col>&lt;dbl&gt;</th><th scope=col>&lt;dbl&gt;</th><th scope=col>&lt;dbl&gt;</th><th scope=col>&lt;chr&gt;</th><th scope=col>&lt;chr&gt;</th><th scope=col>&lt;dbl&gt;</th><th scope=col>&lt;dbl&gt;</th><th scope=col>&lt;chr&gt;</th><th scope=col>&lt;chr&gt;</th><th scope=col>&lt;dbl&gt;</th></tr>\n",
              "</thead>\n",
              "<tbody>\n",
              "\t<tr><td>3</td><td>audi</td><td>a4</td><td>2.0</td><td>2008</td><td>4</td><td>manual(m6)</td><td>f</td><td>8.421053</td><td>13.05263</td><td>p</td><td>compact</td><td>10.736842</td></tr>\n",
              "\t<tr><td>4</td><td>audi</td><td>a4</td><td>2.0</td><td>2008</td><td>4</td><td>auto(av)  </td><td>f</td><td>8.842105</td><td>12.63158</td><td>p</td><td>compact</td><td>10.736842</td></tr>\n",
              "\t<tr><td>7</td><td>audi</td><td>a4</td><td>3.1</td><td>2008</td><td>6</td><td>auto(av)  </td><td>f</td><td>7.578947</td><td>11.36842</td><td>p</td><td>compact</td><td> 9.473684</td></tr>\n",
              "</tbody>\n",
              "</table>\n"
            ],
            "text/latex": [
              "A tibble: 3 x 13\n",
              "\\begin{tabular}{lllllllllllll}\n",
              " ...1 & manufacturer & model & displ & year & cyl & trans & drv & cty & hwy & fl & class & avg\\\\\n",
              " <dbl> & <chr> & <chr> & <dbl> & <dbl> & <dbl> & <chr> & <chr> & <dbl> & <dbl> & <chr> & <chr> & <dbl>\\\\\n",
              "\\hline\n",
              "\t 3 & audi & a4 & 2.0 & 2008 & 4 & manual(m6) & f & 8.421053 & 13.05263 & p & compact & 10.736842\\\\\n",
              "\t 4 & audi & a4 & 2.0 & 2008 & 4 & auto(av)   & f & 8.842105 & 12.63158 & p & compact & 10.736842\\\\\n",
              "\t 7 & audi & a4 & 3.1 & 2008 & 6 & auto(av)   & f & 7.578947 & 11.36842 & p & compact &  9.473684\\\\\n",
              "\\end{tabular}\n"
            ],
            "text/markdown": [
              "\n",
              "A tibble: 3 x 13\n",
              "\n",
              "| ...1 &lt;dbl&gt; | manufacturer &lt;chr&gt; | model &lt;chr&gt; | displ &lt;dbl&gt; | year &lt;dbl&gt; | cyl &lt;dbl&gt; | trans &lt;chr&gt; | drv &lt;chr&gt; | cty &lt;dbl&gt; | hwy &lt;dbl&gt; | fl &lt;chr&gt; | class &lt;chr&gt; | avg &lt;dbl&gt; |\n",
              "|---|---|---|---|---|---|---|---|---|---|---|---|---|\n",
              "| 3 | audi | a4 | 2.0 | 2008 | 4 | manual(m6) | f | 8.421053 | 13.05263 | p | compact | 10.736842 |\n",
              "| 4 | audi | a4 | 2.0 | 2008 | 4 | auto(av)   | f | 8.842105 | 12.63158 | p | compact | 10.736842 |\n",
              "| 7 | audi | a4 | 3.1 | 2008 | 6 | auto(av)   | f | 7.578947 | 11.36842 | p | compact |  9.473684 |\n",
              "\n"
            ],
            "text/plain": [
              "  ...1 manufacturer model displ year cyl trans      drv cty      hwy      fl\n",
              "1 3    audi         a4    2.0   2008 4   manual(m6) f   8.421053 13.05263 p \n",
              "2 4    audi         a4    2.0   2008 4   auto(av)   f   8.842105 12.63158 p \n",
              "3 7    audi         a4    3.1   2008 6   auto(av)   f   7.578947 11.36842 p \n",
              "  class   avg      \n",
              "1 compact 10.736842\n",
              "2 compact 10.736842\n",
              "3 compact  9.473684"
            ]
          },
          "metadata": {},
          "output_type": "display_data"
        },
        {
          "data": {
            "text/html": [
              "<table class=\"dataframe\">\n",
              "<caption>A tibble: 3 x 13</caption>\n",
              "<thead>\n",
              "\t<tr><th scope=col>...1</th><th scope=col>manufacturer</th><th scope=col>model</th><th scope=col>displ</th><th scope=col>year</th><th scope=col>cyl</th><th scope=col>trans</th><th scope=col>drv</th><th scope=col>cty</th><th scope=col>hwy</th><th scope=col>fl</th><th scope=col>class</th><th scope=col>avg</th></tr>\n",
              "\t<tr><th scope=col>&lt;dbl&gt;</th><th scope=col>&lt;chr&gt;</th><th scope=col>&lt;fct&gt;</th><th scope=col>&lt;dbl&gt;</th><th scope=col>&lt;dbl&gt;</th><th scope=col>&lt;dbl&gt;</th><th scope=col>&lt;chr&gt;</th><th scope=col>&lt;chr&gt;</th><th scope=col>&lt;dbl&gt;</th><th scope=col>&lt;dbl&gt;</th><th scope=col>&lt;chr&gt;</th><th scope=col>&lt;chr&gt;</th><th scope=col>&lt;dbl&gt;</th></tr>\n",
              "</thead>\n",
              "<tbody>\n",
              "\t<tr><td>3</td><td>audi</td><td>a4</td><td>2.0</td><td>2008</td><td>4</td><td>manual(m6)</td><td>f</td><td>8.421053</td><td>13.05263</td><td>p</td><td>compact</td><td>10.736842</td></tr>\n",
              "\t<tr><td>4</td><td>audi</td><td>a4</td><td>2.0</td><td>2008</td><td>4</td><td>auto(av)  </td><td>f</td><td>8.842105</td><td>12.63158</td><td>p</td><td>compact</td><td>10.736842</td></tr>\n",
              "\t<tr><td>7</td><td>audi</td><td>a4</td><td>3.1</td><td>2008</td><td>6</td><td>auto(av)  </td><td>f</td><td>7.578947</td><td>11.36842</td><td>p</td><td>compact</td><td> 9.473684</td></tr>\n",
              "</tbody>\n",
              "</table>\n"
            ],
            "text/latex": [
              "A tibble: 3 x 13\n",
              "\\begin{tabular}{lllllllllllll}\n",
              " ...1 & manufacturer & model & displ & year & cyl & trans & drv & cty & hwy & fl & class & avg\\\\\n",
              " <dbl> & <chr> & <fct> & <dbl> & <dbl> & <dbl> & <chr> & <chr> & <dbl> & <dbl> & <chr> & <chr> & <dbl>\\\\\n",
              "\\hline\n",
              "\t 3 & audi & a4 & 2.0 & 2008 & 4 & manual(m6) & f & 8.421053 & 13.05263 & p & compact & 10.736842\\\\\n",
              "\t 4 & audi & a4 & 2.0 & 2008 & 4 & auto(av)   & f & 8.842105 & 12.63158 & p & compact & 10.736842\\\\\n",
              "\t 7 & audi & a4 & 3.1 & 2008 & 6 & auto(av)   & f & 7.578947 & 11.36842 & p & compact &  9.473684\\\\\n",
              "\\end{tabular}\n"
            ],
            "text/markdown": [
              "\n",
              "A tibble: 3 x 13\n",
              "\n",
              "| ...1 &lt;dbl&gt; | manufacturer &lt;chr&gt; | model &lt;fct&gt; | displ &lt;dbl&gt; | year &lt;dbl&gt; | cyl &lt;dbl&gt; | trans &lt;chr&gt; | drv &lt;chr&gt; | cty &lt;dbl&gt; | hwy &lt;dbl&gt; | fl &lt;chr&gt; | class &lt;chr&gt; | avg &lt;dbl&gt; |\n",
              "|---|---|---|---|---|---|---|---|---|---|---|---|---|\n",
              "| 3 | audi | a4 | 2.0 | 2008 | 4 | manual(m6) | f | 8.421053 | 13.05263 | p | compact | 10.736842 |\n",
              "| 4 | audi | a4 | 2.0 | 2008 | 4 | auto(av)   | f | 8.842105 | 12.63158 | p | compact | 10.736842 |\n",
              "| 7 | audi | a4 | 3.1 | 2008 | 6 | auto(av)   | f | 7.578947 | 11.36842 | p | compact |  9.473684 |\n",
              "\n"
            ],
            "text/plain": [
              "  ...1 manufacturer model displ year cyl trans      drv cty      hwy      fl\n",
              "1 3    audi         a4    2.0   2008 4   manual(m6) f   8.421053 13.05263 p \n",
              "2 4    audi         a4    2.0   2008 4   auto(av)   f   8.842105 12.63158 p \n",
              "3 7    audi         a4    3.1   2008 6   auto(av)   f   7.578947 11.36842 p \n",
              "  class   avg      \n",
              "1 compact 10.736842\n",
              "2 compact 10.736842\n",
              "3 compact  9.473684"
            ]
          },
          "metadata": {},
          "output_type": "display_data"
        }
      ],
      "source": [
        "#NOTES:\n",
        "\n",
        "# %>% (similar to | in linux) is called the forward pipe operator in R.\n",
        "# It provides a mechanism \n",
        "# for chaining commands with a new forward-pipe operator, %>%. \n",
        "# This operator will forward a value, or the result of an expression,\n",
        "# into the next function call/expression.\n",
        "# It is defined by the package magrittr (CRAN) and is heavily used by dplyr (CRAN).\n",
        "\n",
        "\n",
        "#DEFINITIONS\n",
        "# MUTATE  = TRANSFORM A COLUMN WITH SOME FUNCTION\n",
        "# SELECT  = SELECT SOME COLUMNS IN THE DATA\n",
        "# FILTER  = KEEP ONLY ROWS THAT MEET SOME DATA CRITERION\n",
        "# ARRANGE = ORDER THE DATA FRAME BY VALUES OF A COLUMN(S)\n",
        "\n",
        "#CONVERSION\n",
        "# CONVERT THE CITY AND HIGHWAY FUEL \n",
        "# EFFICIENCY TO KM/L, AND\n",
        "# FIND AVERAGE FUEL EFFICIENCY\n",
        "# 1 mile=1.60934KM\n",
        "# 1 gallon=3.7854 liter\n",
        "\n",
        "\n",
        "#-----------------------------\n",
        "print(\"----READ----\")\n",
        "#-----------------------------\n",
        "mpg1 <- read_csv('data/mpg.csv')\n",
        "head(mpg1)\n",
        "\n",
        "#-----------------------------\n",
        "print(\"----MUTATE----\")\n",
        "#-----------------------------\n",
        "# OPTION-1: SEND MPG TO MUTATE\n",
        " mpg2 <- mutate(mpg1, cty = cty * 1.6/3.8,\n",
        "         hwy = hwy * 1.6/3.8, \n",
        "         avg = (cty + hwy)/2)\n",
        "head(mpg2); #print(mpg2['avg'])\n",
        "\n",
        "#-----------------------------\n",
        "print(\"----MUTATE----\")\n",
        "#-----------------------------\n",
        "#OPTION-2: PIPE MPG INTO MUTATE \n",
        "mpg1 <- mpg1 %>% mutate(cty = cty * 1.6/3.8,\n",
        "         hwy = hwy * 1.6/3.8, \n",
        "         avg = (cty + hwy)/2)\n",
        "head(mpg1)\n",
        "\n",
        "#-----------------------------\n",
        "print(\"----SELECT----\")\n",
        "#-----------------------------\n",
        "mpg2 <- mpg1 %>% select(year, manufacturer, avg)\n",
        "head(mpg2)\n",
        "\n",
        "#-----------------------------\n",
        "print(\"----FILTER----\")  \n",
        "#-----------------------------\n",
        "mpg2 <- mpg1 %>% filter(manufacturer=='audi')\n",
        "head(mpg2)\n",
        "\n",
        "#-----------------------------\n",
        "print(\"----ARRANGE----\")  \n",
        "#-----------------------------\n",
        "mpg2 <-mpg1 %>% arrange(-year)\n",
        "head(mpg2)\n",
        "\n",
        "#-----------------------------\n",
        "print(\"----FILTER THEN ARRANGE----\")  \n",
        "#-----------------------------\n",
        "#CHAIN TOGETHER \n",
        "mpg2 <-mpg1 %>% filter(manufacturer=='audi') %>% arrange(-year)  \n",
        "head(mpg2,3)\n",
        "\n",
        "#-----------------------------\n",
        "#CONVERT TO FACTOR \n",
        "#-----------------------------\n",
        "mpg2['model']=as.factor(mpg2$model)\n",
        "head(mpg2,3)"
      ]
    },
    {
      "cell_type": "markdown",
      "metadata": {},
      "source": [
        "## Melting and pivoting "
      ]
    },
    {
      "cell_type": "code",
      "execution_count": 13,
      "metadata": {
        "vscode": {
          "languageId": "r"
        }
      },
      "outputs": [
        {
          "name": "stderr",
          "output_type": "stream",
          "text": [
            "\u001b[1mRows: \u001b[22m\u001b[34m18\u001b[39m \u001b[1mColumns: \u001b[22m\u001b[34m11\u001b[39m\n",
            "\u001b[36m--\u001b[39m \u001b[1mColumn specification\u001b[22m \u001b[36m--------------------------------------------------------\u001b[39m\n",
            "\u001b[1mDelimiter:\u001b[22m \",\"\n",
            "\u001b[31mchr\u001b[39m  (1): religion\n",
            "\u001b[32mdbl\u001b[39m (10): <$10k, $10-20k, $20-30k, $30-40k, $40-50k, $50-75k, $75-100k, $100...\n",
            "\n",
            "\u001b[36mi\u001b[39m Use `spec()` to retrieve the full column specification for this data.\n",
            "\u001b[36mi\u001b[39m Specify the column types or set `show_col_types = FALSE` to quiet this message.\n"
          ]
        },
        {
          "name": "stdout",
          "output_type": "stream",
          "text": [
            "\u001b[90m# A tibble: 18 x 11\u001b[39m\n",
            "   religion      `<$10k` $10-2~1 $20-3~2 $30-4~3 $40-5~4 $50-7~5 $75-1~6 $100-~7\n",
            "   \u001b[3m\u001b[90m<chr>\u001b[39m\u001b[23m           \u001b[3m\u001b[90m<dbl>\u001b[39m\u001b[23m   \u001b[3m\u001b[90m<dbl>\u001b[39m\u001b[23m   \u001b[3m\u001b[90m<dbl>\u001b[39m\u001b[23m   \u001b[3m\u001b[90m<dbl>\u001b[39m\u001b[23m   \u001b[3m\u001b[90m<dbl>\u001b[39m\u001b[23m   \u001b[3m\u001b[90m<dbl>\u001b[39m\u001b[23m   \u001b[3m\u001b[90m<dbl>\u001b[39m\u001b[23m   \u001b[3m\u001b[90m<dbl>\u001b[39m\u001b[23m\n",
            "\u001b[90m 1\u001b[39m \u001b[90m\"\u001b[39mAgnostic\u001b[90m\"\u001b[39m         27      34      60      81      76     137     122     109\n",
            "\u001b[90m 2\u001b[39m \u001b[90m\"\u001b[39mAtheist\u001b[90m\"\u001b[39m          12      27      37      52      35      70      73      59\n",
            "\u001b[90m 3\u001b[39m \u001b[90m\"\u001b[39mBuddhist\u001b[90m\"\u001b[39m         27      21      30      34      33      58      62      39\n",
            "\u001b[90m 4\u001b[39m \u001b[90m\"\u001b[39mCatholic\u001b[90m\"\u001b[39m        418     617     732     670     638    \u001b[4m1\u001b[24m116     949     792\n",
            "\u001b[90m 5\u001b[39m \u001b[90m\"\u001b[39mDon\\u2019t ~      15      14      15      11      10      35      21      17\n",
            "\u001b[90m 6\u001b[39m \u001b[90m\"\u001b[39mEvangelical~     575     869    \u001b[4m1\u001b[24m064     982     881    \u001b[4m1\u001b[24m486     949     723\n",
            "\u001b[90m 7\u001b[39m \u001b[90m\"\u001b[39mHindu\u001b[90m\"\u001b[39m             1       9       7       9      11      34      47      48\n",
            "\u001b[90m 8\u001b[39m \u001b[90m\"\u001b[39mHistoricall~     228     244     236     238     197     223     131      81\n",
            "\u001b[90m 9\u001b[39m \u001b[90m\"\u001b[39mJehovah's W~      20      27      24      24      21      30      15      11\n",
            "\u001b[90m10\u001b[39m \u001b[90m\"\u001b[39mJewish\u001b[90m\"\u001b[39m           19      19      25      25      30      95      69      87\n",
            "\u001b[90m11\u001b[39m \u001b[90m\"\u001b[39mMainline Pr~     289     495     619     655     651    \u001b[4m1\u001b[24m107     939     753\n",
            "\u001b[90m12\u001b[39m \u001b[90m\"\u001b[39mMormon\u001b[90m\"\u001b[39m           29      40      48      51      56     112      85      49\n",
            "\u001b[90m13\u001b[39m \u001b[90m\"\u001b[39mMuslim\u001b[90m\"\u001b[39m            6       7       9      10       9      23      16       8\n",
            "\u001b[90m14\u001b[39m \u001b[90m\"\u001b[39mOrthodox\u001b[90m\"\u001b[39m         13      17      23      32      32      47      38      42\n",
            "\u001b[90m15\u001b[39m \u001b[90m\"\u001b[39mOther Chris~       9       7      11      13      13      14      18      14\n",
            "\u001b[90m16\u001b[39m \u001b[90m\"\u001b[39mOther Faith~      20      33      40      46      49      63      46      40\n",
            "\u001b[90m17\u001b[39m \u001b[90m\"\u001b[39mOther World~       5       2       3       4       2       7       3       4\n",
            "\u001b[90m18\u001b[39m \u001b[90m\"\u001b[39mUnaffiliate~     217     299     374     365     341     528     407     321\n",
            "\u001b[90m# ... with 2 more variables: `>150k` <dbl>, `Don't know/refused` <dbl>, and\u001b[39m\n",
            "\u001b[90m#   abbreviated variable names 1: `$10-20k`, 2: `$20-30k`, 3: `$30-40k`,\u001b[39m\n",
            "\u001b[90m#   4: `$40-50k`, 5: `$50-75k`, 6: `$75-100k`, 7: `$100-150k`\u001b[39m\n",
            "\u001b[90m# A tibble: 180 x 3\u001b[39m\n",
            "   religion income_groups      counts\n",
            "   \u001b[3m\u001b[90m<chr>\u001b[39m\u001b[23m    \u001b[3m\u001b[90m<chr>\u001b[39m\u001b[23m               \u001b[3m\u001b[90m<dbl>\u001b[39m\u001b[23m\n",
            "\u001b[90m 1\u001b[39m Agnostic <$10k                  27\n",
            "\u001b[90m 2\u001b[39m Agnostic $10-20k                34\n",
            "\u001b[90m 3\u001b[39m Agnostic $20-30k                60\n",
            "\u001b[90m 4\u001b[39m Agnostic $30-40k                81\n",
            "\u001b[90m 5\u001b[39m Agnostic $40-50k                76\n",
            "\u001b[90m 6\u001b[39m Agnostic $50-75k               137\n",
            "\u001b[90m 7\u001b[39m Agnostic $75-100k              122\n",
            "\u001b[90m 8\u001b[39m Agnostic $100-150k             109\n",
            "\u001b[90m 9\u001b[39m Agnostic >150k                  84\n",
            "\u001b[90m10\u001b[39m Agnostic Don't know/refused     96\n",
            "\u001b[90m# ... with 170 more rows\u001b[39m\n"
          ]
        },
        {
          "data": {
            "text/html": [
              "<table class=\"dataframe\">\n",
              "<caption>A tibble: 2 x 11</caption>\n",
              "<thead>\n",
              "\t<tr><th scope=col>religion</th><th scope=col>&lt;$10k</th><th scope=col>$10-20k</th><th scope=col>$20-30k</th><th scope=col>$30-40k</th><th scope=col>$40-50k</th><th scope=col>$50-75k</th><th scope=col>$75-100k</th><th scope=col>$100-150k</th><th scope=col>&gt;150k</th><th scope=col>Don't know/refused</th></tr>\n",
              "\t<tr><th scope=col>&lt;chr&gt;</th><th scope=col>&lt;dbl&gt;</th><th scope=col>&lt;dbl&gt;</th><th scope=col>&lt;dbl&gt;</th><th scope=col>&lt;dbl&gt;</th><th scope=col>&lt;dbl&gt;</th><th scope=col>&lt;dbl&gt;</th><th scope=col>&lt;dbl&gt;</th><th scope=col>&lt;dbl&gt;</th><th scope=col>&lt;dbl&gt;</th><th scope=col>&lt;dbl&gt;</th></tr>\n",
              "</thead>\n",
              "<tbody>\n",
              "\t<tr><td>Agnostic</td><td>27</td><td>34</td><td>60</td><td>81</td><td>76</td><td>137</td><td>122</td><td>109</td><td>84</td><td>96</td></tr>\n",
              "\t<tr><td>Atheist </td><td>12</td><td>27</td><td>37</td><td>52</td><td>35</td><td> 70</td><td> 73</td><td> 59</td><td>74</td><td>76</td></tr>\n",
              "</tbody>\n",
              "</table>\n"
            ],
            "text/latex": [
              "A tibble: 2 x 11\n",
              "\\begin{tabular}{lllllllllll}\n",
              " religion & <\\$10k & \\$10-20k & \\$20-30k & \\$30-40k & \\$40-50k & \\$50-75k & \\$75-100k & \\$100-150k & >150k & Don't know/refused\\\\\n",
              " <chr> & <dbl> & <dbl> & <dbl> & <dbl> & <dbl> & <dbl> & <dbl> & <dbl> & <dbl> & <dbl>\\\\\n",
              "\\hline\n",
              "\t Agnostic & 27 & 34 & 60 & 81 & 76 & 137 & 122 & 109 & 84 & 96\\\\\n",
              "\t Atheist  & 12 & 27 & 37 & 52 & 35 &  70 &  73 &  59 & 74 & 76\\\\\n",
              "\\end{tabular}\n"
            ],
            "text/markdown": [
              "\n",
              "A tibble: 2 x 11\n",
              "\n",
              "| religion &lt;chr&gt; | &lt;$10k &lt;dbl&gt; | $10-20k &lt;dbl&gt; | $20-30k &lt;dbl&gt; | $30-40k &lt;dbl&gt; | $40-50k &lt;dbl&gt; | $50-75k &lt;dbl&gt; | $75-100k &lt;dbl&gt; | $100-150k &lt;dbl&gt; | &gt;150k &lt;dbl&gt; | Don't know/refused &lt;dbl&gt; |\n",
              "|---|---|---|---|---|---|---|---|---|---|---|\n",
              "| Agnostic | 27 | 34 | 60 | 81 | 76 | 137 | 122 | 109 | 84 | 96 |\n",
              "| Atheist  | 12 | 27 | 37 | 52 | 35 |  70 |  73 |  59 | 74 | 76 |\n",
              "\n"
            ],
            "text/plain": [
              "  religion <$10k $10-20k $20-30k $30-40k $40-50k $50-75k $75-100k $100-150k\n",
              "1 Agnostic 27    34      60      81      76      137     122      109      \n",
              "2 Atheist  12    27      37      52      35       70      73       59      \n",
              "  >150k Don't know/refused\n",
              "1 84    96                \n",
              "2 74    76                "
            ]
          },
          "metadata": {},
          "output_type": "display_data"
        }
      ],
      "source": [
        "pew <- read_csv('data/pew.csv')\n",
        "print(pew)\n",
        "\n",
        "# WE NEED TO MELT THIS DATASET TO MAKE IT TIDY\n",
        "pew1 <- pew %>% pivot_longer(cols = c(-religion), names_to = 'income_groups', values_to = 'counts')\n",
        "print(pew1)\n",
        "\n",
        "# There is a difference in row-order between the R and Python solutions.\n",
        "# R sorts by the id variable(s), Python sorts on the column containing\n",
        "# the old column headers. Analytically, this can be fixed, and is often not important for visualization.\n",
        "\n",
        "\n",
        "#WE REVERSE THIS PROCESS BY PIVOTING THE DATA SET\n",
        "pew2 <- pew1 %>% pivot_wider(id_cols = c(religion), names_from = 'income_groups', values_from = 'counts')\n",
        "head(pew2,2)"
      ]
    },
    {
      "cell_type": "markdown",
      "metadata": {},
      "source": [
        "## Splitting"
      ]
    },
    {
      "cell_type": "code",
      "execution_count": 14,
      "metadata": {
        "vscode": {
          "languageId": "r"
        }
      },
      "outputs": [
        {
          "name": "stderr",
          "output_type": "stream",
          "text": [
            "\u001b[1mRows: \u001b[22m\u001b[34m3000\u001b[39m \u001b[1mColumns: \u001b[22m\u001b[34m16\u001b[39m\n",
            "\u001b[36m--\u001b[39m \u001b[1mColumn specification\u001b[22m \u001b[36m--------------------------------------------------------\u001b[39m\n",
            "\u001b[1mDelimiter:\u001b[22m \",\"\n",
            "\u001b[31mchr\u001b[39m  (1): iso2\n",
            "\u001b[32mdbl\u001b[39m (15): year, m014, m1524, m2534, m3544, m4554, m5564, m65, f014, f1524, f...\n",
            "\n",
            "\u001b[36mi\u001b[39m Use `spec()` to retrieve the full column specification for this data.\n",
            "\u001b[36mi\u001b[39m Specify the column types or set `show_col_types = FALSE` to quiet this message.\n"
          ]
        },
        {
          "name": "stdout",
          "output_type": "stream",
          "text": [
            "[1] \"ORIGINAL\"\n"
          ]
        },
        {
          "data": {
            "text/html": [
              "<table class=\"dataframe\">\n",
              "<caption>A tibble: 3 x 16</caption>\n",
              "<thead>\n",
              "\t<tr><th scope=col>iso2</th><th scope=col>year</th><th scope=col>m014</th><th scope=col>m1524</th><th scope=col>m2534</th><th scope=col>m3544</th><th scope=col>m4554</th><th scope=col>m5564</th><th scope=col>m65</th><th scope=col>f014</th><th scope=col>f1524</th><th scope=col>f2534</th><th scope=col>f3544</th><th scope=col>f4554</th><th scope=col>f5564</th><th scope=col>f65</th></tr>\n",
              "\t<tr><th scope=col>&lt;chr&gt;</th><th scope=col>&lt;dbl&gt;</th><th scope=col>&lt;dbl&gt;</th><th scope=col>&lt;dbl&gt;</th><th scope=col>&lt;dbl&gt;</th><th scope=col>&lt;dbl&gt;</th><th scope=col>&lt;dbl&gt;</th><th scope=col>&lt;dbl&gt;</th><th scope=col>&lt;dbl&gt;</th><th scope=col>&lt;dbl&gt;</th><th scope=col>&lt;dbl&gt;</th><th scope=col>&lt;dbl&gt;</th><th scope=col>&lt;dbl&gt;</th><th scope=col>&lt;dbl&gt;</th><th scope=col>&lt;dbl&gt;</th><th scope=col>&lt;dbl&gt;</th></tr>\n",
              "</thead>\n",
              "<tbody>\n",
              "\t<tr><td>AF</td><td>2000</td><td> 52</td><td>228</td><td>183</td><td>149</td><td>129</td><td> 94</td><td> 80</td><td> 93</td><td> 414</td><td> 565</td><td>339</td><td>205</td><td> 99</td><td> 36</td></tr>\n",
              "\t<tr><td>AF</td><td>2001</td><td>129</td><td>379</td><td>349</td><td>274</td><td>204</td><td>139</td><td>103</td><td>146</td><td> 799</td><td> 888</td><td>586</td><td>375</td><td>179</td><td> 89</td></tr>\n",
              "\t<tr><td>AF</td><td>2002</td><td> 90</td><td>476</td><td>481</td><td>368</td><td>246</td><td>241</td><td>189</td><td>192</td><td>1119</td><td>1251</td><td>792</td><td>526</td><td>320</td><td>218</td></tr>\n",
              "</tbody>\n",
              "</table>\n"
            ],
            "text/latex": [
              "A tibble: 3 x 16\n",
              "\\begin{tabular}{llllllllllllllll}\n",
              " iso2 & year & m014 & m1524 & m2534 & m3544 & m4554 & m5564 & m65 & f014 & f1524 & f2534 & f3544 & f4554 & f5564 & f65\\\\\n",
              " <chr> & <dbl> & <dbl> & <dbl> & <dbl> & <dbl> & <dbl> & <dbl> & <dbl> & <dbl> & <dbl> & <dbl> & <dbl> & <dbl> & <dbl> & <dbl>\\\\\n",
              "\\hline\n",
              "\t AF & 2000 &  52 & 228 & 183 & 149 & 129 &  94 &  80 &  93 &  414 &  565 & 339 & 205 &  99 &  36\\\\\n",
              "\t AF & 2001 & 129 & 379 & 349 & 274 & 204 & 139 & 103 & 146 &  799 &  888 & 586 & 375 & 179 &  89\\\\\n",
              "\t AF & 2002 &  90 & 476 & 481 & 368 & 246 & 241 & 189 & 192 & 1119 & 1251 & 792 & 526 & 320 & 218\\\\\n",
              "\\end{tabular}\n"
            ],
            "text/markdown": [
              "\n",
              "A tibble: 3 x 16\n",
              "\n",
              "| iso2 &lt;chr&gt; | year &lt;dbl&gt; | m014 &lt;dbl&gt; | m1524 &lt;dbl&gt; | m2534 &lt;dbl&gt; | m3544 &lt;dbl&gt; | m4554 &lt;dbl&gt; | m5564 &lt;dbl&gt; | m65 &lt;dbl&gt; | f014 &lt;dbl&gt; | f1524 &lt;dbl&gt; | f2534 &lt;dbl&gt; | f3544 &lt;dbl&gt; | f4554 &lt;dbl&gt; | f5564 &lt;dbl&gt; | f65 &lt;dbl&gt; |\n",
              "|---|---|---|---|---|---|---|---|---|---|---|---|---|---|---|---|\n",
              "| AF | 2000 |  52 | 228 | 183 | 149 | 129 |  94 |  80 |  93 |  414 |  565 | 339 | 205 |  99 |  36 |\n",
              "| AF | 2001 | 129 | 379 | 349 | 274 | 204 | 139 | 103 | 146 |  799 |  888 | 586 | 375 | 179 |  89 |\n",
              "| AF | 2002 |  90 | 476 | 481 | 368 | 246 | 241 | 189 | 192 | 1119 | 1251 | 792 | 526 | 320 | 218 |\n",
              "\n"
            ],
            "text/plain": [
              "  iso2 year m014 m1524 m2534 m3544 m4554 m5564 m65 f014 f1524 f2534 f3544 f4554\n",
              "1 AF   2000  52  228   183   149   129    94    80  93   414   565  339   205  \n",
              "2 AF   2001 129  379   349   274   204   139   103 146   799   888  586   375  \n",
              "3 AF   2002  90  476   481   368   246   241   189 192  1119  1251  792   526  \n",
              "  f5564 f65\n",
              "1  99    36\n",
              "2 179    89\n",
              "3 320   218"
            ]
          },
          "metadata": {},
          "output_type": "display_data"
        },
        {
          "name": "stdout",
          "output_type": "stream",
          "text": [
            "[1] \"AFTER MELT\"\n"
          ]
        },
        {
          "data": {
            "text/html": [
              "<table class=\"dataframe\">\n",
              "<caption>A tibble: 3 x 4</caption>\n",
              "<thead>\n",
              "\t<tr><th scope=col>iso2</th><th scope=col>year</th><th scope=col>demo</th><th scope=col>counts</th></tr>\n",
              "\t<tr><th scope=col>&lt;chr&gt;</th><th scope=col>&lt;dbl&gt;</th><th scope=col>&lt;chr&gt;</th><th scope=col>&lt;dbl&gt;</th></tr>\n",
              "</thead>\n",
              "<tbody>\n",
              "\t<tr><td>AF</td><td>2000</td><td>m014 </td><td> 52</td></tr>\n",
              "\t<tr><td>AF</td><td>2000</td><td>m1524</td><td>228</td></tr>\n",
              "\t<tr><td>AF</td><td>2000</td><td>m2534</td><td>183</td></tr>\n",
              "</tbody>\n",
              "</table>\n"
            ],
            "text/latex": [
              "A tibble: 3 x 4\n",
              "\\begin{tabular}{llll}\n",
              " iso2 & year & demo & counts\\\\\n",
              " <chr> & <dbl> & <chr> & <dbl>\\\\\n",
              "\\hline\n",
              "\t AF & 2000 & m014  &  52\\\\\n",
              "\t AF & 2000 & m1524 & 228\\\\\n",
              "\t AF & 2000 & m2534 & 183\\\\\n",
              "\\end{tabular}\n"
            ],
            "text/markdown": [
              "\n",
              "A tibble: 3 x 4\n",
              "\n",
              "| iso2 &lt;chr&gt; | year &lt;dbl&gt; | demo &lt;chr&gt; | counts &lt;dbl&gt; |\n",
              "|---|---|---|---|\n",
              "| AF | 2000 | m014  |  52 |\n",
              "| AF | 2000 | m1524 | 228 |\n",
              "| AF | 2000 | m2534 | 183 |\n",
              "\n"
            ],
            "text/plain": [
              "  iso2 year demo  counts\n",
              "1 AF   2000 m014   52   \n",
              "2 AF   2000 m1524 228   \n",
              "3 AF   2000 m2534 183   "
            ]
          },
          "metadata": {},
          "output_type": "display_data"
        },
        {
          "name": "stdout",
          "output_type": "stream",
          "text": [
            "[1] \"AFTER SPLIT \"\n",
            "\u001b[90m# A tibble: 3 x 5\u001b[39m\n",
            "  iso2   year gender age   counts\n",
            "  \u001b[3m\u001b[90m<chr>\u001b[39m\u001b[23m \u001b[3m\u001b[90m<dbl>\u001b[39m\u001b[23m \u001b[3m\u001b[90m<chr>\u001b[39m\u001b[23m  \u001b[3m\u001b[90m<chr>\u001b[39m\u001b[23m  \u001b[3m\u001b[90m<dbl>\u001b[39m\u001b[23m\n",
            "\u001b[90m1\u001b[39m AF     \u001b[4m2\u001b[24m000 m      014       52\n",
            "\u001b[90m2\u001b[39m AF     \u001b[4m2\u001b[24m000 m      1524     228\n",
            "\u001b[90m3\u001b[39m AF     \u001b[4m2\u001b[24m000 m      2534     183\n"
          ]
        }
      ],
      "source": [
        "#READ\n",
        "tb <- read_csv('data/tb.csv')\n",
        "print(\"ORIGINAL\")\n",
        "head(tb, 3)\n",
        "\n",
        "#MELT\n",
        "tb1 <- tb %>% pivot_longer(cols=m014:f65, names_to='demo', values_to='counts')\n",
        "print(\"AFTER MELT\")\n",
        "head(tb1, 3)\n",
        "\n",
        "#SPLIT\n",
        "tb2 <- tb1 %>% separate(demo, c('gender','age'), sep = 1)\n",
        "print(\"AFTER SPLIT \")\n",
        "print(head(tb2, 3))\n",
        "\n",
        "# TB <-  read_csv('data/tb1.csv') %>% \n",
        "#   pivot_longer(cols = starts_with('new'),names_to='demo', values_to='counts')\n",
        "# head(TB, 3)\n",
        "\n",
        "# TB1 <- TB %>% extract(demo, c('type','gender','age'),  regex = 'new[_]*([a-z]+)_([mf])([0-9]+$)')\n",
        "# head(TB1)"
      ]
    }
  ],
  "metadata": {
    "kernelspec": {
      "display_name": "R",
      "language": "R",
      "name": "ir"
    },
    "language_info": {
      "codemirror_mode": "r",
      "file_extension": ".r",
      "mimetype": "text/x-r-source",
      "name": "R",
      "pygments_lexer": "r",
      "version": "4.2.2"
    }
  },
  "nbformat": 4,
  "nbformat_minor": 4
}
